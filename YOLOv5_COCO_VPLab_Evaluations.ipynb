{
  "nbformat": 4,
  "nbformat_minor": 0,
  "metadata": {
    "colab": {
      "name": "YOLOv5-VPLab-Performance.ipynb",
      "provenance": [],
      "collapsed_sections": [
        "hM6greQHNHq-",
        "d4EqQPruN4I2",
        "Phnr1EnIlRKK",
        "-OB5tRR1e41U",
        "dVoKy5TYfxhL",
        "0Aa6WPnEl-Pt",
        "QNktaeKgl-Pz",
        "eAhhwwnZl-P4",
        "XUcWUF3jl-P9",
        "Gl2Tpo8RjDq9",
        "ukBXUQ0hf3sJ",
        "BohLPaRQgNOk",
        "aJOH6i5ri0zY",
        "c3FprWGqeQJY"
      ]
    },
    "kernelspec": {
      "display_name": "Python 3",
      "name": "python3"
    },
    "language_info": {
      "name": "python"
    },
    "widgets": {
      "application/vnd.jupyter.widget-state+json": {
        "f580e9e6e1a04af084a7cc89cf738fe7": {
          "model_module": "@jupyter-widgets/controls",
          "model_name": "HBoxModel",
          "model_module_version": "1.5.0",
          "state": {
            "_dom_classes": [],
            "_model_module": "@jupyter-widgets/controls",
            "_model_module_version": "1.5.0",
            "_model_name": "HBoxModel",
            "_view_count": null,
            "_view_module": "@jupyter-widgets/controls",
            "_view_module_version": "1.5.0",
            "_view_name": "HBoxView",
            "box_style": "",
            "children": [
              "IPY_MODEL_54df3f642d2b42728034e1909b142a35",
              "IPY_MODEL_ad7f76e713ee4aa7b1517216dcf845b1",
              "IPY_MODEL_ec53450328354c6ebd7deb2fceccbe9c"
            ],
            "layout": "IPY_MODEL_c91a93531ab74121b972b5531dd2da9b"
          }
        },
        "54df3f642d2b42728034e1909b142a35": {
          "model_module": "@jupyter-widgets/controls",
          "model_name": "HTMLModel",
          "model_module_version": "1.5.0",
          "state": {
            "_dom_classes": [],
            "_model_module": "@jupyter-widgets/controls",
            "_model_module_version": "1.5.0",
            "_model_name": "HTMLModel",
            "_view_count": null,
            "_view_module": "@jupyter-widgets/controls",
            "_view_module_version": "1.5.0",
            "_view_name": "HTMLView",
            "description": "",
            "description_tooltip": null,
            "layout": "IPY_MODEL_09be2b1e89604575a917296b4e8f0543",
            "placeholder": "​",
            "style": "IPY_MODEL_c475e8ec0b5e4ac3b08cab32d68f387d",
            "value": "100%"
          }
        },
        "ad7f76e713ee4aa7b1517216dcf845b1": {
          "model_module": "@jupyter-widgets/controls",
          "model_name": "FloatProgressModel",
          "model_module_version": "1.5.0",
          "state": {
            "_dom_classes": [],
            "_model_module": "@jupyter-widgets/controls",
            "_model_module_version": "1.5.0",
            "_model_name": "FloatProgressModel",
            "_view_count": null,
            "_view_module": "@jupyter-widgets/controls",
            "_view_module_version": "1.5.0",
            "_view_name": "ProgressView",
            "bar_style": "success",
            "description": "",
            "description_tooltip": null,
            "layout": "IPY_MODEL_191d3be3d8fa4adea5dff6566f63cffc",
            "max": 174025507,
            "min": 0,
            "orientation": "horizontal",
            "style": "IPY_MODEL_844b385cc9cc4e599a32d756b860d869",
            "value": 174025507
          }
        },
        "ec53450328354c6ebd7deb2fceccbe9c": {
          "model_module": "@jupyter-widgets/controls",
          "model_name": "HTMLModel",
          "model_module_version": "1.5.0",
          "state": {
            "_dom_classes": [],
            "_model_module": "@jupyter-widgets/controls",
            "_model_module_version": "1.5.0",
            "_model_name": "HTMLModel",
            "_view_count": null,
            "_view_module": "@jupyter-widgets/controls",
            "_view_module_version": "1.5.0",
            "_view_name": "HTMLView",
            "description": "",
            "description_tooltip": null,
            "layout": "IPY_MODEL_b150167ffa094ff6b04cfffb10f3e37b",
            "placeholder": "​",
            "style": "IPY_MODEL_a68aa660ccae424db14445d2e8ec2127",
            "value": " 166M/166M [00:01&lt;00:00, 102MB/s]"
          }
        },
        "c91a93531ab74121b972b5531dd2da9b": {
          "model_module": "@jupyter-widgets/base",
          "model_name": "LayoutModel",
          "model_module_version": "1.2.0",
          "state": {
            "_model_module": "@jupyter-widgets/base",
            "_model_module_version": "1.2.0",
            "_model_name": "LayoutModel",
            "_view_count": null,
            "_view_module": "@jupyter-widgets/base",
            "_view_module_version": "1.2.0",
            "_view_name": "LayoutView",
            "align_content": null,
            "align_items": null,
            "align_self": null,
            "border": null,
            "bottom": null,
            "display": null,
            "flex": null,
            "flex_flow": null,
            "grid_area": null,
            "grid_auto_columns": null,
            "grid_auto_flow": null,
            "grid_auto_rows": null,
            "grid_column": null,
            "grid_gap": null,
            "grid_row": null,
            "grid_template_areas": null,
            "grid_template_columns": null,
            "grid_template_rows": null,
            "height": null,
            "justify_content": null,
            "justify_items": null,
            "left": null,
            "margin": null,
            "max_height": null,
            "max_width": null,
            "min_height": null,
            "min_width": null,
            "object_fit": null,
            "object_position": null,
            "order": null,
            "overflow": null,
            "overflow_x": null,
            "overflow_y": null,
            "padding": null,
            "right": null,
            "top": null,
            "visibility": null,
            "width": null
          }
        },
        "09be2b1e89604575a917296b4e8f0543": {
          "model_module": "@jupyter-widgets/base",
          "model_name": "LayoutModel",
          "model_module_version": "1.2.0",
          "state": {
            "_model_module": "@jupyter-widgets/base",
            "_model_module_version": "1.2.0",
            "_model_name": "LayoutModel",
            "_view_count": null,
            "_view_module": "@jupyter-widgets/base",
            "_view_module_version": "1.2.0",
            "_view_name": "LayoutView",
            "align_content": null,
            "align_items": null,
            "align_self": null,
            "border": null,
            "bottom": null,
            "display": null,
            "flex": null,
            "flex_flow": null,
            "grid_area": null,
            "grid_auto_columns": null,
            "grid_auto_flow": null,
            "grid_auto_rows": null,
            "grid_column": null,
            "grid_gap": null,
            "grid_row": null,
            "grid_template_areas": null,
            "grid_template_columns": null,
            "grid_template_rows": null,
            "height": null,
            "justify_content": null,
            "justify_items": null,
            "left": null,
            "margin": null,
            "max_height": null,
            "max_width": null,
            "min_height": null,
            "min_width": null,
            "object_fit": null,
            "object_position": null,
            "order": null,
            "overflow": null,
            "overflow_x": null,
            "overflow_y": null,
            "padding": null,
            "right": null,
            "top": null,
            "visibility": null,
            "width": null
          }
        },
        "c475e8ec0b5e4ac3b08cab32d68f387d": {
          "model_module": "@jupyter-widgets/controls",
          "model_name": "DescriptionStyleModel",
          "model_module_version": "1.5.0",
          "state": {
            "_model_module": "@jupyter-widgets/controls",
            "_model_module_version": "1.5.0",
            "_model_name": "DescriptionStyleModel",
            "_view_count": null,
            "_view_module": "@jupyter-widgets/base",
            "_view_module_version": "1.2.0",
            "_view_name": "StyleView",
            "description_width": ""
          }
        },
        "191d3be3d8fa4adea5dff6566f63cffc": {
          "model_module": "@jupyter-widgets/base",
          "model_name": "LayoutModel",
          "model_module_version": "1.2.0",
          "state": {
            "_model_module": "@jupyter-widgets/base",
            "_model_module_version": "1.2.0",
            "_model_name": "LayoutModel",
            "_view_count": null,
            "_view_module": "@jupyter-widgets/base",
            "_view_module_version": "1.2.0",
            "_view_name": "LayoutView",
            "align_content": null,
            "align_items": null,
            "align_self": null,
            "border": null,
            "bottom": null,
            "display": null,
            "flex": null,
            "flex_flow": null,
            "grid_area": null,
            "grid_auto_columns": null,
            "grid_auto_flow": null,
            "grid_auto_rows": null,
            "grid_column": null,
            "grid_gap": null,
            "grid_row": null,
            "grid_template_areas": null,
            "grid_template_columns": null,
            "grid_template_rows": null,
            "height": null,
            "justify_content": null,
            "justify_items": null,
            "left": null,
            "margin": null,
            "max_height": null,
            "max_width": null,
            "min_height": null,
            "min_width": null,
            "object_fit": null,
            "object_position": null,
            "order": null,
            "overflow": null,
            "overflow_x": null,
            "overflow_y": null,
            "padding": null,
            "right": null,
            "top": null,
            "visibility": null,
            "width": null
          }
        },
        "844b385cc9cc4e599a32d756b860d869": {
          "model_module": "@jupyter-widgets/controls",
          "model_name": "ProgressStyleModel",
          "model_module_version": "1.5.0",
          "state": {
            "_model_module": "@jupyter-widgets/controls",
            "_model_module_version": "1.5.0",
            "_model_name": "ProgressStyleModel",
            "_view_count": null,
            "_view_module": "@jupyter-widgets/base",
            "_view_module_version": "1.2.0",
            "_view_name": "StyleView",
            "bar_color": null,
            "description_width": ""
          }
        },
        "b150167ffa094ff6b04cfffb10f3e37b": {
          "model_module": "@jupyter-widgets/base",
          "model_name": "LayoutModel",
          "model_module_version": "1.2.0",
          "state": {
            "_model_module": "@jupyter-widgets/base",
            "_model_module_version": "1.2.0",
            "_model_name": "LayoutModel",
            "_view_count": null,
            "_view_module": "@jupyter-widgets/base",
            "_view_module_version": "1.2.0",
            "_view_name": "LayoutView",
            "align_content": null,
            "align_items": null,
            "align_self": null,
            "border": null,
            "bottom": null,
            "display": null,
            "flex": null,
            "flex_flow": null,
            "grid_area": null,
            "grid_auto_columns": null,
            "grid_auto_flow": null,
            "grid_auto_rows": null,
            "grid_column": null,
            "grid_gap": null,
            "grid_row": null,
            "grid_template_areas": null,
            "grid_template_columns": null,
            "grid_template_rows": null,
            "height": null,
            "justify_content": null,
            "justify_items": null,
            "left": null,
            "margin": null,
            "max_height": null,
            "max_width": null,
            "min_height": null,
            "min_width": null,
            "object_fit": null,
            "object_position": null,
            "order": null,
            "overflow": null,
            "overflow_x": null,
            "overflow_y": null,
            "padding": null,
            "right": null,
            "top": null,
            "visibility": null,
            "width": null
          }
        },
        "a68aa660ccae424db14445d2e8ec2127": {
          "model_module": "@jupyter-widgets/controls",
          "model_name": "DescriptionStyleModel",
          "model_module_version": "1.5.0",
          "state": {
            "_model_module": "@jupyter-widgets/controls",
            "_model_module_version": "1.5.0",
            "_model_name": "DescriptionStyleModel",
            "_view_count": null,
            "_view_module": "@jupyter-widgets/base",
            "_view_module_version": "1.2.0",
            "_view_name": "StyleView",
            "description_width": ""
          }
        }
      }
    }
  },
  "cells": [
    {
      "cell_type": "markdown",
      "metadata": {
        "id": "8EgedcdgjeVz"
      },
      "source": [
        "#Evaluating VPLab Dataset on Pretrained YOLOv5x\n",
        "---\n",
        "DONT RUN WHOLE NOTEBOOK AT ONCE.\n",
        "\n",
        "YOU WONT BE ABLE TO SEE EVERY FIFTYONE WIDGET AND ALSO YOU MAY NOT WANT TO RUN THE DATA EXPORT SECTION"
      ]
    },
    {
      "cell_type": "markdown",
      "metadata": {
        "id": "hM6greQHNHq-"
      },
      "source": [
        "### Importing Dependencies"
      ]
    },
    {
      "cell_type": "code",
      "metadata": {
        "colab": {
          "base_uri": "https://localhost:8080/"
        },
        "id": "E-mMtTd9PuRD",
        "outputId": "d5f99887-7cd5-46a2-f23d-379edb3c16aa"
      },
      "source": [
        "!pip install fiftyone"
      ],
      "execution_count": null,
      "outputs": [
        {
          "name": "stdout",
          "output_type": "stream",
          "text": [
            "Collecting fiftyone\n",
            "  Downloading fiftyone-0.14.2-py3-none-any.whl (1.2 MB)\n",
            "\u001b[?25l\r\u001b[K     |▎                               | 10 kB 5.0 MB/s eta 0:00:01\r\u001b[K     |▌                               | 20 kB 5.2 MB/s eta 0:00:01\r\u001b[K     |▉                               | 30 kB 5.3 MB/s eta 0:00:01\r\u001b[K     |█                               | 40 kB 4.5 MB/s eta 0:00:01\r\u001b[K     |█▍                              | 51 kB 4.1 MB/s eta 0:00:01\r\u001b[K     |█▋                              | 61 kB 4.6 MB/s eta 0:00:01\r\u001b[K     |██                              | 71 kB 4.7 MB/s eta 0:00:01\r\u001b[K     |██▏                             | 81 kB 5.3 MB/s eta 0:00:01\r\u001b[K     |██▌                             | 92 kB 5.4 MB/s eta 0:00:01\r\u001b[K     |██▊                             | 102 kB 4.4 MB/s eta 0:00:01\r\u001b[K     |███                             | 112 kB 4.4 MB/s eta 0:00:01\r\u001b[K     |███▎                            | 122 kB 4.4 MB/s eta 0:00:01\r\u001b[K     |███▌                            | 133 kB 4.4 MB/s eta 0:00:01\r\u001b[K     |███▉                            | 143 kB 4.4 MB/s eta 0:00:01\r\u001b[K     |████                            | 153 kB 4.4 MB/s eta 0:00:01\r\u001b[K     |████▍                           | 163 kB 4.4 MB/s eta 0:00:01\r\u001b[K     |████▋                           | 174 kB 4.4 MB/s eta 0:00:01\r\u001b[K     |█████                           | 184 kB 4.4 MB/s eta 0:00:01\r\u001b[K     |█████▏                          | 194 kB 4.4 MB/s eta 0:00:01\r\u001b[K     |█████▍                          | 204 kB 4.4 MB/s eta 0:00:01\r\u001b[K     |█████▊                          | 215 kB 4.4 MB/s eta 0:00:01\r\u001b[K     |██████                          | 225 kB 4.4 MB/s eta 0:00:01\r\u001b[K     |██████▎                         | 235 kB 4.4 MB/s eta 0:00:01\r\u001b[K     |██████▌                         | 245 kB 4.4 MB/s eta 0:00:01\r\u001b[K     |██████▉                         | 256 kB 4.4 MB/s eta 0:00:01\r\u001b[K     |███████                         | 266 kB 4.4 MB/s eta 0:00:01\r\u001b[K     |███████▍                        | 276 kB 4.4 MB/s eta 0:00:01\r\u001b[K     |███████▋                        | 286 kB 4.4 MB/s eta 0:00:01\r\u001b[K     |███████▉                        | 296 kB 4.4 MB/s eta 0:00:01\r\u001b[K     |████████▏                       | 307 kB 4.4 MB/s eta 0:00:01\r\u001b[K     |████████▍                       | 317 kB 4.4 MB/s eta 0:00:01\r\u001b[K     |████████▊                       | 327 kB 4.4 MB/s eta 0:00:01\r\u001b[K     |█████████                       | 337 kB 4.4 MB/s eta 0:00:01\r\u001b[K     |█████████▎                      | 348 kB 4.4 MB/s eta 0:00:01\r\u001b[K     |█████████▌                      | 358 kB 4.4 MB/s eta 0:00:01\r\u001b[K     |█████████▉                      | 368 kB 4.4 MB/s eta 0:00:01\r\u001b[K     |██████████                      | 378 kB 4.4 MB/s eta 0:00:01\r\u001b[K     |██████████▍                     | 389 kB 4.4 MB/s eta 0:00:01\r\u001b[K     |██████████▋                     | 399 kB 4.4 MB/s eta 0:00:01\r\u001b[K     |██████████▉                     | 409 kB 4.4 MB/s eta 0:00:01\r\u001b[K     |███████████▏                    | 419 kB 4.4 MB/s eta 0:00:01\r\u001b[K     |███████████▍                    | 430 kB 4.4 MB/s eta 0:00:01\r\u001b[K     |███████████▊                    | 440 kB 4.4 MB/s eta 0:00:01\r\u001b[K     |████████████                    | 450 kB 4.4 MB/s eta 0:00:01\r\u001b[K     |████████████▎                   | 460 kB 4.4 MB/s eta 0:00:01\r\u001b[K     |████████████▌                   | 471 kB 4.4 MB/s eta 0:00:01\r\u001b[K     |████████████▉                   | 481 kB 4.4 MB/s eta 0:00:01\r\u001b[K     |█████████████                   | 491 kB 4.4 MB/s eta 0:00:01\r\u001b[K     |█████████████▎                  | 501 kB 4.4 MB/s eta 0:00:01\r\u001b[K     |█████████████▋                  | 512 kB 4.4 MB/s eta 0:00:01\r\u001b[K     |█████████████▉                  | 522 kB 4.4 MB/s eta 0:00:01\r\u001b[K     |██████████████▏                 | 532 kB 4.4 MB/s eta 0:00:01\r\u001b[K     |██████████████▍                 | 542 kB 4.4 MB/s eta 0:00:01\r\u001b[K     |██████████████▊                 | 552 kB 4.4 MB/s eta 0:00:01\r\u001b[K     |███████████████                 | 563 kB 4.4 MB/s eta 0:00:01\r\u001b[K     |███████████████▎                | 573 kB 4.4 MB/s eta 0:00:01\r\u001b[K     |███████████████▌                | 583 kB 4.4 MB/s eta 0:00:01\r\u001b[K     |███████████████▊                | 593 kB 4.4 MB/s eta 0:00:01\r\u001b[K     |████████████████                | 604 kB 4.4 MB/s eta 0:00:01\r\u001b[K     |████████████████▎               | 614 kB 4.4 MB/s eta 0:00:01\r\u001b[K     |████████████████▋               | 624 kB 4.4 MB/s eta 0:00:01\r\u001b[K     |████████████████▉               | 634 kB 4.4 MB/s eta 0:00:01\r\u001b[K     |█████████████████▏              | 645 kB 4.4 MB/s eta 0:00:01\r\u001b[K     |█████████████████▍              | 655 kB 4.4 MB/s eta 0:00:01\r\u001b[K     |█████████████████▊              | 665 kB 4.4 MB/s eta 0:00:01\r\u001b[K     |██████████████████              | 675 kB 4.4 MB/s eta 0:00:01\r\u001b[K     |██████████████████▎             | 686 kB 4.4 MB/s eta 0:00:01\r\u001b[K     |██████████████████▌             | 696 kB 4.4 MB/s eta 0:00:01\r\u001b[K     |██████████████████▊             | 706 kB 4.4 MB/s eta 0:00:01\r\u001b[K     |███████████████████             | 716 kB 4.4 MB/s eta 0:00:01\r\u001b[K     |███████████████████▎            | 727 kB 4.4 MB/s eta 0:00:01\r\u001b[K     |███████████████████▋            | 737 kB 4.4 MB/s eta 0:00:01\r\u001b[K     |███████████████████▉            | 747 kB 4.4 MB/s eta 0:00:01\r\u001b[K     |████████████████████▏           | 757 kB 4.4 MB/s eta 0:00:01\r\u001b[K     |████████████████████▍           | 768 kB 4.4 MB/s eta 0:00:01\r\u001b[K     |████████████████████▊           | 778 kB 4.4 MB/s eta 0:00:01\r\u001b[K     |█████████████████████           | 788 kB 4.4 MB/s eta 0:00:01\r\u001b[K     |█████████████████████▏          | 798 kB 4.4 MB/s eta 0:00:01\r\u001b[K     |█████████████████████▌          | 808 kB 4.4 MB/s eta 0:00:01\r\u001b[K     |█████████████████████▊          | 819 kB 4.4 MB/s eta 0:00:01\r\u001b[K     |██████████████████████          | 829 kB 4.4 MB/s eta 0:00:01\r\u001b[K     |██████████████████████▎         | 839 kB 4.4 MB/s eta 0:00:01\r\u001b[K     |██████████████████████▋         | 849 kB 4.4 MB/s eta 0:00:01\r\u001b[K     |██████████████████████▉         | 860 kB 4.4 MB/s eta 0:00:01\r\u001b[K     |███████████████████████▏        | 870 kB 4.4 MB/s eta 0:00:01\r\u001b[K     |███████████████████████▍        | 880 kB 4.4 MB/s eta 0:00:01\r\u001b[K     |███████████████████████▋        | 890 kB 4.4 MB/s eta 0:00:01\r\u001b[K     |████████████████████████        | 901 kB 4.4 MB/s eta 0:00:01\r\u001b[K     |████████████████████████▏       | 911 kB 4.4 MB/s eta 0:00:01\r\u001b[K     |████████████████████████▌       | 921 kB 4.4 MB/s eta 0:00:01\r\u001b[K     |████████████████████████▊       | 931 kB 4.4 MB/s eta 0:00:01\r\u001b[K     |█████████████████████████       | 942 kB 4.4 MB/s eta 0:00:01\r\u001b[K     |█████████████████████████▎      | 952 kB 4.4 MB/s eta 0:00:01\r\u001b[K     |█████████████████████████▋      | 962 kB 4.4 MB/s eta 0:00:01\r\u001b[K     |█████████████████████████▉      | 972 kB 4.4 MB/s eta 0:00:01\r\u001b[K     |██████████████████████████▏     | 983 kB 4.4 MB/s eta 0:00:01\r\u001b[K     |██████████████████████████▍     | 993 kB 4.4 MB/s eta 0:00:01\r\u001b[K     |██████████████████████████▋     | 1.0 MB 4.4 MB/s eta 0:00:01\r\u001b[K     |███████████████████████████     | 1.0 MB 4.4 MB/s eta 0:00:01\r\u001b[K     |███████████████████████████▏    | 1.0 MB 4.4 MB/s eta 0:00:01\r\u001b[K     |███████████████████████████▌    | 1.0 MB 4.4 MB/s eta 0:00:01\r\u001b[K     |███████████████████████████▊    | 1.0 MB 4.4 MB/s eta 0:00:01\r\u001b[K     |████████████████████████████    | 1.1 MB 4.4 MB/s eta 0:00:01\r\u001b[K     |████████████████████████████▎   | 1.1 MB 4.4 MB/s eta 0:00:01\r\u001b[K     |████████████████████████████▋   | 1.1 MB 4.4 MB/s eta 0:00:01\r\u001b[K     |████████████████████████████▉   | 1.1 MB 4.4 MB/s eta 0:00:01\r\u001b[K     |█████████████████████████████   | 1.1 MB 4.4 MB/s eta 0:00:01\r\u001b[K     |█████████████████████████████▍  | 1.1 MB 4.4 MB/s eta 0:00:01\r\u001b[K     |█████████████████████████████▋  | 1.1 MB 4.4 MB/s eta 0:00:01\r\u001b[K     |██████████████████████████████  | 1.1 MB 4.4 MB/s eta 0:00:01\r\u001b[K     |██████████████████████████████▏ | 1.1 MB 4.4 MB/s eta 0:00:01\r\u001b[K     |██████████████████████████████▌ | 1.1 MB 4.4 MB/s eta 0:00:01\r\u001b[K     |██████████████████████████████▊ | 1.2 MB 4.4 MB/s eta 0:00:01\r\u001b[K     |███████████████████████████████ | 1.2 MB 4.4 MB/s eta 0:00:01\r\u001b[K     |███████████████████████████████▎| 1.2 MB 4.4 MB/s eta 0:00:01\r\u001b[K     |███████████████████████████████▌| 1.2 MB 4.4 MB/s eta 0:00:01\r\u001b[K     |███████████████████████████████▉| 1.2 MB 4.4 MB/s eta 0:00:01\r\u001b[K     |████████████████████████████████| 1.2 MB 4.4 MB/s \n",
            "\u001b[?25hCollecting Deprecated\n",
            "  Downloading Deprecated-1.2.13-py2.py3-none-any.whl (9.6 kB)\n",
            "Requirement already satisfied: numpy in /usr/local/lib/python3.7/dist-packages (from fiftyone) (1.19.5)\n",
            "Collecting fiftyone-brain<0.8,>=0.7.2\n",
            "  Downloading fiftyone_brain-0.7.2-cp37-cp37m-manylinux1_x86_64.whl (639 kB)\n",
            "\u001b[K     |████████████████████████████████| 639 kB 70.0 MB/s \n",
            "\u001b[?25hCollecting opencv-python-headless\n",
            "  Downloading opencv_python_headless-4.5.4.60-cp37-cp37m-manylinux_2_17_x86_64.manylinux2014_x86_64.whl (47.6 MB)\n",
            "\u001b[K     |████████████████████████████████| 47.6 MB 2.0 MB/s \n",
            "\u001b[?25hRequirement already satisfied: future in /usr/local/lib/python3.7/dist-packages (from fiftyone) (0.16.0)\n",
            "Requirement already satisfied: argcomplete in /usr/local/lib/python3.7/dist-packages (from fiftyone) (1.12.3)\n",
            "Requirement already satisfied: scikit-learn in /usr/local/lib/python3.7/dist-packages (from fiftyone) (1.0.1)\n",
            "Requirement already satisfied: retrying in /usr/local/lib/python3.7/dist-packages (from fiftyone) (1.3.3)\n",
            "Requirement already satisfied: tabulate in /usr/local/lib/python3.7/dist-packages (from fiftyone) (0.8.9)\n",
            "Collecting aiofiles\n",
            "  Downloading aiofiles-0.7.0-py3-none-any.whl (13 kB)\n",
            "Collecting eventlet\n",
            "  Downloading eventlet-0.33.0-py2.py3-none-any.whl (226 kB)\n",
            "\u001b[K     |████████████████████████████████| 226 kB 31.9 MB/s \n",
            "\u001b[?25hCollecting universal-analytics-python3<2,>=1.0.1\n",
            "  Downloading universal_analytics_python3-1.1.1-py3-none-any.whl (10 kB)\n",
            "Requirement already satisfied: pymongo<4,>=3.11 in /usr/local/lib/python3.7/dist-packages (from fiftyone) (3.12.1)\n",
            "Requirement already satisfied: scikit-image in /usr/local/lib/python3.7/dist-packages (from fiftyone) (0.18.3)\n",
            "Requirement already satisfied: pandas in /usr/local/lib/python3.7/dist-packages (from fiftyone) (1.1.5)\n",
            "Requirement already satisfied: Jinja2 in /usr/local/lib/python3.7/dist-packages (from fiftyone) (2.11.3)\n",
            "Requirement already satisfied: pytz in /usr/local/lib/python3.7/dist-packages (from fiftyone) (2018.9)\n",
            "Collecting kaleido\n",
            "  Downloading kaleido-0.2.1-py2.py3-none-manylinux1_x86_64.whl (79.9 MB)\n",
            "\u001b[K     |████████████████████████████████| 79.9 MB 107 kB/s \n",
            "\u001b[?25hRequirement already satisfied: packaging in /usr/local/lib/python3.7/dist-packages (from fiftyone) (21.3)\n",
            "Requirement already satisfied: matplotlib in /usr/local/lib/python3.7/dist-packages (from fiftyone) (3.2.2)\n",
            "Requirement already satisfied: PyYAML in /usr/local/lib/python3.7/dist-packages (from fiftyone) (3.13)\n",
            "Collecting voxel51-eta<0.7,>=0.6.1\n",
            "  Downloading voxel51_eta-0.6.1-py2.py3-none-any.whl (562 kB)\n",
            "\u001b[K     |████████████████████████████████| 562 kB 60.1 MB/s \n",
            "\u001b[?25hCollecting fiftyone-db<0.4,>=0.3\n",
            "  Downloading fiftyone_db-0.3.0-py3-none-manylinux1_x86_64.whl (29.2 MB)\n",
            "\u001b[K     |████████████████████████████████| 29.2 MB 1.4 MB/s \n",
            "\u001b[?25hRequirement already satisfied: tornado<7,>=5.1.1 in /usr/local/lib/python3.7/dist-packages (from fiftyone) (5.1.1)\n",
            "Requirement already satisfied: setuptools in /usr/local/lib/python3.7/dist-packages (from fiftyone) (57.4.0)\n",
            "Requirement already satisfied: Pillow>=6.2 in /usr/local/lib/python3.7/dist-packages (from fiftyone) (7.1.2)\n",
            "Collecting plotly<5,>=4.14\n",
            "  Downloading plotly-4.14.3-py2.py3-none-any.whl (13.2 MB)\n",
            "\u001b[K     |████████████████████████████████| 13.2 MB 21.2 MB/s \n",
            "\u001b[?25hCollecting xmltodict\n",
            "  Downloading xmltodict-0.12.0-py2.py3-none-any.whl (9.2 kB)\n",
            "Collecting boto3\n",
            "  Downloading boto3-1.20.14-py3-none-any.whl (131 kB)\n",
            "\u001b[K     |████████████████████████████████| 131 kB 68.9 MB/s \n",
            "\u001b[?25hCollecting pprintpp\n",
            "  Downloading pprintpp-0.4.0-py2.py3-none-any.whl (16 kB)\n",
            "Collecting mongoengine==0.20.0\n",
            "  Downloading mongoengine-0.20.0-py3-none-any.whl (106 kB)\n",
            "\u001b[K     |████████████████████████████████| 106 kB 71.5 MB/s \n",
            "\u001b[?25hCollecting motor<3,>=2.3\n",
            "  Downloading motor-2.5.1-py3-none-any.whl (55 kB)\n",
            "\u001b[K     |████████████████████████████████| 55 kB 3.1 MB/s \n",
            "\u001b[?25hRequirement already satisfied: psutil in /usr/local/lib/python3.7/dist-packages (from fiftyone) (5.4.8)\n",
            "Requirement already satisfied: scipy>=1.2.0 in /usr/local/lib/python3.7/dist-packages (from fiftyone-brain<0.8,>=0.7.2->fiftyone) (1.4.1)\n",
            "Requirement already satisfied: six in /usr/local/lib/python3.7/dist-packages (from plotly<5,>=4.14->fiftyone) (1.15.0)\n",
            "Collecting httpx>=0.10.0\n",
            "  Downloading httpx-0.21.1-py3-none-any.whl (83 kB)\n",
            "\u001b[K     |████████████████████████████████| 83 kB 1.9 MB/s \n",
            "\u001b[?25hCollecting sniffio\n",
            "  Downloading sniffio-1.2.0-py3-none-any.whl (10 kB)\n",
            "Collecting httpcore<0.15.0,>=0.14.0\n",
            "  Downloading httpcore-0.14.3-py3-none-any.whl (56 kB)\n",
            "\u001b[K     |████████████████████████████████| 56 kB 4.3 MB/s \n",
            "\u001b[?25hCollecting rfc3986[idna2008]<2,>=1.3\n",
            "  Downloading rfc3986-1.5.0-py2.py3-none-any.whl (31 kB)\n",
            "Requirement already satisfied: certifi in /usr/local/lib/python3.7/dist-packages (from httpx>=0.10.0->universal-analytics-python3<2,>=1.0.1->fiftyone) (2021.10.8)\n",
            "Requirement already satisfied: charset-normalizer in /usr/local/lib/python3.7/dist-packages (from httpx>=0.10.0->universal-analytics-python3<2,>=1.0.1->fiftyone) (2.0.7)\n",
            "Collecting h11<0.13,>=0.11\n",
            "  Downloading h11-0.12.0-py3-none-any.whl (54 kB)\n",
            "\u001b[K     |████████████████████████████████| 54 kB 3.5 MB/s \n",
            "\u001b[?25hCollecting anyio==3.*\n",
            "  Downloading anyio-3.4.0-py3-none-any.whl (78 kB)\n",
            "\u001b[K     |████████████████████████████████| 78 kB 6.8 MB/s \n",
            "\u001b[?25hRequirement already satisfied: idna>=2.8 in /usr/local/lib/python3.7/dist-packages (from anyio==3.*->httpcore<0.15.0,>=0.14.0->httpx>=0.10.0->universal-analytics-python3<2,>=1.0.1->fiftyone) (2.10)\n",
            "Requirement already satisfied: typing-extensions in /usr/local/lib/python3.7/dist-packages (from anyio==3.*->httpcore<0.15.0,>=0.14.0->httpx>=0.10.0->universal-analytics-python3<2,>=1.0.1->fiftyone) (3.10.0.2)\n",
            "Requirement already satisfied: python-dateutil in /usr/local/lib/python3.7/dist-packages (from voxel51-eta<0.7,>=0.6.1->fiftyone) (2.8.2)\n",
            "Requirement already satisfied: requests in /usr/local/lib/python3.7/dist-packages (from voxel51-eta<0.7,>=0.6.1->fiftyone) (2.23.0)\n",
            "Collecting ndjson\n",
            "  Downloading ndjson-0.3.1-py2.py3-none-any.whl (5.3 kB)\n",
            "Requirement already satisfied: importlib-metadata in /usr/local/lib/python3.7/dist-packages (from voxel51-eta<0.7,>=0.6.1->fiftyone) (4.8.2)\n",
            "Requirement already satisfied: tzlocal in /usr/local/lib/python3.7/dist-packages (from voxel51-eta<0.7,>=0.6.1->fiftyone) (1.5.1)\n",
            "Requirement already satisfied: dill in /usr/local/lib/python3.7/dist-packages (from voxel51-eta<0.7,>=0.6.1->fiftyone) (0.3.4)\n",
            "Requirement already satisfied: sortedcontainers in /usr/local/lib/python3.7/dist-packages (from voxel51-eta<0.7,>=0.6.1->fiftyone) (2.4.0)\n",
            "Requirement already satisfied: glob2 in /usr/local/lib/python3.7/dist-packages (from voxel51-eta<0.7,>=0.6.1->fiftyone) (0.7)\n",
            "Collecting patool\n",
            "  Downloading patool-1.12-py2.py3-none-any.whl (77 kB)\n",
            "\u001b[K     |████████████████████████████████| 77 kB 5.1 MB/s \n",
            "\u001b[?25hRequirement already satisfied: zipp>=0.5 in /usr/local/lib/python3.7/dist-packages (from importlib-metadata->voxel51-eta<0.7,>=0.6.1->fiftyone) (3.6.0)\n",
            "Collecting s3transfer<0.6.0,>=0.5.0\n",
            "  Downloading s3transfer-0.5.0-py3-none-any.whl (79 kB)\n",
            "\u001b[K     |████████████████████████████████| 79 kB 7.6 MB/s \n",
            "\u001b[?25hCollecting botocore<1.24.0,>=1.23.14\n",
            "  Downloading botocore-1.23.14-py3-none-any.whl (8.2 MB)\n",
            "\u001b[K     |████████████████████████████████| 8.2 MB 45.6 MB/s \n",
            "\u001b[?25hCollecting jmespath<1.0.0,>=0.7.1\n",
            "  Downloading jmespath-0.10.0-py2.py3-none-any.whl (24 kB)\n",
            "Collecting urllib3<1.27,>=1.25.4\n",
            "  Downloading urllib3-1.26.7-py2.py3-none-any.whl (138 kB)\n",
            "\u001b[K     |████████████████████████████████| 138 kB 52.3 MB/s \n",
            "\u001b[?25hRequirement already satisfied: wrapt<2,>=1.10 in /usr/local/lib/python3.7/dist-packages (from Deprecated->fiftyone) (1.13.3)\n",
            "Requirement already satisfied: greenlet>=0.3 in /usr/local/lib/python3.7/dist-packages (from eventlet->fiftyone) (1.1.2)\n",
            "Collecting dnspython>=1.15.0\n",
            "  Downloading dnspython-2.1.0-py3-none-any.whl (241 kB)\n",
            "\u001b[K     |████████████████████████████████| 241 kB 56.8 MB/s \n",
            "\u001b[?25hRequirement already satisfied: MarkupSafe>=0.23 in /usr/local/lib/python3.7/dist-packages (from Jinja2->fiftyone) (2.0.1)\n",
            "Requirement already satisfied: pyparsing!=2.0.4,!=2.1.2,!=2.1.6,>=2.0.1 in /usr/local/lib/python3.7/dist-packages (from matplotlib->fiftyone) (3.0.6)\n",
            "Requirement already satisfied: cycler>=0.10 in /usr/local/lib/python3.7/dist-packages (from matplotlib->fiftyone) (0.11.0)\n",
            "Requirement already satisfied: kiwisolver>=1.0.1 in /usr/local/lib/python3.7/dist-packages (from matplotlib->fiftyone) (1.3.2)\n",
            "Collecting urllib3<1.27,>=1.25.4\n",
            "  Downloading urllib3-1.25.11-py2.py3-none-any.whl (127 kB)\n",
            "\u001b[K     |████████████████████████████████| 127 kB 47.6 MB/s \n",
            "\u001b[?25hRequirement already satisfied: chardet<4,>=3.0.2 in /usr/local/lib/python3.7/dist-packages (from requests->voxel51-eta<0.7,>=0.6.1->fiftyone) (3.0.4)\n",
            "Requirement already satisfied: PyWavelets>=1.1.1 in /usr/local/lib/python3.7/dist-packages (from scikit-image->fiftyone) (1.2.0)\n",
            "Requirement already satisfied: tifffile>=2019.7.26 in /usr/local/lib/python3.7/dist-packages (from scikit-image->fiftyone) (2021.11.2)\n",
            "Requirement already satisfied: networkx>=2.0 in /usr/local/lib/python3.7/dist-packages (from scikit-image->fiftyone) (2.6.3)\n",
            "Requirement already satisfied: imageio>=2.3.0 in /usr/local/lib/python3.7/dist-packages (from scikit-image->fiftyone) (2.4.1)\n",
            "Requirement already satisfied: joblib>=0.11 in /usr/local/lib/python3.7/dist-packages (from scikit-learn->fiftyone) (1.1.0)\n",
            "Requirement already satisfied: threadpoolctl>=2.0.0 in /usr/local/lib/python3.7/dist-packages (from scikit-learn->fiftyone) (3.0.0)\n",
            "Installing collected packages: sniffio, urllib3, rfc3986, jmespath, h11, anyio, httpcore, botocore, s3transfer, patool, opencv-python-headless, ndjson, httpx, dnspython, xmltodict, voxel51-eta, universal-analytics-python3, pprintpp, plotly, motor, mongoengine, kaleido, fiftyone-db, fiftyone-brain, eventlet, Deprecated, boto3, aiofiles, fiftyone\n",
            "  Attempting uninstall: urllib3\n",
            "    Found existing installation: urllib3 1.24.3\n",
            "    Uninstalling urllib3-1.24.3:\n",
            "      Successfully uninstalled urllib3-1.24.3\n",
            "  Attempting uninstall: plotly\n",
            "    Found existing installation: plotly 4.4.1\n",
            "    Uninstalling plotly-4.4.1:\n",
            "      Successfully uninstalled plotly-4.4.1\n",
            "\u001b[31mERROR: pip's dependency resolver does not currently take into account all the packages that are installed. This behaviour is the source of the following dependency conflicts.\n",
            "datascience 0.10.6 requires folium==0.2.1, but you have folium 0.8.3 which is incompatible.\u001b[0m\n",
            "Successfully installed Deprecated-1.2.13 aiofiles-0.7.0 anyio-3.4.0 boto3-1.20.14 botocore-1.23.14 dnspython-2.1.0 eventlet-0.33.0 fiftyone-0.14.2 fiftyone-brain-0.7.2 fiftyone-db-0.3.0 h11-0.12.0 httpcore-0.14.3 httpx-0.21.1 jmespath-0.10.0 kaleido-0.2.1 mongoengine-0.20.0 motor-2.5.1 ndjson-0.3.1 opencv-python-headless-4.5.4.60 patool-1.12 plotly-4.14.3 pprintpp-0.4.0 rfc3986-1.5.0 s3transfer-0.5.0 sniffio-1.2.0 universal-analytics-python3-1.1.1 urllib3-1.25.11 voxel51-eta-0.6.1 xmltodict-0.12.0\n"
          ]
        }
      ]
    },
    {
      "cell_type": "code",
      "metadata": {
        "id": "cfCw9Bk_P2MS"
      },
      "source": [
        "import fiftyone as fo\n",
        "import fiftyone.zoo as foz"
      ],
      "execution_count": null,
      "outputs": []
    },
    {
      "cell_type": "code",
      "metadata": {
        "colab": {
          "base_uri": "https://localhost:8080/"
        },
        "id": "tIZxkfd2QMvI",
        "outputId": "2de90fc0-c5d7-4b53-b2c0-59af96ffbbc1"
      },
      "source": [
        "from google.colab import drive\n",
        "drive.mount('/content/drive')"
      ],
      "execution_count": null,
      "outputs": [
        {
          "name": "stdout",
          "output_type": "stream",
          "text": [
            "Mounted at /content/drive\n"
          ]
        }
      ]
    },
    {
      "cell_type": "markdown",
      "metadata": {
        "id": "d4EqQPruN4I2"
      },
      "source": [
        "### Import VPLab Dataset"
      ]
    },
    {
      "cell_type": "code",
      "metadata": {
        "colab": {
          "base_uri": "https://localhost:8080/"
        },
        "id": "tZVPptYeQVVD",
        "outputId": "9749b2d0-82b5-45ce-9d1b-3a6f963e15b1"
      },
      "source": [
        "# The directory containing the dataset to import\n",
        "# dataset_dir = \"/content/drive/MyDrive/SEM7/CS6350/CS6350TPA_3/Dataset_taken2\"\n",
        "dataset_dir = \"/content/drive/MyDrive/CS6350TPA_3/Dataset_taken2\"\n",
        "\n",
        "# The type of the dataset being imported\n",
        "dataset_type = fo.types.VOCDetectionDataset  # for example\n",
        "\n",
        "# Import the dataset!\n",
        "dataset = fo.Dataset.from_dir(\n",
        "    dataset_dir=dataset_dir,\n",
        "    dataset_type=dataset_type,\n",
        ")"
      ],
      "execution_count": null,
      "outputs": [
        {
          "name": "stdout",
          "output_type": "stream",
          "text": [
            " 100% |███████████████| 5980/5980 [17.9m elapsed, 0s remaining, 5.7 samples/s]      \n"
          ]
        }
      ]
    },
    {
      "cell_type": "code",
      "metadata": {
        "colab": {
          "base_uri": "https://localhost:8080/"
        },
        "id": "WgUmSmDbQhQR",
        "outputId": "c281be0e-0f19-424c-847c-e407ced022b2"
      },
      "source": [
        "# Print some information about the dataset\n",
        "print(dataset)"
      ],
      "execution_count": null,
      "outputs": [
        {
          "name": "stdout",
          "output_type": "stream",
          "text": [
            "Name:        2021.11.27.07.46.40\n",
            "Media type:  image\n",
            "Num samples: 5980\n",
            "Persistent:  False\n",
            "Tags:        []\n",
            "Sample fields:\n",
            "    id:           fiftyone.core.fields.ObjectIdField\n",
            "    filepath:     fiftyone.core.fields.StringField\n",
            "    tags:         fiftyone.core.fields.ListField(fiftyone.core.fields.StringField)\n",
            "    metadata:     fiftyone.core.fields.EmbeddedDocumentField(fiftyone.core.metadata.Metadata)\n",
            "    ground_truth: fiftyone.core.fields.EmbeddedDocumentField(fiftyone.core.labels.Detections)\n"
          ]
        }
      ]
    },
    {
      "cell_type": "code",
      "metadata": {
        "id": "xF-rKCvpXjdd"
      },
      "source": [
        "session = fo.launch_app(dataset)"
      ],
      "execution_count": null,
      "outputs": []
    },
    {
      "cell_type": "code",
      "metadata": {
        "colab": {
          "base_uri": "https://localhost:8080/"
        },
        "id": "DKt1DQ2yZW6F",
        "outputId": "957e04a7-5f48-4e03-a652-96689ae6471c"
      },
      "source": [
        "# DONT RUN THIS CELL MULTIPLE TIMES IN THE SAME RUNTIME\n",
        "# Switch Height and Width as it is wrongly given.\n",
        "with fo.ProgressBar() as pb:\n",
        "  for sample in pb(dataset):\n",
        "    sample.metadata.height, sample.metadata.width = sample.metadata.width, sample.metadata.height\n",
        "    sample.save()\n",
        "\n",
        "# Relativ Bounding boxes have to be changed because of the above change.\n",
        "with fo.ProgressBar() as pb:\n",
        "  for sample in pb(dataset):\n",
        "    h, w = sample.metadata.height, sample.metadata.width\n",
        "    for detection in sample.ground_truth.detections:\n",
        "      a, b, c, d = detection.bounding_box\n",
        "      detection.bounding_box = a*h/w, b*w/h, c*h/w, d*w/h\n",
        "    sample.save()\n",
        "\n",
        "# Print a ground truth detection\n",
        "sample = dataset.first()\n",
        "print(sample.ground_truth)"
      ],
      "execution_count": null,
      "outputs": [
        {
          "name": "stdout",
          "output_type": "stream",
          "text": [
            " 100% |███████████████| 5980/5980 [27.0s elapsed, 0s remaining, 219.9 samples/s]      \n",
            " 100% |███████████████| 5980/5980 [31.1s elapsed, 0s remaining, 196.8 samples/s]      \n",
            "<Detections: {\n",
            "    'detections': BaseList([\n",
            "        <Detection: {\n",
            "            'id': '61a1e27b102a328cad6427cb',\n",
            "            'attributes': BaseDict({}),\n",
            "            'tags': BaseList([]),\n",
            "            'label': 'Mouse',\n",
            "            'bounding_box': BaseList([\n",
            "                0.06388888888888888,\n",
            "                0.5407407407407406,\n",
            "                0.10277777777777777,\n",
            "                0.056790123456790124,\n",
            "            ]),\n",
            "            'mask': None,\n",
            "            'confidence': None,\n",
            "            'index': None,\n",
            "            'occluded': 0,\n",
            "            'truncated': 0,\n",
            "            'pose': 'Unspecified',\n",
            "            'difficult': 0,\n",
            "        }>,\n",
            "        <Detection: {\n",
            "            'id': '61a1e27b102a328cad6427cc',\n",
            "            'attributes': BaseDict({}),\n",
            "            'tags': BaseList([]),\n",
            "            'label': 'TV_Monitor',\n",
            "            'bounding_box': BaseList([\n",
            "                0.1125,\n",
            "                0.044444444444444446,\n",
            "                0.14027777777777778,\n",
            "                0.45185185185185184,\n",
            "            ]),\n",
            "            'mask': None,\n",
            "            'confidence': None,\n",
            "            'index': None,\n",
            "            'occluded': 0,\n",
            "            'truncated': 0,\n",
            "            'pose': 'Unspecified',\n",
            "            'difficult': 0,\n",
            "        }>,\n",
            "        <Detection: {\n",
            "            'id': '61a1e27b102a328cad6427cd',\n",
            "            'attributes': BaseDict({}),\n",
            "            'tags': BaseList([]),\n",
            "            'label': 'Printer',\n",
            "            'bounding_box': BaseList([\n",
            "                0.2861111111111111,\n",
            "                0.17037037037037037,\n",
            "                0.5208333333333334,\n",
            "                0.5209876543209877,\n",
            "            ]),\n",
            "            'mask': None,\n",
            "            'confidence': None,\n",
            "            'index': None,\n",
            "            'occluded': 0,\n",
            "            'truncated': 0,\n",
            "            'pose': 'Unspecified',\n",
            "            'difficult': 0,\n",
            "        }>,\n",
            "    ]),\n",
            "}>\n"
          ]
        }
      ]
    },
    {
      "cell_type": "code",
      "metadata": {
        "id": "4tDb2GwecYmE"
      },
      "source": [
        "  session = fo.launch_app(dataset)"
      ],
      "execution_count": null,
      "outputs": []
    },
    {
      "cell_type": "markdown",
      "metadata": {
        "id": "Phnr1EnIlRKK"
      },
      "source": [
        "### Import COCO Validation Dataset"
      ]
    },
    {
      "cell_type": "code",
      "metadata": {
        "colab": {
          "base_uri": "https://localhost:8080/"
        },
        "id": "bEPxYutmkli6",
        "outputId": "094eacf4-9926-4f3f-c4e8-93efe4f7f48c"
      },
      "source": [
        "coco_dataset = foz.load_zoo_dataset(\n",
        "    \"coco-2017\",\n",
        "    split=\"validation\",\n",
        "    dataset_name=\"coco\",\n",
        ")\n",
        "coco_dataset.persistent = True"
      ],
      "execution_count": null,
      "outputs": [
        {
          "name": "stdout",
          "output_type": "stream",
          "text": [
            "Downloading split 'validation' to '/root/fiftyone/coco-2017/validation' if necessary\n",
            "Downloading annotations to '/root/fiftyone/coco-2017/tmp-download/annotations_trainval2017.zip'\n",
            " 100% |██████|    1.9Gb/1.9Gb [2.8s elapsed, 0s remaining, 785.3Mb/s]       \n",
            "Extracting annotations to '/root/fiftyone/coco-2017/raw/instances_val2017.json'\n",
            "Downloading images to '/root/fiftyone/coco-2017/tmp-download/val2017.zip'\n",
            " 100% |██████|    6.1Gb/6.1Gb [13.0s elapsed, 0s remaining, 434.1Mb/s]      \n",
            "Extracting images to '/root/fiftyone/coco-2017/validation/data'\n",
            "Writing annotations to '/root/fiftyone/coco-2017/validation/labels.json'\n",
            "Dataset info written to '/root/fiftyone/coco-2017/info.json'\n",
            "Loading 'coco-2017' split 'validation'\n",
            " 100% |███████████████| 5000/5000 [36.1s elapsed, 0s remaining, 147.2 samples/s]      \n",
            "Dataset 'coco' created\n"
          ]
        }
      ]
    },
    {
      "cell_type": "code",
      "metadata": {
        "colab": {
          "base_uri": "https://localhost:8080/"
        },
        "id": "fpe9yQy2labZ",
        "outputId": "d6c8152a-9d18-47c5-f955-5e492583c0a9"
      },
      "source": [
        "# Print some information about the dataset\n",
        "print(coco_dataset)"
      ],
      "execution_count": null,
      "outputs": [
        {
          "name": "stdout",
          "output_type": "stream",
          "text": [
            "Name:        coco\n",
            "Media type:  image\n",
            "Num samples: 5000\n",
            "Persistent:  True\n",
            "Tags:        ['validation']\n",
            "Sample fields:\n",
            "    id:           fiftyone.core.fields.ObjectIdField\n",
            "    filepath:     fiftyone.core.fields.StringField\n",
            "    tags:         fiftyone.core.fields.ListField(fiftyone.core.fields.StringField)\n",
            "    metadata:     fiftyone.core.fields.EmbeddedDocumentField(fiftyone.core.metadata.Metadata)\n",
            "    ground_truth: fiftyone.core.fields.EmbeddedDocumentField(fiftyone.core.labels.Detections)\n"
          ]
        }
      ]
    },
    {
      "cell_type": "code",
      "metadata": {
        "colab": {
          "base_uri": "https://localhost:8080/"
        },
        "id": "74Ohp0dlltXp",
        "outputId": "9f97b625-7bc7-467a-ccb2-ab1c038d452c"
      },
      "source": [
        "# Print a ground truth detection\n",
        "sample = coco_dataset.first()\n",
        "print(sample.ground_truth)"
      ],
      "execution_count": null,
      "outputs": [
        {
          "name": "stdout",
          "output_type": "stream",
          "text": [
            "<Detections: {\n",
            "    'detections': BaseList([\n",
            "        <Detection: {\n",
            "            'id': '61a1ebd9102a328cad6603fb',\n",
            "            'attributes': BaseDict({}),\n",
            "            'tags': BaseList([]),\n",
            "            'label': 'potted plant',\n",
            "            'bounding_box': BaseList([\n",
            "                0.37028125,\n",
            "                0.3345305164319249,\n",
            "                0.038593749999999996,\n",
            "                0.16314553990610328,\n",
            "            ]),\n",
            "            'mask': None,\n",
            "            'confidence': None,\n",
            "            'index': None,\n",
            "            'supercategory': 'furniture',\n",
            "            'iscrowd': 0,\n",
            "        }>,\n",
            "        <Detection: {\n",
            "            'id': '61a1ebd9102a328cad6603fc',\n",
            "            'attributes': BaseDict({}),\n",
            "            'tags': BaseList([]),\n",
            "            'label': 'tv',\n",
            "            'bounding_box': BaseList([\n",
            "                0.010984375000000001,\n",
            "                0.39380281690140845,\n",
            "                0.23331249999999998,\n",
            "                0.22269953051643193,\n",
            "            ]),\n",
            "            'mask': None,\n",
            "            'confidence': None,\n",
            "            'index': None,\n",
            "            'supercategory': 'electronic',\n",
            "            'iscrowd': 0,\n",
            "        }>,\n",
            "        <Detection: {\n",
            "            'id': '61a1ebd9102a328cad6603fd',\n",
            "            'attributes': BaseDict({}),\n",
            "            'tags': BaseList([]),\n",
            "            'label': 'tv',\n",
            "            'bounding_box': BaseList([\n",
            "                0.8706406250000001,\n",
            "                0.491056338028169,\n",
            "                0.127109375,\n",
            "                0.18481220657276995,\n",
            "            ]),\n",
            "            'mask': None,\n",
            "            'confidence': None,\n",
            "            'index': None,\n",
            "            'supercategory': 'electronic',\n",
            "            'iscrowd': 0,\n",
            "        }>,\n",
            "        <Detection: {\n",
            "            'id': '61a1ebd9102a328cad6603fe',\n",
            "            'attributes': BaseDict({}),\n",
            "            'tags': BaseList([]),\n",
            "            'label': 'chair',\n",
            "            'bounding_box': BaseList([\n",
            "                0.56090625,\n",
            "                0.5118544600938968,\n",
            "                0.0875,\n",
            "                0.24138497652582158,\n",
            "            ]),\n",
            "            'mask': None,\n",
            "            'confidence': None,\n",
            "            'index': None,\n",
            "            'supercategory': 'furniture',\n",
            "            'iscrowd': 0,\n",
            "        }>,\n",
            "        <Detection: {\n",
            "            'id': '61a1ebd9102a328cad6603ff',\n",
            "            'attributes': BaseDict({}),\n",
            "            'tags': BaseList([]),\n",
            "            'label': 'chair',\n",
            "            'bounding_box': BaseList([\n",
            "                0.454203125,\n",
            "                0.5117370892018779,\n",
            "                0.096609375,\n",
            "                0.2311737089201878,\n",
            "            ]),\n",
            "            'mask': None,\n",
            "            'confidence': None,\n",
            "            'index': None,\n",
            "            'supercategory': 'furniture',\n",
            "            'iscrowd': 0,\n",
            "        }>,\n",
            "        <Detection: {\n",
            "            'id': '61a1ebd9102a328cad660400',\n",
            "            'attributes': BaseDict({}),\n",
            "            'tags': BaseList([]),\n",
            "            'label': 'chair',\n",
            "            'bounding_box': BaseList([\n",
            "                0.645625,\n",
            "                0.5234976525821596,\n",
            "                0.047140625000000005,\n",
            "                0.19098591549295774,\n",
            "            ]),\n",
            "            'mask': None,\n",
            "            'confidence': None,\n",
            "            'index': None,\n",
            "            'supercategory': 'furniture',\n",
            "            'iscrowd': 0,\n",
            "        }>,\n",
            "        <Detection: {\n",
            "            'id': '61a1ebd9102a328cad660401',\n",
            "            'attributes': BaseDict({}),\n",
            "            'tags': BaseList([]),\n",
            "            'label': 'chair',\n",
            "            'bounding_box': BaseList([\n",
            "                0.4959375,\n",
            "                0.5146478873239437,\n",
            "                0.03371875,\n",
            "                0.02720657276995305,\n",
            "            ]),\n",
            "            'mask': None,\n",
            "            'confidence': None,\n",
            "            'index': None,\n",
            "            'supercategory': 'furniture',\n",
            "            'iscrowd': 0,\n",
            "        }>,\n",
            "        <Detection: {\n",
            "            'id': '61a1ebd9102a328cad660402',\n",
            "            'attributes': BaseDict({}),\n",
            "            'tags': BaseList([]),\n",
            "            'label': 'person',\n",
            "            'bounding_box': BaseList([\n",
            "                0.645,\n",
            "                0.3699765258215963,\n",
            "                0.082890625,\n",
            "                0.3239671361502347,\n",
            "            ]),\n",
            "            'mask': None,\n",
            "            'confidence': None,\n",
            "            'index': None,\n",
            "            'supercategory': 'person',\n",
            "            'iscrowd': 0,\n",
            "        }>,\n",
            "        <Detection: {\n",
            "            'id': '61a1ebd9102a328cad660403',\n",
            "            'attributes': BaseDict({}),\n",
            "            'tags': BaseList([]),\n",
            "            'label': 'person',\n",
            "            'bounding_box': BaseList([\n",
            "                0.600671875,\n",
            "                0.40424882629107983,\n",
            "                0.023625,\n",
            "                0.08389671361502347,\n",
            "            ]),\n",
            "            'mask': None,\n",
            "            'confidence': None,\n",
            "            'index': None,\n",
            "            'supercategory': 'person',\n",
            "            'iscrowd': 0,\n",
            "        }>,\n",
            "        <Detection: {\n",
            "            'id': '61a1ebd9102a328cad660404',\n",
            "            'attributes': BaseDict({}),\n",
            "            'tags': BaseList([]),\n",
            "            'label': 'microwave',\n",
            "            'bounding_box': BaseList([\n",
            "                0.80034375,\n",
            "                0.482981220657277,\n",
            "                0.02303125,\n",
            "                0.037488262910798126,\n",
            "            ]),\n",
            "            'mask': None,\n",
            "            'confidence': None,\n",
            "            'index': None,\n",
            "            'supercategory': 'appliance',\n",
            "            'iscrowd': 0,\n",
            "        }>,\n",
            "        <Detection: {\n",
            "            'id': '61a1ebd9102a328cad660405',\n",
            "            'attributes': BaseDict({}),\n",
            "            'tags': BaseList([]),\n",
            "            'label': 'refrigerator',\n",
            "            'bounding_box': BaseList([\n",
            "                0.77046875,\n",
            "                0.40924882629107984,\n",
            "                0.031703125,\n",
            "                0.2542488262910798,\n",
            "            ]),\n",
            "            'mask': None,\n",
            "            'confidence': None,\n",
            "            'index': None,\n",
            "            'supercategory': 'appliance',\n",
            "            'iscrowd': 0,\n",
            "        }>,\n",
            "        <Detection: {\n",
            "            'id': '61a1ebd9102a328cad660406',\n",
            "            'attributes': BaseDict({}),\n",
            "            'tags': BaseList([]),\n",
            "            'label': 'book',\n",
            "            'bounding_box': BaseList([\n",
            "                0.944953125,\n",
            "                0.7180516431924883,\n",
            "                0.02240625,\n",
            "                0.10730046948356808,\n",
            "            ]),\n",
            "            'mask': None,\n",
            "            'confidence': None,\n",
            "            'index': None,\n",
            "            'supercategory': 'indoor',\n",
            "            'iscrowd': 0,\n",
            "        }>,\n",
            "        <Detection: {\n",
            "            'id': '61a1ebd9102a328cad660407',\n",
            "            'attributes': BaseDict({}),\n",
            "            'tags': BaseList([]),\n",
            "            'label': 'book',\n",
            "            'bounding_box': BaseList([\n",
            "                0.9581875,\n",
            "                0.7235680751173709,\n",
            "                0.020125,\n",
            "                0.10901408450704225,\n",
            "            ]),\n",
            "            'mask': None,\n",
            "            'confidence': None,\n",
            "            'index': None,\n",
            "            'supercategory': 'indoor',\n",
            "            'iscrowd': 0,\n",
            "        }>,\n",
            "        <Detection: {\n",
            "            'id': '61a1ebd9102a328cad660408',\n",
            "            'attributes': BaseDict({}),\n",
            "            'tags': BaseList([]),\n",
            "            'label': 'clock',\n",
            "            'bounding_box': BaseList([\n",
            "                0.699640625,\n",
            "                0.2843192488262911,\n",
            "                0.021828125,\n",
            "                0.05136150234741784,\n",
            "            ]),\n",
            "            'mask': None,\n",
            "            'confidence': None,\n",
            "            'index': None,\n",
            "            'supercategory': 'indoor',\n",
            "            'iscrowd': 0,\n",
            "        }>,\n",
            "        <Detection: {\n",
            "            'id': '61a1ebd9102a328cad660409',\n",
            "            'attributes': BaseDict({}),\n",
            "            'tags': BaseList([]),\n",
            "            'label': 'vase',\n",
            "            'bounding_box': BaseList([\n",
            "                0.8579062499999999,\n",
            "                0.7263615023474178,\n",
            "                0.0573125,\n",
            "                0.2104929577464789,\n",
            "            ]),\n",
            "            'mask': None,\n",
            "            'confidence': None,\n",
            "            'index': None,\n",
            "            'supercategory': 'indoor',\n",
            "            'iscrowd': 0,\n",
            "        }>,\n",
            "        <Detection: {\n",
            "            'id': '61a1ebd9102a328cad66040a',\n",
            "            'attributes': BaseDict({}),\n",
            "            'tags': BaseList([]),\n",
            "            'label': 'vase',\n",
            "            'bounding_box': BaseList([\n",
            "                0.5480625,\n",
            "                0.4902347417840376,\n",
            "                0.017765625,\n",
            "                0.05293427230046949,\n",
            "            ]),\n",
            "            'mask': None,\n",
            "            'confidence': None,\n",
            "            'index': None,\n",
            "            'supercategory': 'indoor',\n",
            "            'iscrowd': 0,\n",
            "        }>,\n",
            "        <Detection: {\n",
            "            'id': '61a1ebd9102a328cad66040b',\n",
            "            'attributes': BaseDict({}),\n",
            "            'tags': BaseList([]),\n",
            "            'label': 'chair',\n",
            "            'bounding_box': BaseList([\n",
            "                0.644140625,\n",
            "                0.514131455399061,\n",
            "                0.015046875000000001,\n",
            "                0.029389671361502348,\n",
            "            ]),\n",
            "            'mask': None,\n",
            "            'confidence': None,\n",
            "            'index': None,\n",
            "            'supercategory': 'furniture',\n",
            "            'iscrowd': 0,\n",
            "        }>,\n",
            "        <Detection: {\n",
            "            'id': '61a1ebd9102a328cad66040c',\n",
            "            'attributes': BaseDict({}),\n",
            "            'tags': BaseList([]),\n",
            "            'label': 'vase',\n",
            "            'bounding_box': BaseList([\n",
            "                0.37693750000000004,\n",
            "                0.4577230046948357,\n",
            "                0.022218750000000002,\n",
            "                0.04138497652582159,\n",
            "            ]),\n",
            "            'mask': None,\n",
            "            'confidence': None,\n",
            "            'index': None,\n",
            "            'supercategory': 'indoor',\n",
            "            'iscrowd': 0,\n",
            "        }>,\n",
            "        <Detection: {\n",
            "            'id': '61a1ebd9102a328cad66040d',\n",
            "            'attributes': BaseDict({}),\n",
            "            'tags': BaseList([]),\n",
            "            'label': 'vase',\n",
            "            'bounding_box': BaseList([\n",
            "                0.526234375,\n",
            "                0.46830985915492956,\n",
            "                0.015203125000000001,\n",
            "                0.039272300469483566,\n",
            "            ]),\n",
            "            'mask': None,\n",
            "            'confidence': None,\n",
            "            'index': None,\n",
            "            'supercategory': 'indoor',\n",
            "            'iscrowd': 0,\n",
            "        }>,\n",
            "        <Detection: {\n",
            "            'id': '61a1ebd9102a328cad66040e',\n",
            "            'attributes': BaseDict({}),\n",
            "            'tags': BaseList([]),\n",
            "            'label': 'dining table',\n",
            "            'bounding_box': BaseList([\n",
            "                0.5018906249999999,\n",
            "                0.5427699530516432,\n",
            "                0.19618750000000001,\n",
            "                0.20875586854460096,\n",
            "            ]),\n",
            "            'mask': None,\n",
            "            'confidence': None,\n",
            "            'index': None,\n",
            "            'supercategory': 'furniture',\n",
            "            'iscrowd': 0,\n",
            "        }>,\n",
            "    ]),\n",
            "}>\n"
          ]
        }
      ]
    },
    {
      "cell_type": "code",
      "metadata": {
        "id": "kth0FHcNQxIF"
      },
      "source": [
        "coco_session = fo.launch_app(coco_dataset)"
      ],
      "execution_count": null,
      "outputs": []
    },
    {
      "cell_type": "markdown",
      "metadata": {
        "id": "-OB5tRR1e41U"
      },
      "source": [
        "###Import Pretrained YOLOv5 Model"
      ]
    },
    {
      "cell_type": "code",
      "metadata": {
        "colab": {
          "base_uri": "https://localhost:8080/",
          "height": 590,
          "referenced_widgets": [
            "f580e9e6e1a04af084a7cc89cf738fe7",
            "54df3f642d2b42728034e1909b142a35",
            "ad7f76e713ee4aa7b1517216dcf845b1",
            "ec53450328354c6ebd7deb2fceccbe9c",
            "c91a93531ab74121b972b5531dd2da9b",
            "09be2b1e89604575a917296b4e8f0543",
            "c475e8ec0b5e4ac3b08cab32d68f387d",
            "191d3be3d8fa4adea5dff6566f63cffc",
            "844b385cc9cc4e599a32d756b860d869",
            "b150167ffa094ff6b04cfffb10f3e37b",
            "a68aa660ccae424db14445d2e8ec2127"
          ]
        },
        "id": "Sz181Pl7aIgi",
        "outputId": "d50b52c2-aa4f-4530-ba98-9ddf5c84d5ef"
      },
      "source": [
        "import torch\n",
        "\n",
        "# Run the model on GPU if it is available\n",
        "device = torch.device(\"cuda:0\" if torch.cuda.is_available() else \"cpu\")\n",
        "\n",
        "# Load a pre-trained YOLOv5 model\n",
        "model = torch.hub.load('ultralytics/yolov5', 'yolov5x', pretrained=True)\n",
        "model.to(device)\n",
        "model.eval()\n",
        "\n",
        "print(\"Model ready\")"
      ],
      "execution_count": null,
      "outputs": [
        {
          "name": "stderr",
          "output_type": "stream",
          "text": [
            "Downloading: \"https://github.com/ultralytics/yolov5/archive/master.zip\" to /root/.cache/torch/hub/master.zip\n"
          ]
        },
        {
          "name": "stdout",
          "output_type": "stream",
          "text": [
            "Downloading https://ultralytics.com/assets/Arial.ttf to /root/.config/Ultralytics/Arial.ttf...\n",
            "\u001b[31m\u001b[1mrequirements:\u001b[0m PyYAML>=5.3.1 not found and is required by YOLOv5, attempting auto-update...\n",
            "Collecting PyYAML>=5.3.1\n",
            "  Downloading PyYAML-6.0-cp37-cp37m-manylinux_2_5_x86_64.manylinux1_x86_64.manylinux_2_12_x86_64.manylinux2010_x86_64.whl (596 kB)\n",
            "Installing collected packages: PyYAML\n",
            "  Attempting uninstall: PyYAML\n",
            "    Found existing installation: PyYAML 3.13\n",
            "    Uninstalling PyYAML-3.13:\n",
            "      Successfully uninstalled PyYAML-3.13\n",
            "Successfully installed PyYAML-6.0\n",
            "\n",
            "\u001b[31m\u001b[1mrequirements:\u001b[0m requests>=2.23.0 not found and is required by YOLOv5, attempting auto-update...\n",
            "Requirement already satisfied: requests>=2.23.0 in /usr/local/lib/python3.7/dist-packages (2.23.0)\n",
            "Requirement already satisfied: chardet<4,>=3.0.2 in /usr/local/lib/python3.7/dist-packages (from requests>=2.23.0) (3.0.4)\n",
            "Requirement already satisfied: urllib3!=1.25.0,!=1.25.1,<1.26,>=1.21.1 in /usr/local/lib/python3.7/dist-packages (from requests>=2.23.0) (1.25.11)\n",
            "Requirement already satisfied: certifi>=2017.4.17 in /usr/local/lib/python3.7/dist-packages (from requests>=2.23.0) (2021.10.8)\n",
            "Requirement already satisfied: idna<3,>=2.5 in /usr/local/lib/python3.7/dist-packages (from requests>=2.23.0) (2.10)\n",
            "\n",
            "\u001b[31m\u001b[1mrequirements:\u001b[0m 2 packages updated per /root/.cache/torch/hub/ultralytics_yolov5_master/requirements.txt\n",
            "\u001b[31m\u001b[1mrequirements:\u001b[0m ⚠️ \u001b[1mRestart runtime or rerun command for updates to take effect\u001b[0m\n",
            "\n",
            "YOLOv5 🚀 2021-11-27 torch 1.10.0+cu111 CPU\n",
            "\n",
            "Downloading https://github.com/ultralytics/yolov5/releases/download/v6.0/yolov5x.pt to /root/.cache/torch/hub/ultralytics_yolov5_master/yolov5x.pt...\n"
          ]
        },
        {
          "data": {
            "application/vnd.jupyter.widget-view+json": {
              "model_id": "f580e9e6e1a04af084a7cc89cf738fe7",
              "version_major": 2,
              "version_minor": 0
            },
            "text/plain": [
              "  0%|          | 0.00/166M [00:00<?, ?B/s]"
            ]
          },
          "metadata": {},
          "output_type": "display_data"
        },
        {
          "name": "stdout",
          "output_type": "stream",
          "text": [
            "\n",
            "Fusing layers... \n",
            "Model Summary: 444 layers, 86705005 parameters, 0 gradients\n",
            "Adding AutoShape... \n",
            "Model ready\n"
          ]
        }
      ]
    },
    {
      "cell_type": "markdown",
      "metadata": {
        "id": "dVoKy5TYfxhL"
      },
      "source": [
        "### Helper code to manipulate bounding boxes if needed"
      ]
    },
    {
      "cell_type": "code",
      "metadata": {
        "id": "8O1dU2hWVC2z"
      },
      "source": [
        "# with fo.ProgressBar() as pb:\n",
        "#   for sample in pb(dataset):\n",
        "#     # image = Image.open(sample.filepath)\n",
        "#     # c, h, w = func.to_tensor(image).shape\n",
        "#     h, w = sample.metadata.height, sample.metadata.width #= h, w\n",
        "#     for detection in sample.ground_truth.detections:\n",
        "#       a, b, c, d = detection.bounding_box\n",
        "#       detection.bounding_box = a*h/w, b*w/h, c*h/w, d*w/h\n",
        "#     sample.save()"
      ],
      "execution_count": null,
      "outputs": []
    },
    {
      "cell_type": "markdown",
      "metadata": {
        "id": "m1AXIYxTl1__"
      },
      "source": [
        "# COCO Dataset"
      ]
    },
    {
      "cell_type": "markdown",
      "metadata": {
        "id": "FjEZf5o6l-Pq"
      },
      "source": [
        "##Detections"
      ]
    },
    {
      "cell_type": "markdown",
      "metadata": {
        "id": "0Aa6WPnEl-Pt"
      },
      "source": [
        "### Choose subset of data to perform detection"
      ]
    },
    {
      "cell_type": "code",
      "metadata": {
        "colab": {
          "base_uri": "https://localhost:8080/"
        },
        "id": "nLav7Qxol-Pv",
        "outputId": "53aa3a14-b5fa-47a1-c388-c51dea6c075c"
      },
      "source": [
        "# Choose a random subset of 100 samples to add predictions to\n",
        "# dataset1 = foz.load_zoo_dataset(\"quickstart\")\n",
        "# predictions_view = dataset1.take(100, seed=51)\n",
        "predictions_view = coco_dataset.take(100, seed=51)\n",
        "print(predictions_view)"
      ],
      "execution_count": null,
      "outputs": [
        {
          "name": "stdout",
          "output_type": "stream",
          "text": [
            "Dataset:     coco\n",
            "Media type:  image\n",
            "Num samples: 100\n",
            "Tags:        ['validation']\n",
            "Sample fields:\n",
            "    id:           fiftyone.core.fields.ObjectIdField\n",
            "    filepath:     fiftyone.core.fields.StringField\n",
            "    tags:         fiftyone.core.fields.ListField(fiftyone.core.fields.StringField)\n",
            "    metadata:     fiftyone.core.fields.EmbeddedDocumentField(fiftyone.core.metadata.Metadata)\n",
            "    ground_truth: fiftyone.core.fields.EmbeddedDocumentField(fiftyone.core.labels.Detections)\n",
            "View stages:\n",
            "    1. Take(size=100, seed=51)\n"
          ]
        }
      ]
    },
    {
      "cell_type": "code",
      "metadata": {
        "id": "nXqsR7NLl-Pw"
      },
      "source": [
        "# import fiftyone as fo\n",
        "coco_session.view = predictions_view"
      ],
      "execution_count": null,
      "outputs": []
    },
    {
      "cell_type": "markdown",
      "metadata": {
        "id": "QNktaeKgl-Pz"
      },
      "source": [
        "### Make Predictions"
      ]
    },
    {
      "cell_type": "code",
      "metadata": {
        "colab": {
          "base_uri": "https://localhost:8080/"
        },
        "id": "RfrvyU4yl-P0",
        "outputId": "bdb919ec-fb5d-4582-dcd8-b21b1c549576"
      },
      "source": [
        "# Add predictions to samples\n",
        "\n",
        "from fiftyone import ViewField as F\n",
        "from PIL import Image\n",
        "from torchvision.transforms import functional as func\n",
        "\n",
        "results = []\n",
        "with fo.ProgressBar() as pb:\n",
        "    for sample in pb(predictions_view):\n",
        "        # Load image\n",
        "        image = Image.open(sample.filepath)\n",
        "        c, h, w = func.to_tensor(image).shape\n",
        "        \n",
        "        # Perform inference\n",
        "        preds = model(image)\n",
        "        preds = preds.pandas().xyxy[0]\n",
        "        \n",
        "        labels = preds[\"name\"]\n",
        "        confidence = preds[\"confidence\"]\n",
        "        xmin = preds[\"xmin\"]\n",
        "        ymin = preds[\"ymin\"]\n",
        "        xmax = preds[\"xmax\"]\n",
        "        ymax = preds[\"ymax\"]\n",
        "        \n",
        "        # Convert detections to FiftyOne format\n",
        "        detections = []\n",
        "        for label, confidence, *box in zip(labels, confidence, xmin, ymin, xmax, ymax):\n",
        "            # Convert to [top-left-x, top-left-y, width, height]\n",
        "            # in relative coordinates in [0, 1] x [0, 1]\n",
        "            x1, y1, x2, y2 = box\n",
        "            rel_box = [x1 / w, y1 / h, (x2 - x1) / w, (y2 - y1) / h]\n",
        "\n",
        "            detections.append(\n",
        "                fo.Detection(\n",
        "                    label=label,\n",
        "                    bounding_box=rel_box,\n",
        "                    confidence=confidence\n",
        "                )\n",
        "            )\n",
        "        \n",
        "        # Save predictions to dataset\n",
        "        sample[\"yolov5x\"] = fo.Detections(detections=detections)\n",
        "        sample.save()\n",
        "\n",
        "print(\"Finished adding predictions\")"
      ],
      "execution_count": null,
      "outputs": [
        {
          "name": "stdout",
          "output_type": "stream",
          "text": [
            "   0% ||----------------|   0/100 [35.9ms elapsed, ? remaining, ? samples/s] "
          ]
        },
        {
          "name": "stderr",
          "output_type": "stream",
          "text": [
            "/usr/local/lib/python3.7/dist-packages/torch/autocast_mode.py:141: UserWarning: User provided device_type of 'cuda', but CUDA is not available. Disabling\n",
            "  warnings.warn('User provided device_type of \\'cuda\\', but CUDA is not available. Disabling')\n"
          ]
        },
        {
          "name": "stdout",
          "output_type": "stream",
          "text": [
            "   1% |/----------------|   1/100 [3.1s elapsed, 5.1m remaining, 0.3 samples/s] "
          ]
        },
        {
          "name": "stderr",
          "output_type": "stream",
          "text": [
            "/usr/local/lib/python3.7/dist-packages/torch/autocast_mode.py:141: UserWarning: User provided device_type of 'cuda', but CUDA is not available. Disabling\n",
            "  warnings.warn('User provided device_type of \\'cuda\\', but CUDA is not available. Disabling')\n"
          ]
        },
        {
          "name": "stdout",
          "output_type": "stream",
          "text": [
            "   2% |-----------------|   2/100 [5.8s elapsed, 4.7m remaining, 0.3 samples/s] "
          ]
        },
        {
          "name": "stderr",
          "output_type": "stream",
          "text": [
            "/usr/local/lib/python3.7/dist-packages/torch/autocast_mode.py:141: UserWarning: User provided device_type of 'cuda', but CUDA is not available. Disabling\n",
            "  warnings.warn('User provided device_type of \\'cuda\\', but CUDA is not available. Disabling')\n"
          ]
        },
        {
          "name": "stdout",
          "output_type": "stream",
          "text": [
            "   3% |\\----------------|   3/100 [8.6s elapsed, 4.7m remaining, 0.3 samples/s] "
          ]
        },
        {
          "name": "stderr",
          "output_type": "stream",
          "text": [
            "/usr/local/lib/python3.7/dist-packages/torch/autocast_mode.py:141: UserWarning: User provided device_type of 'cuda', but CUDA is not available. Disabling\n",
            "  warnings.warn('User provided device_type of \\'cuda\\', but CUDA is not available. Disabling')\n"
          ]
        },
        {
          "name": "stdout",
          "output_type": "stream",
          "text": [
            "   4% ||----------------|   4/100 [11.3s elapsed, 4.5m remaining, 0.4 samples/s] "
          ]
        },
        {
          "name": "stderr",
          "output_type": "stream",
          "text": [
            "/usr/local/lib/python3.7/dist-packages/torch/autocast_mode.py:141: UserWarning: User provided device_type of 'cuda', but CUDA is not available. Disabling\n",
            "  warnings.warn('User provided device_type of \\'cuda\\', but CUDA is not available. Disabling')\n"
          ]
        },
        {
          "name": "stdout",
          "output_type": "stream",
          "text": [
            "   5% |/----------------|   5/100 [14.1s elapsed, 4.5m remaining, 0.4 samples/s] "
          ]
        },
        {
          "name": "stderr",
          "output_type": "stream",
          "text": [
            "/usr/local/lib/python3.7/dist-packages/torch/autocast_mode.py:141: UserWarning: User provided device_type of 'cuda', but CUDA is not available. Disabling\n",
            "  warnings.warn('User provided device_type of \\'cuda\\', but CUDA is not available. Disabling')\n"
          ]
        },
        {
          "name": "stdout",
          "output_type": "stream",
          "text": [
            "   6% |█----------------|   6/100 [17.0s elapsed, 4.4m remaining, 0.4 samples/s] "
          ]
        },
        {
          "name": "stderr",
          "output_type": "stream",
          "text": [
            "/usr/local/lib/python3.7/dist-packages/torch/autocast_mode.py:141: UserWarning: User provided device_type of 'cuda', but CUDA is not available. Disabling\n",
            "  warnings.warn('User provided device_type of \\'cuda\\', but CUDA is not available. Disabling')\n"
          ]
        },
        {
          "name": "stdout",
          "output_type": "stream",
          "text": [
            "   7% |█\\---------------|   7/100 [19.9s elapsed, 4.4m remaining, 0.4 samples/s] "
          ]
        },
        {
          "name": "stderr",
          "output_type": "stream",
          "text": [
            "/usr/local/lib/python3.7/dist-packages/torch/autocast_mode.py:141: UserWarning: User provided device_type of 'cuda', but CUDA is not available. Disabling\n",
            "  warnings.warn('User provided device_type of \\'cuda\\', but CUDA is not available. Disabling')\n"
          ]
        },
        {
          "name": "stdout",
          "output_type": "stream",
          "text": [
            "   8% |█|---------------|   8/100 [22.0s elapsed, 4.2m remaining, 0.4 samples/s] "
          ]
        },
        {
          "name": "stderr",
          "output_type": "stream",
          "text": [
            "/usr/local/lib/python3.7/dist-packages/torch/autocast_mode.py:141: UserWarning: User provided device_type of 'cuda', but CUDA is not available. Disabling\n",
            "  warnings.warn('User provided device_type of \\'cuda\\', but CUDA is not available. Disabling')\n"
          ]
        },
        {
          "name": "stdout",
          "output_type": "stream",
          "text": [
            "   9% |█/---------------|   9/100 [24.3s elapsed, 4.1m remaining, 0.4 samples/s] "
          ]
        },
        {
          "name": "stderr",
          "output_type": "stream",
          "text": [
            "/usr/local/lib/python3.7/dist-packages/torch/autocast_mode.py:141: UserWarning: User provided device_type of 'cuda', but CUDA is not available. Disabling\n",
            "  warnings.warn('User provided device_type of \\'cuda\\', but CUDA is not available. Disabling')\n"
          ]
        },
        {
          "name": "stdout",
          "output_type": "stream",
          "text": [
            "  10% |█----------------|  10/100 [27.2s elapsed, 4.1m remaining, 0.4 samples/s] "
          ]
        },
        {
          "name": "stderr",
          "output_type": "stream",
          "text": [
            "/usr/local/lib/python3.7/dist-packages/torch/autocast_mode.py:141: UserWarning: User provided device_type of 'cuda', but CUDA is not available. Disabling\n",
            "  warnings.warn('User provided device_type of \\'cuda\\', but CUDA is not available. Disabling')\n"
          ]
        },
        {
          "name": "stdout",
          "output_type": "stream",
          "text": [
            "  11% |█\\---------------|  11/100 [30.0s elapsed, 4.0m remaining, 0.4 samples/s] "
          ]
        },
        {
          "name": "stderr",
          "output_type": "stream",
          "text": [
            "/usr/local/lib/python3.7/dist-packages/torch/autocast_mode.py:141: UserWarning: User provided device_type of 'cuda', but CUDA is not available. Disabling\n",
            "  warnings.warn('User provided device_type of \\'cuda\\', but CUDA is not available. Disabling')\n"
          ]
        },
        {
          "name": "stdout",
          "output_type": "stream",
          "text": [
            "  12% |██|--------------|  12/100 [32.8s elapsed, 4.0m remaining, 0.4 samples/s] "
          ]
        },
        {
          "name": "stderr",
          "output_type": "stream",
          "text": [
            "/usr/local/lib/python3.7/dist-packages/torch/autocast_mode.py:141: UserWarning: User provided device_type of 'cuda', but CUDA is not available. Disabling\n",
            "  warnings.warn('User provided device_type of \\'cuda\\', but CUDA is not available. Disabling')\n"
          ]
        },
        {
          "name": "stdout",
          "output_type": "stream",
          "text": [
            "  13% |██/--------------|  13/100 [35.7s elapsed, 4.0m remaining, 0.4 samples/s] "
          ]
        },
        {
          "name": "stderr",
          "output_type": "stream",
          "text": [
            "/usr/local/lib/python3.7/dist-packages/torch/autocast_mode.py:141: UserWarning: User provided device_type of 'cuda', but CUDA is not available. Disabling\n",
            "  warnings.warn('User provided device_type of \\'cuda\\', but CUDA is not available. Disabling')\n"
          ]
        },
        {
          "name": "stdout",
          "output_type": "stream",
          "text": [
            "  14% |██---------------|  14/100 [38.6s elapsed, 3.9m remaining, 0.4 samples/s] "
          ]
        },
        {
          "name": "stderr",
          "output_type": "stream",
          "text": [
            "/usr/local/lib/python3.7/dist-packages/torch/autocast_mode.py:141: UserWarning: User provided device_type of 'cuda', but CUDA is not available. Disabling\n",
            "  warnings.warn('User provided device_type of \\'cuda\\', but CUDA is not available. Disabling')\n"
          ]
        },
        {
          "name": "stdout",
          "output_type": "stream",
          "text": [
            "  15% |██\\--------------|  15/100 [41.3s elapsed, 3.9m remaining, 0.4 samples/s] "
          ]
        },
        {
          "name": "stderr",
          "output_type": "stream",
          "text": [
            "/usr/local/lib/python3.7/dist-packages/torch/autocast_mode.py:141: UserWarning: User provided device_type of 'cuda', but CUDA is not available. Disabling\n",
            "  warnings.warn('User provided device_type of \\'cuda\\', but CUDA is not available. Disabling')\n"
          ]
        },
        {
          "name": "stdout",
          "output_type": "stream",
          "text": [
            "  16% |██|--------------|  16/100 [43.6s elapsed, 3.8m remaining, 0.4 samples/s] "
          ]
        },
        {
          "name": "stderr",
          "output_type": "stream",
          "text": [
            "/usr/local/lib/python3.7/dist-packages/torch/autocast_mode.py:141: UserWarning: User provided device_type of 'cuda', but CUDA is not available. Disabling\n",
            "  warnings.warn('User provided device_type of \\'cuda\\', but CUDA is not available. Disabling')\n"
          ]
        },
        {
          "name": "stdout",
          "output_type": "stream",
          "text": [
            "  17% |██/--------------|  17/100 [46.5s elapsed, 3.8m remaining, 0.4 samples/s] "
          ]
        },
        {
          "name": "stderr",
          "output_type": "stream",
          "text": [
            "/usr/local/lib/python3.7/dist-packages/torch/autocast_mode.py:141: UserWarning: User provided device_type of 'cuda', but CUDA is not available. Disabling\n",
            "  warnings.warn('User provided device_type of \\'cuda\\', but CUDA is not available. Disabling')\n"
          ]
        },
        {
          "name": "stdout",
          "output_type": "stream",
          "text": [
            "  18% |███--------------|  18/100 [49.2s elapsed, 3.7m remaining, 0.4 samples/s] "
          ]
        },
        {
          "name": "stderr",
          "output_type": "stream",
          "text": [
            "/usr/local/lib/python3.7/dist-packages/torch/autocast_mode.py:141: UserWarning: User provided device_type of 'cuda', but CUDA is not available. Disabling\n",
            "  warnings.warn('User provided device_type of \\'cuda\\', but CUDA is not available. Disabling')\n"
          ]
        },
        {
          "name": "stdout",
          "output_type": "stream",
          "text": [
            "  19% |███\\-------------|  19/100 [51.9s elapsed, 3.7m remaining, 0.4 samples/s] "
          ]
        },
        {
          "name": "stderr",
          "output_type": "stream",
          "text": [
            "/usr/local/lib/python3.7/dist-packages/torch/autocast_mode.py:141: UserWarning: User provided device_type of 'cuda', but CUDA is not available. Disabling\n",
            "  warnings.warn('User provided device_type of \\'cuda\\', but CUDA is not available. Disabling')\n"
          ]
        },
        {
          "name": "stdout",
          "output_type": "stream",
          "text": [
            "  20% |███|-------------|  20/100 [54.6s elapsed, 3.6m remaining, 0.4 samples/s] "
          ]
        },
        {
          "name": "stderr",
          "output_type": "stream",
          "text": [
            "/usr/local/lib/python3.7/dist-packages/torch/autocast_mode.py:141: UserWarning: User provided device_type of 'cuda', but CUDA is not available. Disabling\n",
            "  warnings.warn('User provided device_type of \\'cuda\\', but CUDA is not available. Disabling')\n"
          ]
        },
        {
          "name": "stdout",
          "output_type": "stream",
          "text": [
            "  21% |███/-------------|  21/100 [57.9s elapsed, 3.6m remaining, 0.4 samples/s] "
          ]
        },
        {
          "name": "stderr",
          "output_type": "stream",
          "text": [
            "/usr/local/lib/python3.7/dist-packages/torch/autocast_mode.py:141: UserWarning: User provided device_type of 'cuda', but CUDA is not available. Disabling\n",
            "  warnings.warn('User provided device_type of \\'cuda\\', but CUDA is not available. Disabling')\n"
          ]
        },
        {
          "name": "stdout",
          "output_type": "stream",
          "text": [
            "  22% |███--------------|  22/100 [1.0m elapsed, 3.6m remaining, 0.4 samples/s]  "
          ]
        },
        {
          "name": "stderr",
          "output_type": "stream",
          "text": [
            "/usr/local/lib/python3.7/dist-packages/torch/autocast_mode.py:141: UserWarning: User provided device_type of 'cuda', but CUDA is not available. Disabling\n",
            "  warnings.warn('User provided device_type of \\'cuda\\', but CUDA is not available. Disabling')\n"
          ]
        },
        {
          "name": "stdout",
          "output_type": "stream",
          "text": [
            "  23% |███\\-------------|  23/100 [1.1m elapsed, 3.5m remaining, 0.4 samples/s]  "
          ]
        },
        {
          "name": "stderr",
          "output_type": "stream",
          "text": [
            "/usr/local/lib/python3.7/dist-packages/torch/autocast_mode.py:141: UserWarning: User provided device_type of 'cuda', but CUDA is not available. Disabling\n",
            "  warnings.warn('User provided device_type of \\'cuda\\', but CUDA is not available. Disabling')\n"
          ]
        },
        {
          "name": "stdout",
          "output_type": "stream",
          "text": [
            "  24% |████|------------|  24/100 [1.1m elapsed, 3.5m remaining, 0.4 samples/s]  "
          ]
        },
        {
          "name": "stderr",
          "output_type": "stream",
          "text": [
            "/usr/local/lib/python3.7/dist-packages/torch/autocast_mode.py:141: UserWarning: User provided device_type of 'cuda', but CUDA is not available. Disabling\n",
            "  warnings.warn('User provided device_type of \\'cuda\\', but CUDA is not available. Disabling')\n"
          ]
        },
        {
          "name": "stdout",
          "output_type": "stream",
          "text": [
            "  25% |████/------------|  25/100 [1.2m elapsed, 3.5m remaining, 0.4 samples/s]  "
          ]
        },
        {
          "name": "stderr",
          "output_type": "stream",
          "text": [
            "/usr/local/lib/python3.7/dist-packages/torch/autocast_mode.py:141: UserWarning: User provided device_type of 'cuda', but CUDA is not available. Disabling\n",
            "  warnings.warn('User provided device_type of \\'cuda\\', but CUDA is not available. Disabling')\n"
          ]
        },
        {
          "name": "stdout",
          "output_type": "stream",
          "text": [
            "  26% |████-------------|  26/100 [1.2m elapsed, 3.4m remaining, 0.4 samples/s]  "
          ]
        },
        {
          "name": "stderr",
          "output_type": "stream",
          "text": [
            "/usr/local/lib/python3.7/dist-packages/torch/autocast_mode.py:141: UserWarning: User provided device_type of 'cuda', but CUDA is not available. Disabling\n",
            "  warnings.warn('User provided device_type of \\'cuda\\', but CUDA is not available. Disabling')\n"
          ]
        },
        {
          "name": "stdout",
          "output_type": "stream",
          "text": [
            "  27% |████\\------------|  27/100 [1.2m elapsed, 3.3m remaining, 0.4 samples/s]  "
          ]
        },
        {
          "name": "stderr",
          "output_type": "stream",
          "text": [
            "/usr/local/lib/python3.7/dist-packages/torch/autocast_mode.py:141: UserWarning: User provided device_type of 'cuda', but CUDA is not available. Disabling\n",
            "  warnings.warn('User provided device_type of \\'cuda\\', but CUDA is not available. Disabling')\n"
          ]
        },
        {
          "name": "stdout",
          "output_type": "stream",
          "text": [
            "  28% |████|------------|  28/100 [1.3m elapsed, 3.3m remaining, 0.4 samples/s]  "
          ]
        },
        {
          "name": "stderr",
          "output_type": "stream",
          "text": [
            "/usr/local/lib/python3.7/dist-packages/torch/autocast_mode.py:141: UserWarning: User provided device_type of 'cuda', but CUDA is not available. Disabling\n",
            "  warnings.warn('User provided device_type of \\'cuda\\', but CUDA is not available. Disabling')\n"
          ]
        },
        {
          "name": "stdout",
          "output_type": "stream",
          "text": [
            "  29% |████/------------|  29/100 [1.3m elapsed, 3.2m remaining, 0.4 samples/s]  "
          ]
        },
        {
          "name": "stderr",
          "output_type": "stream",
          "text": [
            "/usr/local/lib/python3.7/dist-packages/torch/autocast_mode.py:141: UserWarning: User provided device_type of 'cuda', but CUDA is not available. Disabling\n",
            "  warnings.warn('User provided device_type of \\'cuda\\', but CUDA is not available. Disabling')\n"
          ]
        },
        {
          "name": "stdout",
          "output_type": "stream",
          "text": [
            "  30% |█████------------|  30/100 [1.4m elapsed, 3.1m remaining, 0.4 samples/s]  "
          ]
        },
        {
          "name": "stderr",
          "output_type": "stream",
          "text": [
            "/usr/local/lib/python3.7/dist-packages/torch/autocast_mode.py:141: UserWarning: User provided device_type of 'cuda', but CUDA is not available. Disabling\n",
            "  warnings.warn('User provided device_type of \\'cuda\\', but CUDA is not available. Disabling')\n"
          ]
        },
        {
          "name": "stdout",
          "output_type": "stream",
          "text": [
            "  31% |█████\\-----------|  31/100 [1.4m elapsed, 3.1m remaining, 0.4 samples/s]  "
          ]
        },
        {
          "name": "stderr",
          "output_type": "stream",
          "text": [
            "/usr/local/lib/python3.7/dist-packages/torch/autocast_mode.py:141: UserWarning: User provided device_type of 'cuda', but CUDA is not available. Disabling\n",
            "  warnings.warn('User provided device_type of \\'cuda\\', but CUDA is not available. Disabling')\n"
          ]
        },
        {
          "name": "stdout",
          "output_type": "stream",
          "text": [
            "  32% |█████|-----------|  32/100 [1.5m elapsed, 3.1m remaining, 0.4 samples/s]  "
          ]
        },
        {
          "name": "stderr",
          "output_type": "stream",
          "text": [
            "/usr/local/lib/python3.7/dist-packages/torch/autocast_mode.py:141: UserWarning: User provided device_type of 'cuda', but CUDA is not available. Disabling\n",
            "  warnings.warn('User provided device_type of \\'cuda\\', but CUDA is not available. Disabling')\n"
          ]
        },
        {
          "name": "stdout",
          "output_type": "stream",
          "text": [
            "  33% |█████/-----------|  33/100 [1.5m elapsed, 3.1m remaining, 0.4 samples/s]  "
          ]
        },
        {
          "name": "stderr",
          "output_type": "stream",
          "text": [
            "/usr/local/lib/python3.7/dist-packages/torch/autocast_mode.py:141: UserWarning: User provided device_type of 'cuda', but CUDA is not available. Disabling\n",
            "  warnings.warn('User provided device_type of \\'cuda\\', but CUDA is not available. Disabling')\n"
          ]
        },
        {
          "name": "stdout",
          "output_type": "stream",
          "text": [
            "  34% |█████------------|  34/100 [1.6m elapsed, 3.0m remaining, 0.4 samples/s]  "
          ]
        },
        {
          "name": "stderr",
          "output_type": "stream",
          "text": [
            "/usr/local/lib/python3.7/dist-packages/torch/autocast_mode.py:141: UserWarning: User provided device_type of 'cuda', but CUDA is not available. Disabling\n",
            "  warnings.warn('User provided device_type of \\'cuda\\', but CUDA is not available. Disabling')\n"
          ]
        },
        {
          "name": "stdout",
          "output_type": "stream",
          "text": [
            "  35% |█████\\-----------|  35/100 [1.6m elapsed, 3.0m remaining, 0.4 samples/s]  "
          ]
        },
        {
          "name": "stderr",
          "output_type": "stream",
          "text": [
            "/usr/local/lib/python3.7/dist-packages/torch/autocast_mode.py:141: UserWarning: User provided device_type of 'cuda', but CUDA is not available. Disabling\n",
            "  warnings.warn('User provided device_type of \\'cuda\\', but CUDA is not available. Disabling')\n"
          ]
        },
        {
          "name": "stdout",
          "output_type": "stream",
          "text": [
            "  36% |██████|----------|  36/100 [1.6m elapsed, 3.0m remaining, 0.4 samples/s]  "
          ]
        },
        {
          "name": "stderr",
          "output_type": "stream",
          "text": [
            "/usr/local/lib/python3.7/dist-packages/torch/autocast_mode.py:141: UserWarning: User provided device_type of 'cuda', but CUDA is not available. Disabling\n",
            "  warnings.warn('User provided device_type of \\'cuda\\', but CUDA is not available. Disabling')\n"
          ]
        },
        {
          "name": "stdout",
          "output_type": "stream",
          "text": [
            "  37% |██████/----------|  37/100 [1.7m elapsed, 2.9m remaining, 0.4 samples/s]  "
          ]
        },
        {
          "name": "stderr",
          "output_type": "stream",
          "text": [
            "/usr/local/lib/python3.7/dist-packages/torch/autocast_mode.py:141: UserWarning: User provided device_type of 'cuda', but CUDA is not available. Disabling\n",
            "  warnings.warn('User provided device_type of \\'cuda\\', but CUDA is not available. Disabling')\n"
          ]
        },
        {
          "name": "stdout",
          "output_type": "stream",
          "text": [
            "  38% |██████-----------|  38/100 [1.7m elapsed, 2.9m remaining, 0.3 samples/s]  "
          ]
        },
        {
          "name": "stderr",
          "output_type": "stream",
          "text": [
            "/usr/local/lib/python3.7/dist-packages/torch/autocast_mode.py:141: UserWarning: User provided device_type of 'cuda', but CUDA is not available. Disabling\n",
            "  warnings.warn('User provided device_type of \\'cuda\\', but CUDA is not available. Disabling')\n"
          ]
        },
        {
          "name": "stdout",
          "output_type": "stream",
          "text": [
            "  39% |██████\\----------|  39/100 [1.8m elapsed, 2.9m remaining, 0.3 samples/s]  "
          ]
        },
        {
          "name": "stderr",
          "output_type": "stream",
          "text": [
            "/usr/local/lib/python3.7/dist-packages/torch/autocast_mode.py:141: UserWarning: User provided device_type of 'cuda', but CUDA is not available. Disabling\n",
            "  warnings.warn('User provided device_type of \\'cuda\\', but CUDA is not available. Disabling')\n"
          ]
        },
        {
          "name": "stdout",
          "output_type": "stream",
          "text": [
            "  40% |██████|----------|  40/100 [1.8m elapsed, 2.8m remaining, 0.3 samples/s]  "
          ]
        },
        {
          "name": "stderr",
          "output_type": "stream",
          "text": [
            "/usr/local/lib/python3.7/dist-packages/torch/autocast_mode.py:141: UserWarning: User provided device_type of 'cuda', but CUDA is not available. Disabling\n",
            "  warnings.warn('User provided device_type of \\'cuda\\', but CUDA is not available. Disabling')\n"
          ]
        },
        {
          "name": "stdout",
          "output_type": "stream",
          "text": [
            "  41% |██████/----------|  41/100 [1.9m elapsed, 2.7m remaining, 0.4 samples/s]  "
          ]
        },
        {
          "name": "stderr",
          "output_type": "stream",
          "text": [
            "/usr/local/lib/python3.7/dist-packages/torch/autocast_mode.py:141: UserWarning: User provided device_type of 'cuda', but CUDA is not available. Disabling\n",
            "  warnings.warn('User provided device_type of \\'cuda\\', but CUDA is not available. Disabling')\n"
          ]
        },
        {
          "name": "stdout",
          "output_type": "stream",
          "text": [
            "  42% |███████----------|  42/100 [1.9m elapsed, 2.7m remaining, 0.4 samples/s]  "
          ]
        },
        {
          "name": "stderr",
          "output_type": "stream",
          "text": [
            "/usr/local/lib/python3.7/dist-packages/torch/autocast_mode.py:141: UserWarning: User provided device_type of 'cuda', but CUDA is not available. Disabling\n",
            "  warnings.warn('User provided device_type of \\'cuda\\', but CUDA is not available. Disabling')\n"
          ]
        },
        {
          "name": "stdout",
          "output_type": "stream",
          "text": [
            "  43% |███████\\---------|  43/100 [2.0m elapsed, 2.6m remaining, 0.4 samples/s]  "
          ]
        },
        {
          "name": "stderr",
          "output_type": "stream",
          "text": [
            "/usr/local/lib/python3.7/dist-packages/torch/autocast_mode.py:141: UserWarning: User provided device_type of 'cuda', but CUDA is not available. Disabling\n",
            "  warnings.warn('User provided device_type of \\'cuda\\', but CUDA is not available. Disabling')\n"
          ]
        },
        {
          "name": "stdout",
          "output_type": "stream",
          "text": [
            "  44% |███████|---------|  44/100 [2.0m elapsed, 2.6m remaining, 0.4 samples/s]  "
          ]
        },
        {
          "name": "stderr",
          "output_type": "stream",
          "text": [
            "/usr/local/lib/python3.7/dist-packages/torch/autocast_mode.py:141: UserWarning: User provided device_type of 'cuda', but CUDA is not available. Disabling\n",
            "  warnings.warn('User provided device_type of \\'cuda\\', but CUDA is not available. Disabling')\n"
          ]
        },
        {
          "name": "stdout",
          "output_type": "stream",
          "text": [
            "  45% |███████/---------|  45/100 [2.1m elapsed, 2.6m remaining, 0.3 samples/s]  "
          ]
        },
        {
          "name": "stderr",
          "output_type": "stream",
          "text": [
            "/usr/local/lib/python3.7/dist-packages/torch/autocast_mode.py:141: UserWarning: User provided device_type of 'cuda', but CUDA is not available. Disabling\n",
            "  warnings.warn('User provided device_type of \\'cuda\\', but CUDA is not available. Disabling')\n"
          ]
        },
        {
          "name": "stdout",
          "output_type": "stream",
          "text": [
            "  46% |███████----------|  46/100 [2.1m elapsed, 2.6m remaining, 0.3 samples/s]  "
          ]
        },
        {
          "name": "stderr",
          "output_type": "stream",
          "text": [
            "/usr/local/lib/python3.7/dist-packages/torch/autocast_mode.py:141: UserWarning: User provided device_type of 'cuda', but CUDA is not available. Disabling\n",
            "  warnings.warn('User provided device_type of \\'cuda\\', but CUDA is not available. Disabling')\n"
          ]
        },
        {
          "name": "stdout",
          "output_type": "stream",
          "text": [
            "  47% |███████\\---------|  47/100 [2.2m elapsed, 2.6m remaining, 0.3 samples/s]  "
          ]
        },
        {
          "name": "stderr",
          "output_type": "stream",
          "text": [
            "/usr/local/lib/python3.7/dist-packages/torch/autocast_mode.py:141: UserWarning: User provided device_type of 'cuda', but CUDA is not available. Disabling\n",
            "  warnings.warn('User provided device_type of \\'cuda\\', but CUDA is not available. Disabling')\n"
          ]
        },
        {
          "name": "stdout",
          "output_type": "stream",
          "text": [
            "  48% |████████|--------|  48/100 [2.2m elapsed, 2.5m remaining, 0.3 samples/s]  "
          ]
        },
        {
          "name": "stderr",
          "output_type": "stream",
          "text": [
            "/usr/local/lib/python3.7/dist-packages/torch/autocast_mode.py:141: UserWarning: User provided device_type of 'cuda', but CUDA is not available. Disabling\n",
            "  warnings.warn('User provided device_type of \\'cuda\\', but CUDA is not available. Disabling')\n"
          ]
        },
        {
          "name": "stdout",
          "output_type": "stream",
          "text": [
            "  49% |████████/--------|  49/100 [2.3m elapsed, 2.5m remaining, 0.3 samples/s]  "
          ]
        },
        {
          "name": "stderr",
          "output_type": "stream",
          "text": [
            "/usr/local/lib/python3.7/dist-packages/torch/autocast_mode.py:141: UserWarning: User provided device_type of 'cuda', but CUDA is not available. Disabling\n",
            "  warnings.warn('User provided device_type of \\'cuda\\', but CUDA is not available. Disabling')\n"
          ]
        },
        {
          "name": "stdout",
          "output_type": "stream",
          "text": [
            "  50% |████████---------|  50/100 [2.3m elapsed, 2.4m remaining, 0.3 samples/s]  "
          ]
        },
        {
          "name": "stderr",
          "output_type": "stream",
          "text": [
            "/usr/local/lib/python3.7/dist-packages/torch/autocast_mode.py:141: UserWarning: User provided device_type of 'cuda', but CUDA is not available. Disabling\n",
            "  warnings.warn('User provided device_type of \\'cuda\\', but CUDA is not available. Disabling')\n"
          ]
        },
        {
          "name": "stdout",
          "output_type": "stream",
          "text": [
            "  51% |████████\\--------|  51/100 [2.4m elapsed, 2.4m remaining, 0.3 samples/s]  "
          ]
        },
        {
          "name": "stderr",
          "output_type": "stream",
          "text": [
            "/usr/local/lib/python3.7/dist-packages/torch/autocast_mode.py:141: UserWarning: User provided device_type of 'cuda', but CUDA is not available. Disabling\n",
            "  warnings.warn('User provided device_type of \\'cuda\\', but CUDA is not available. Disabling')\n"
          ]
        },
        {
          "name": "stdout",
          "output_type": "stream",
          "text": [
            "  52% |████████|--------|  52/100 [2.4m elapsed, 2.3m remaining, 0.3 samples/s]  "
          ]
        },
        {
          "name": "stderr",
          "output_type": "stream",
          "text": [
            "/usr/local/lib/python3.7/dist-packages/torch/autocast_mode.py:141: UserWarning: User provided device_type of 'cuda', but CUDA is not available. Disabling\n",
            "  warnings.warn('User provided device_type of \\'cuda\\', but CUDA is not available. Disabling')\n"
          ]
        },
        {
          "name": "stdout",
          "output_type": "stream",
          "text": [
            "  53% |█████████/-------|  53/100 [2.5m elapsed, 2.3m remaining, 0.3 samples/s]  "
          ]
        },
        {
          "name": "stderr",
          "output_type": "stream",
          "text": [
            "/usr/local/lib/python3.7/dist-packages/torch/autocast_mode.py:141: UserWarning: User provided device_type of 'cuda', but CUDA is not available. Disabling\n",
            "  warnings.warn('User provided device_type of \\'cuda\\', but CUDA is not available. Disabling')\n"
          ]
        },
        {
          "name": "stdout",
          "output_type": "stream",
          "text": [
            "  54% |█████████--------|  54/100 [2.5m elapsed, 2.2m remaining, 0.3 samples/s]  "
          ]
        },
        {
          "name": "stderr",
          "output_type": "stream",
          "text": [
            "/usr/local/lib/python3.7/dist-packages/torch/autocast_mode.py:141: UserWarning: User provided device_type of 'cuda', but CUDA is not available. Disabling\n",
            "  warnings.warn('User provided device_type of \\'cuda\\', but CUDA is not available. Disabling')\n"
          ]
        },
        {
          "name": "stdout",
          "output_type": "stream",
          "text": [
            "  55% |█████████\\-------|  55/100 [2.6m elapsed, 2.1m remaining, 0.3 samples/s]  "
          ]
        },
        {
          "name": "stderr",
          "output_type": "stream",
          "text": [
            "/usr/local/lib/python3.7/dist-packages/torch/autocast_mode.py:141: UserWarning: User provided device_type of 'cuda', but CUDA is not available. Disabling\n",
            "  warnings.warn('User provided device_type of \\'cuda\\', but CUDA is not available. Disabling')\n"
          ]
        },
        {
          "name": "stdout",
          "output_type": "stream",
          "text": [
            "  56% |█████████|-------|  56/100 [2.6m elapsed, 2.0m remaining, 0.4 samples/s]  "
          ]
        },
        {
          "name": "stderr",
          "output_type": "stream",
          "text": [
            "/usr/local/lib/python3.7/dist-packages/torch/autocast_mode.py:141: UserWarning: User provided device_type of 'cuda', but CUDA is not available. Disabling\n",
            "  warnings.warn('User provided device_type of \\'cuda\\', but CUDA is not available. Disabling')\n"
          ]
        },
        {
          "name": "stdout",
          "output_type": "stream",
          "text": [
            "  57% |█████████/-------|  57/100 [2.7m elapsed, 2.0m remaining, 0.4 samples/s]  "
          ]
        },
        {
          "name": "stderr",
          "output_type": "stream",
          "text": [
            "/usr/local/lib/python3.7/dist-packages/torch/autocast_mode.py:141: UserWarning: User provided device_type of 'cuda', but CUDA is not available. Disabling\n",
            "  warnings.warn('User provided device_type of \\'cuda\\', but CUDA is not available. Disabling')\n"
          ]
        },
        {
          "name": "stdout",
          "output_type": "stream",
          "text": [
            "  58% |█████████--------|  58/100 [2.7m elapsed, 1.9m remaining, 0.4 samples/s]  "
          ]
        },
        {
          "name": "stderr",
          "output_type": "stream",
          "text": [
            "/usr/local/lib/python3.7/dist-packages/torch/autocast_mode.py:141: UserWarning: User provided device_type of 'cuda', but CUDA is not available. Disabling\n",
            "  warnings.warn('User provided device_type of \\'cuda\\', but CUDA is not available. Disabling')\n"
          ]
        },
        {
          "name": "stdout",
          "output_type": "stream",
          "text": [
            "  59% |██████████\\------|  59/100 [2.7m elapsed, 1.9m remaining, 0.4 samples/s]  "
          ]
        },
        {
          "name": "stderr",
          "output_type": "stream",
          "text": [
            "/usr/local/lib/python3.7/dist-packages/torch/autocast_mode.py:141: UserWarning: User provided device_type of 'cuda', but CUDA is not available. Disabling\n",
            "  warnings.warn('User provided device_type of \\'cuda\\', but CUDA is not available. Disabling')\n"
          ]
        },
        {
          "name": "stdout",
          "output_type": "stream",
          "text": [
            "  60% |██████████|------|  60/100 [2.8m elapsed, 1.8m remaining, 0.4 samples/s]  "
          ]
        },
        {
          "name": "stderr",
          "output_type": "stream",
          "text": [
            "/usr/local/lib/python3.7/dist-packages/torch/autocast_mode.py:141: UserWarning: User provided device_type of 'cuda', but CUDA is not available. Disabling\n",
            "  warnings.warn('User provided device_type of \\'cuda\\', but CUDA is not available. Disabling')\n"
          ]
        },
        {
          "name": "stdout",
          "output_type": "stream",
          "text": [
            "  61% |██████████/------|  61/100 [2.8m elapsed, 1.8m remaining, 0.4 samples/s]  "
          ]
        },
        {
          "name": "stderr",
          "output_type": "stream",
          "text": [
            "/usr/local/lib/python3.7/dist-packages/torch/autocast_mode.py:141: UserWarning: User provided device_type of 'cuda', but CUDA is not available. Disabling\n",
            "  warnings.warn('User provided device_type of \\'cuda\\', but CUDA is not available. Disabling')\n"
          ]
        },
        {
          "name": "stdout",
          "output_type": "stream",
          "text": [
            "  62% |██████████-------|  62/100 [2.9m elapsed, 1.8m remaining, 0.4 samples/s]  "
          ]
        },
        {
          "name": "stderr",
          "output_type": "stream",
          "text": [
            "/usr/local/lib/python3.7/dist-packages/torch/autocast_mode.py:141: UserWarning: User provided device_type of 'cuda', but CUDA is not available. Disabling\n",
            "  warnings.warn('User provided device_type of \\'cuda\\', but CUDA is not available. Disabling')\n"
          ]
        },
        {
          "name": "stdout",
          "output_type": "stream",
          "text": [
            "  63% |██████████\\------|  63/100 [2.9m elapsed, 1.7m remaining, 0.4 samples/s]  "
          ]
        },
        {
          "name": "stderr",
          "output_type": "stream",
          "text": [
            "/usr/local/lib/python3.7/dist-packages/torch/autocast_mode.py:141: UserWarning: User provided device_type of 'cuda', but CUDA is not available. Disabling\n",
            "  warnings.warn('User provided device_type of \\'cuda\\', but CUDA is not available. Disabling')\n"
          ]
        },
        {
          "name": "stdout",
          "output_type": "stream",
          "text": [
            "  64% |██████████|------|  64/100 [3.0m elapsed, 1.7m remaining, 0.4 samples/s]  "
          ]
        },
        {
          "name": "stderr",
          "output_type": "stream",
          "text": [
            "/usr/local/lib/python3.7/dist-packages/torch/autocast_mode.py:141: UserWarning: User provided device_type of 'cuda', but CUDA is not available. Disabling\n",
            "  warnings.warn('User provided device_type of \\'cuda\\', but CUDA is not available. Disabling')\n"
          ]
        },
        {
          "name": "stdout",
          "output_type": "stream",
          "text": [
            "  65% |███████████/-----|  65/100 [3.0m elapsed, 1.7m remaining, 0.3 samples/s]  "
          ]
        },
        {
          "name": "stderr",
          "output_type": "stream",
          "text": [
            "/usr/local/lib/python3.7/dist-packages/torch/autocast_mode.py:141: UserWarning: User provided device_type of 'cuda', but CUDA is not available. Disabling\n",
            "  warnings.warn('User provided device_type of \\'cuda\\', but CUDA is not available. Disabling')\n"
          ]
        },
        {
          "name": "stdout",
          "output_type": "stream",
          "text": [
            "  66% |███████████------|  66/100 [3.1m elapsed, 1.6m remaining, 0.4 samples/s]  "
          ]
        },
        {
          "name": "stderr",
          "output_type": "stream",
          "text": [
            "/usr/local/lib/python3.7/dist-packages/torch/autocast_mode.py:141: UserWarning: User provided device_type of 'cuda', but CUDA is not available. Disabling\n",
            "  warnings.warn('User provided device_type of \\'cuda\\', but CUDA is not available. Disabling')\n"
          ]
        },
        {
          "name": "stdout",
          "output_type": "stream",
          "text": [
            "  67% |███████████\\-----|  67/100 [3.1m elapsed, 1.5m remaining, 0.4 samples/s]  "
          ]
        },
        {
          "name": "stderr",
          "output_type": "stream",
          "text": [
            "/usr/local/lib/python3.7/dist-packages/torch/autocast_mode.py:141: UserWarning: User provided device_type of 'cuda', but CUDA is not available. Disabling\n",
            "  warnings.warn('User provided device_type of \\'cuda\\', but CUDA is not available. Disabling')\n"
          ]
        },
        {
          "name": "stdout",
          "output_type": "stream",
          "text": [
            "  68% |███████████|-----|  68/100 [3.2m elapsed, 1.5m remaining, 0.4 samples/s]  "
          ]
        },
        {
          "name": "stderr",
          "output_type": "stream",
          "text": [
            "/usr/local/lib/python3.7/dist-packages/torch/autocast_mode.py:141: UserWarning: User provided device_type of 'cuda', but CUDA is not available. Disabling\n",
            "  warnings.warn('User provided device_type of \\'cuda\\', but CUDA is not available. Disabling')\n"
          ]
        },
        {
          "name": "stdout",
          "output_type": "stream",
          "text": [
            "  69% |███████████/-----|  69/100 [3.2m elapsed, 1.4m remaining, 0.4 samples/s]  "
          ]
        },
        {
          "name": "stderr",
          "output_type": "stream",
          "text": [
            "/usr/local/lib/python3.7/dist-packages/torch/autocast_mode.py:141: UserWarning: User provided device_type of 'cuda', but CUDA is not available. Disabling\n",
            "  warnings.warn('User provided device_type of \\'cuda\\', but CUDA is not available. Disabling')\n"
          ]
        },
        {
          "name": "stdout",
          "output_type": "stream",
          "text": [
            "  70% |███████████------|  70/100 [3.3m elapsed, 1.4m remaining, 0.4 samples/s]  "
          ]
        },
        {
          "name": "stderr",
          "output_type": "stream",
          "text": [
            "/usr/local/lib/python3.7/dist-packages/torch/autocast_mode.py:141: UserWarning: User provided device_type of 'cuda', but CUDA is not available. Disabling\n",
            "  warnings.warn('User provided device_type of \\'cuda\\', but CUDA is not available. Disabling')\n"
          ]
        },
        {
          "name": "stdout",
          "output_type": "stream",
          "text": [
            "  71% |████████████\\----|  71/100 [3.3m elapsed, 1.3m remaining, 0.4 samples/s]  "
          ]
        },
        {
          "name": "stderr",
          "output_type": "stream",
          "text": [
            "/usr/local/lib/python3.7/dist-packages/torch/autocast_mode.py:141: UserWarning: User provided device_type of 'cuda', but CUDA is not available. Disabling\n",
            "  warnings.warn('User provided device_type of \\'cuda\\', but CUDA is not available. Disabling')\n"
          ]
        },
        {
          "name": "stdout",
          "output_type": "stream",
          "text": [
            "  72% |████████████|----|  72/100 [3.4m elapsed, 1.3m remaining, 0.4 samples/s]  "
          ]
        },
        {
          "name": "stderr",
          "output_type": "stream",
          "text": [
            "/usr/local/lib/python3.7/dist-packages/torch/autocast_mode.py:141: UserWarning: User provided device_type of 'cuda', but CUDA is not available. Disabling\n",
            "  warnings.warn('User provided device_type of \\'cuda\\', but CUDA is not available. Disabling')\n"
          ]
        },
        {
          "name": "stdout",
          "output_type": "stream",
          "text": [
            "  73% |████████████/----|  73/100 [3.4m elapsed, 1.2m remaining, 0.4 samples/s]  "
          ]
        },
        {
          "name": "stderr",
          "output_type": "stream",
          "text": [
            "/usr/local/lib/python3.7/dist-packages/torch/autocast_mode.py:141: UserWarning: User provided device_type of 'cuda', but CUDA is not available. Disabling\n",
            "  warnings.warn('User provided device_type of \\'cuda\\', but CUDA is not available. Disabling')\n"
          ]
        },
        {
          "name": "stdout",
          "output_type": "stream",
          "text": [
            "  74% |████████████-----|  74/100 [3.4m elapsed, 1.2m remaining, 0.4 samples/s]  "
          ]
        },
        {
          "name": "stderr",
          "output_type": "stream",
          "text": [
            "/usr/local/lib/python3.7/dist-packages/torch/autocast_mode.py:141: UserWarning: User provided device_type of 'cuda', but CUDA is not available. Disabling\n",
            "  warnings.warn('User provided device_type of \\'cuda\\', but CUDA is not available. Disabling')\n"
          ]
        },
        {
          "name": "stdout",
          "output_type": "stream",
          "text": [
            "  75% |████████████\\----|  75/100 [3.5m elapsed, 1.1m remaining, 0.4 samples/s]  "
          ]
        },
        {
          "name": "stderr",
          "output_type": "stream",
          "text": [
            "/usr/local/lib/python3.7/dist-packages/torch/autocast_mode.py:141: UserWarning: User provided device_type of 'cuda', but CUDA is not available. Disabling\n",
            "  warnings.warn('User provided device_type of \\'cuda\\', but CUDA is not available. Disabling')\n"
          ]
        },
        {
          "name": "stdout",
          "output_type": "stream",
          "text": [
            "  76% |████████████|----|  76/100 [3.5m elapsed, 1.1m remaining, 0.4 samples/s]  "
          ]
        },
        {
          "name": "stderr",
          "output_type": "stream",
          "text": [
            "/usr/local/lib/python3.7/dist-packages/torch/autocast_mode.py:141: UserWarning: User provided device_type of 'cuda', but CUDA is not available. Disabling\n",
            "  warnings.warn('User provided device_type of \\'cuda\\', but CUDA is not available. Disabling')\n"
          ]
        },
        {
          "name": "stdout",
          "output_type": "stream",
          "text": [
            "  77% |█████████████/---|  77/100 [3.6m elapsed, 1.1m remaining, 0.4 samples/s]  "
          ]
        },
        {
          "name": "stderr",
          "output_type": "stream",
          "text": [
            "/usr/local/lib/python3.7/dist-packages/torch/autocast_mode.py:141: UserWarning: User provided device_type of 'cuda', but CUDA is not available. Disabling\n",
            "  warnings.warn('User provided device_type of \\'cuda\\', but CUDA is not available. Disabling')\n"
          ]
        },
        {
          "name": "stdout",
          "output_type": "stream",
          "text": [
            "  78% |█████████████----|  78/100 [3.6m elapsed, 1.0m remaining, 0.4 samples/s]  "
          ]
        },
        {
          "name": "stderr",
          "output_type": "stream",
          "text": [
            "/usr/local/lib/python3.7/dist-packages/torch/autocast_mode.py:141: UserWarning: User provided device_type of 'cuda', but CUDA is not available. Disabling\n",
            "  warnings.warn('User provided device_type of \\'cuda\\', but CUDA is not available. Disabling')\n"
          ]
        },
        {
          "name": "stdout",
          "output_type": "stream",
          "text": [
            "  79% |█████████████\\---|  79/100 [3.7m elapsed, 59.3s remaining, 0.4 samples/s] "
          ]
        },
        {
          "name": "stderr",
          "output_type": "stream",
          "text": [
            "/usr/local/lib/python3.7/dist-packages/torch/autocast_mode.py:141: UserWarning: User provided device_type of 'cuda', but CUDA is not available. Disabling\n",
            "  warnings.warn('User provided device_type of \\'cuda\\', but CUDA is not available. Disabling')\n"
          ]
        },
        {
          "name": "stdout",
          "output_type": "stream",
          "text": [
            "  80% |█████████████|---|  80/100 [3.7m elapsed, 58.2s remaining, 0.3 samples/s] "
          ]
        },
        {
          "name": "stderr",
          "output_type": "stream",
          "text": [
            "/usr/local/lib/python3.7/dist-packages/torch/autocast_mode.py:141: UserWarning: User provided device_type of 'cuda', but CUDA is not available. Disabling\n",
            "  warnings.warn('User provided device_type of \\'cuda\\', but CUDA is not available. Disabling')\n"
          ]
        },
        {
          "name": "stdout",
          "output_type": "stream",
          "text": [
            "  81% |█████████████/---|  81/100 [3.8m elapsed, 55.3s remaining, 0.3 samples/s] "
          ]
        },
        {
          "name": "stderr",
          "output_type": "stream",
          "text": [
            "/usr/local/lib/python3.7/dist-packages/torch/autocast_mode.py:141: UserWarning: User provided device_type of 'cuda', but CUDA is not available. Disabling\n",
            "  warnings.warn('User provided device_type of \\'cuda\\', but CUDA is not available. Disabling')\n"
          ]
        },
        {
          "name": "stdout",
          "output_type": "stream",
          "text": [
            "  82% |█████████████----|  82/100 [3.8m elapsed, 52.6s remaining, 0.3 samples/s] "
          ]
        },
        {
          "name": "stderr",
          "output_type": "stream",
          "text": [
            "/usr/local/lib/python3.7/dist-packages/torch/autocast_mode.py:141: UserWarning: User provided device_type of 'cuda', but CUDA is not available. Disabling\n",
            "  warnings.warn('User provided device_type of \\'cuda\\', but CUDA is not available. Disabling')\n"
          ]
        },
        {
          "name": "stdout",
          "output_type": "stream",
          "text": [
            "  83% |██████████████\\--|  83/100 [3.9m elapsed, 50.0s remaining, 0.3 samples/s] "
          ]
        },
        {
          "name": "stderr",
          "output_type": "stream",
          "text": [
            "/usr/local/lib/python3.7/dist-packages/torch/autocast_mode.py:141: UserWarning: User provided device_type of 'cuda', but CUDA is not available. Disabling\n",
            "  warnings.warn('User provided device_type of \\'cuda\\', but CUDA is not available. Disabling')\n"
          ]
        },
        {
          "name": "stdout",
          "output_type": "stream",
          "text": [
            "  84% |██████████████|--|  84/100 [3.9m elapsed, 46.7s remaining, 0.3 samples/s] "
          ]
        },
        {
          "name": "stderr",
          "output_type": "stream",
          "text": [
            "/usr/local/lib/python3.7/dist-packages/torch/autocast_mode.py:141: UserWarning: User provided device_type of 'cuda', but CUDA is not available. Disabling\n",
            "  warnings.warn('User provided device_type of \\'cuda\\', but CUDA is not available. Disabling')\n"
          ]
        },
        {
          "name": "stdout",
          "output_type": "stream",
          "text": [
            "  85% |██████████████/--|  85/100 [4.0m elapsed, 43.0s remaining, 0.3 samples/s] "
          ]
        },
        {
          "name": "stderr",
          "output_type": "stream",
          "text": [
            "/usr/local/lib/python3.7/dist-packages/torch/autocast_mode.py:141: UserWarning: User provided device_type of 'cuda', but CUDA is not available. Disabling\n",
            "  warnings.warn('User provided device_type of \\'cuda\\', but CUDA is not available. Disabling')\n"
          ]
        },
        {
          "name": "stdout",
          "output_type": "stream",
          "text": [
            "  86% |██████████████---|  86/100 [4.0m elapsed, 39.8s remaining, 0.4 samples/s] "
          ]
        },
        {
          "name": "stderr",
          "output_type": "stream",
          "text": [
            "/usr/local/lib/python3.7/dist-packages/torch/autocast_mode.py:141: UserWarning: User provided device_type of 'cuda', but CUDA is not available. Disabling\n",
            "  warnings.warn('User provided device_type of \\'cuda\\', but CUDA is not available. Disabling')\n"
          ]
        },
        {
          "name": "stdout",
          "output_type": "stream",
          "text": [
            "  87% |██████████████\\--|  87/100 [4.1m elapsed, 37.3s remaining, 0.3 samples/s] "
          ]
        },
        {
          "name": "stderr",
          "output_type": "stream",
          "text": [
            "/usr/local/lib/python3.7/dist-packages/torch/autocast_mode.py:141: UserWarning: User provided device_type of 'cuda', but CUDA is not available. Disabling\n",
            "  warnings.warn('User provided device_type of \\'cuda\\', but CUDA is not available. Disabling')\n"
          ]
        },
        {
          "name": "stdout",
          "output_type": "stream",
          "text": [
            "  88% |██████████████|--|  88/100 [4.1m elapsed, 34.8s remaining, 0.3 samples/s] "
          ]
        },
        {
          "name": "stderr",
          "output_type": "stream",
          "text": [
            "/usr/local/lib/python3.7/dist-packages/torch/autocast_mode.py:141: UserWarning: User provided device_type of 'cuda', but CUDA is not available. Disabling\n",
            "  warnings.warn('User provided device_type of \\'cuda\\', but CUDA is not available. Disabling')\n"
          ]
        },
        {
          "name": "stdout",
          "output_type": "stream",
          "text": [
            "  89% |███████████████/-|  89/100 [4.2m elapsed, 30.7s remaining, 0.4 samples/s] "
          ]
        },
        {
          "name": "stderr",
          "output_type": "stream",
          "text": [
            "/usr/local/lib/python3.7/dist-packages/torch/autocast_mode.py:141: UserWarning: User provided device_type of 'cuda', but CUDA is not available. Disabling\n",
            "  warnings.warn('User provided device_type of \\'cuda\\', but CUDA is not available. Disabling')\n"
          ]
        },
        {
          "name": "stdout",
          "output_type": "stream",
          "text": [
            "  90% |███████████████--|  90/100 [4.2m elapsed, 28.1s remaining, 0.4 samples/s] "
          ]
        },
        {
          "name": "stderr",
          "output_type": "stream",
          "text": [
            "/usr/local/lib/python3.7/dist-packages/torch/autocast_mode.py:141: UserWarning: User provided device_type of 'cuda', but CUDA is not available. Disabling\n",
            "  warnings.warn('User provided device_type of \\'cuda\\', but CUDA is not available. Disabling')\n"
          ]
        },
        {
          "name": "stdout",
          "output_type": "stream",
          "text": [
            "  91% |███████████████\\-|  91/100 [4.2m elapsed, 24.5s remaining, 0.4 samples/s] "
          ]
        },
        {
          "name": "stderr",
          "output_type": "stream",
          "text": [
            "/usr/local/lib/python3.7/dist-packages/torch/autocast_mode.py:141: UserWarning: User provided device_type of 'cuda', but CUDA is not available. Disabling\n",
            "  warnings.warn('User provided device_type of \\'cuda\\', but CUDA is not available. Disabling')\n"
          ]
        },
        {
          "name": "stdout",
          "output_type": "stream",
          "text": [
            "  92% |███████████████|-|  92/100 [4.3m elapsed, 21.6s remaining, 0.4 samples/s] "
          ]
        },
        {
          "name": "stderr",
          "output_type": "stream",
          "text": [
            "/usr/local/lib/python3.7/dist-packages/torch/autocast_mode.py:141: UserWarning: User provided device_type of 'cuda', but CUDA is not available. Disabling\n",
            "  warnings.warn('User provided device_type of \\'cuda\\', but CUDA is not available. Disabling')\n"
          ]
        },
        {
          "name": "stdout",
          "output_type": "stream",
          "text": [
            "  93% |███████████████/-|  93/100 [4.3m elapsed, 19.0s remaining, 0.4 samples/s] "
          ]
        },
        {
          "name": "stderr",
          "output_type": "stream",
          "text": [
            "/usr/local/lib/python3.7/dist-packages/torch/autocast_mode.py:141: UserWarning: User provided device_type of 'cuda', but CUDA is not available. Disabling\n",
            "  warnings.warn('User provided device_type of \\'cuda\\', but CUDA is not available. Disabling')\n"
          ]
        },
        {
          "name": "stdout",
          "output_type": "stream",
          "text": [
            "  94% |███████████████--|  94/100 [4.4m elapsed, 16.5s remaining, 0.4 samples/s] "
          ]
        },
        {
          "name": "stderr",
          "output_type": "stream",
          "text": [
            "/usr/local/lib/python3.7/dist-packages/torch/autocast_mode.py:141: UserWarning: User provided device_type of 'cuda', but CUDA is not available. Disabling\n",
            "  warnings.warn('User provided device_type of \\'cuda\\', but CUDA is not available. Disabling')\n"
          ]
        },
        {
          "name": "stdout",
          "output_type": "stream",
          "text": [
            "  95% |████████████████\\|  95/100 [4.4m elapsed, 13.8s remaining, 0.4 samples/s] "
          ]
        },
        {
          "name": "stderr",
          "output_type": "stream",
          "text": [
            "/usr/local/lib/python3.7/dist-packages/torch/autocast_mode.py:141: UserWarning: User provided device_type of 'cuda', but CUDA is not available. Disabling\n",
            "  warnings.warn('User provided device_type of \\'cuda\\', but CUDA is not available. Disabling')\n"
          ]
        },
        {
          "name": "stdout",
          "output_type": "stream",
          "text": [
            "  96% |████████████████||  96/100 [4.5m elapsed, 10.9s remaining, 0.4 samples/s] "
          ]
        },
        {
          "name": "stderr",
          "output_type": "stream",
          "text": [
            "/usr/local/lib/python3.7/dist-packages/torch/autocast_mode.py:141: UserWarning: User provided device_type of 'cuda', but CUDA is not available. Disabling\n",
            "  warnings.warn('User provided device_type of \\'cuda\\', but CUDA is not available. Disabling')\n"
          ]
        },
        {
          "name": "stdout",
          "output_type": "stream",
          "text": [
            "  97% |████████████████/|  97/100 [4.5m elapsed, 8.0s remaining, 0.4 samples/s]  "
          ]
        },
        {
          "name": "stderr",
          "output_type": "stream",
          "text": [
            "/usr/local/lib/python3.7/dist-packages/torch/autocast_mode.py:141: UserWarning: User provided device_type of 'cuda', but CUDA is not available. Disabling\n",
            "  warnings.warn('User provided device_type of \\'cuda\\', but CUDA is not available. Disabling')\n"
          ]
        },
        {
          "name": "stdout",
          "output_type": "stream",
          "text": [
            "  98% |████████████████-|  98/100 [4.6m elapsed, 5.4s remaining, 0.4 samples/s]  "
          ]
        },
        {
          "name": "stderr",
          "output_type": "stream",
          "text": [
            "/usr/local/lib/python3.7/dist-packages/torch/autocast_mode.py:141: UserWarning: User provided device_type of 'cuda', but CUDA is not available. Disabling\n",
            "  warnings.warn('User provided device_type of \\'cuda\\', but CUDA is not available. Disabling')\n"
          ]
        },
        {
          "name": "stdout",
          "output_type": "stream",
          "text": [
            "  99% |████████████████\\|  99/100 [4.6m elapsed, 2.7s remaining, 0.4 samples/s]  "
          ]
        },
        {
          "name": "stderr",
          "output_type": "stream",
          "text": [
            "/usr/local/lib/python3.7/dist-packages/torch/autocast_mode.py:141: UserWarning: User provided device_type of 'cuda', but CUDA is not available. Disabling\n",
            "  warnings.warn('User provided device_type of \\'cuda\\', but CUDA is not available. Disabling')\n"
          ]
        },
        {
          "name": "stdout",
          "output_type": "stream",
          "text": [
            " 100% |█████████████████| 100/100 [4.7m elapsed, 0s remaining, 0.4 samples/s]    \n",
            "Finished adding predictions\n"
          ]
        }
      ]
    },
    {
      "cell_type": "code",
      "metadata": {
        "id": "Ejiw6Blpl-P2"
      },
      "source": [
        "coco_session.view=predictions_view"
      ],
      "execution_count": null,
      "outputs": []
    },
    {
      "cell_type": "markdown",
      "metadata": {
        "id": "LFJsI1hal-P4"
      },
      "source": [
        "## Evaluations"
      ]
    },
    {
      "cell_type": "markdown",
      "metadata": {
        "id": "eAhhwwnZl-P4"
      },
      "source": [
        "### Look only at High Confidence (>0.75)"
      ]
    },
    {
      "cell_type": "code",
      "metadata": {
        "colab": {
          "base_uri": "https://localhost:8080/"
        },
        "id": "Ucgkta0zl-P5",
        "outputId": "fb135192-1fe2-4c46-faa4-5c5993162142"
      },
      "source": [
        "# Only contains detections with confidence >= 0.75\n",
        "high_conf_view = predictions_view.filter_labels(\"yolov5x\", F(\"confidence\") > 0.75)\n",
        "\n",
        "# Print some information about the view\n",
        "print(high_conf_view)\n",
        "sample = high_conf_view.first()\n",
        "print(sample.yolov5x.detections[0])"
      ],
      "execution_count": null,
      "outputs": [
        {
          "name": "stdout",
          "output_type": "stream",
          "text": [
            "Dataset:     coco\n",
            "Media type:  image\n",
            "Num samples: 93\n",
            "Tags:        ['validation']\n",
            "Sample fields:\n",
            "    id:           fiftyone.core.fields.ObjectIdField\n",
            "    filepath:     fiftyone.core.fields.StringField\n",
            "    tags:         fiftyone.core.fields.ListField(fiftyone.core.fields.StringField)\n",
            "    metadata:     fiftyone.core.fields.EmbeddedDocumentField(fiftyone.core.metadata.Metadata)\n",
            "    ground_truth: fiftyone.core.fields.EmbeddedDocumentField(fiftyone.core.labels.Detections)\n",
            "    yolov5x:      fiftyone.core.fields.EmbeddedDocumentField(fiftyone.core.labels.Detections)\n",
            "View stages:\n",
            "    1. Take(size=100, seed=51)\n",
            "    2. FilterLabels(field='yolov5x', filter={'$gt': ['$$this.confidence', 0.75]}, only_matches=True, trajectories=False)\n",
            "<Detection: {\n",
            "    'id': '61a1ee84102a328cad6736f3',\n",
            "    'attributes': BaseDict({}),\n",
            "    'tags': BaseList([]),\n",
            "    'label': 'person',\n",
            "    'bounding_box': BaseList([\n",
            "        0.20858287811279297,\n",
            "        0.4187913200346496,\n",
            "        0.2171079158782959,\n",
            "        0.2647328396721365,\n",
            "    ]),\n",
            "    'mask': None,\n",
            "    'confidence': 0.8378334641456604,\n",
            "    'index': None,\n",
            "}>\n"
          ]
        }
      ]
    },
    {
      "cell_type": "code",
      "metadata": {
        "colab": {
          "background_save": true,
          "base_uri": "https://localhost:8080/"
        },
        "id": "19xvHGNcl-P6",
        "outputId": "48c210fc-cb38-4b0f-fab0-e97b17232583"
      },
      "source": [
        "# Evaluate the predictions in the `yolov5` field of our `high_conf_view`\n",
        "# with respect to the objects in the `ground_truth` field\n",
        "results = high_conf_view.evaluate_detections(\n",
        "    \"yolov5x\",\n",
        "    gt_field=\"ground_truth\",\n",
        "    eval_key=\"eval\",\n",
        "    compute_mAP=True,\n",
        ")"
      ],
      "execution_count": null,
      "outputs": [
        {
          "name": "stdout",
          "output_type": "stream",
          "text": [
            "Evaluating detections...\n",
            " 100% |███████████████████| 93/93 [2.2s elapsed, 0s remaining, 40.2 samples/s]      \n",
            "Performing IoU sweep...\n",
            " 100% |███████████████████| 93/93 [3.5s elapsed, 0s remaining, 24.9 samples/s]      \n"
          ]
        }
      ]
    },
    {
      "cell_type": "code",
      "metadata": {
        "colab": {
          "background_save": true,
          "base_uri": "https://localhost:8080/"
        },
        "id": "jk35zYqll-P7",
        "outputId": "28a05675-51f9-49a1-cf90-f3bc4b16f5bd"
      },
      "source": [
        "# Get the 10 most common classes in the dataset\n",
        "counts = predictions_view.count_values(\"ground_truth.detections.label\")\n",
        "classes_top10 = sorted(counts, key=counts.get, reverse=True)\n",
        "\n",
        "# Print a classification report for the top-10 classes\n",
        "results.print_report(classes=classes_top10)"
      ],
      "execution_count": null,
      "outputs": [
        {
          "name": "stdout",
          "output_type": "stream",
          "text": [
            "                precision    recall  f1-score   support\n",
            "\n",
            "        person       0.97      0.53      0.68       213\n",
            "          book       0.00      0.00      0.00        50\n",
            "         chair       1.00      0.36      0.53        39\n",
            "           cup       0.89      0.55      0.68        29\n",
            "        bottle       0.83      0.19      0.30        27\n",
            "           car       0.89      0.64      0.74        25\n",
            "  dining table       0.67      0.10      0.17        21\n",
            "          bowl       1.00      0.18      0.30        17\n",
            "       giraffe       0.92      0.75      0.83        16\n",
            "          kite       1.00      0.07      0.12        15\n",
            "       handbag       0.00      0.00      0.00        14\n",
            "      broccoli       0.50      0.08      0.13        13\n",
            "         truck       1.00      0.27      0.43        11\n",
            "           cow       0.92      1.00      0.96        11\n",
            "        orange       1.00      0.18      0.31        11\n",
            "         sheep       1.00      0.18      0.31        11\n",
            "      suitcase       1.00      0.80      0.89        10\n",
            "         apple       1.00      0.11      0.20         9\n",
            "        carrot       0.00      0.00      0.00         9\n",
            "         spoon       0.00      0.00      0.00         8\n",
            "         bench       1.00      0.38      0.55         8\n",
            "         knife       1.00      0.38      0.55         8\n",
            "      elephant       1.00      0.57      0.73         7\n",
            "          boat       0.00      0.00      0.00         7\n",
            "           cat       1.00      0.86      0.92         7\n",
            "         horse       1.00      1.00      1.00         6\n",
            "          fork       1.00      0.33      0.50         6\n",
            "      backpack       0.00      0.00      0.00         6\n",
            "          cake       1.00      0.50      0.67         6\n",
            "    cell phone       0.80      0.67      0.73         6\n",
            "      sandwich       0.67      0.33      0.44         6\n",
            "baseball glove       0.75      0.50      0.60         6\n",
            "    toothbrush       0.50      0.20      0.29         5\n",
            "  baseball bat       1.00      0.20      0.33         5\n",
            "         clock       1.00      0.60      0.75         5\n",
            "       frisbee       1.00      0.80      0.89         5\n",
            "          vase       0.75      0.60      0.67         5\n",
            "        toilet       1.00      0.40      0.57         5\n",
            "          sink       0.00      0.00      0.00         5\n",
            "        banana       1.00      0.20      0.33         5\n",
            "            tv       1.00      0.50      0.67         4\n",
            "          bear       1.00      0.75      0.86         4\n",
            "         pizza       1.00      0.25      0.40         4\n",
            "       bicycle       1.00      0.25      0.40         4\n",
            "        laptop       0.75      1.00      0.86         3\n",
            "    wine glass       1.00      0.75      0.86         4\n",
            "  refrigerator       1.00      1.00      1.00         3\n",
            "           bed       0.00      0.00      0.00         2\n",
            "   sports ball       1.00      0.67      0.80         3\n",
            "          oven       1.00      0.33      0.50         3\n",
            "           bus       1.00      1.00      1.00         3\n",
            " tennis racket       1.00      0.67      0.80         3\n",
            "    motorcycle       1.00      0.67      0.80         3\n",
            "           dog       0.00      0.00      0.00         2\n",
            "       hot dog       1.00      1.00      1.00         2\n",
            "    skateboard       1.00      1.00      1.00         2\n",
            "         train       1.00      1.00      1.00         1\n",
            "      airplane       1.00      0.50      0.67         2\n",
            " parking meter       1.00      1.00      1.00         2\n",
            "         couch       1.00      0.50      0.67         2\n",
            "           tie       1.00      0.50      0.67         2\n",
            "      umbrella       0.00      0.00      0.00         1\n",
            "    teddy bear       1.00      1.00      1.00         1\n",
            "  fire hydrant       1.00      1.00      1.00         1\n",
            "     microwave       1.00      1.00      1.00         1\n",
            "         mouse       0.00      0.00      0.00         1\n",
            "     stop sign       1.00      1.00      1.00         1\n",
            "      scissors       1.00      1.00      1.00         1\n",
            "        remote       0.00      0.00      0.00         1\n",
            "     snowboard       0.00      0.00      0.00         1\n",
            "  potted plant       0.00      0.00      0.00         1\n",
            "         donut       0.00      0.00      0.00         1\n",
            " traffic light       0.00      0.00      0.00         1\n",
            "       toaster       1.00      1.00      1.00         1\n",
            "      keyboard       1.00      1.00      1.00         1\n",
            "          skis       0.00      0.00      0.00         1\n",
            "     surfboard       0.00      0.00      0.00         1\n",
            "\n",
            "     micro avg       0.94      0.40      0.56       752\n",
            "     macro avg       0.72      0.45      0.52       752\n",
            "  weighted avg       0.79      0.40      0.51       752\n",
            "\n"
          ]
        }
      ]
    },
    {
      "cell_type": "code",
      "metadata": {
        "colab": {
          "background_save": true,
          "base_uri": "https://localhost:8080/"
        },
        "id": "EqPOAmCxl-P8",
        "outputId": "fcee22d4-b559-4f30-de6f-4052b070ded9"
      },
      "source": [
        "print(results.mAP())"
      ],
      "execution_count": null,
      "outputs": [
        {
          "name": "stdout",
          "output_type": "stream",
          "text": [
            "0.38275402904033085\n"
          ]
        }
      ]
    },
    {
      "cell_type": "code",
      "metadata": {
        "colab": {
          "background_save": true,
          "base_uri": "https://localhost:8080/",
          "height": 542
        },
        "id": "y5UW4Hj4l-P8",
        "outputId": "d9115b3a-aed8-4e3c-d1d0-6e3012076a9c"
      },
      "source": [
        "plot = results.plot_pr_curves(classes=[\"person\", \"chair\", \"cup\"])\n",
        "plot.show()"
      ],
      "execution_count": null,
      "outputs": [
        {
          "data": {
            "text/html": [
              "<html>\n",
              "<head><meta charset=\"utf-8\" /></head>\n",
              "<body>\n",
              "    <div>            <script src=\"https://cdnjs.cloudflare.com/ajax/libs/mathjax/2.7.5/MathJax.js?config=TeX-AMS-MML_SVG\"></script><script type=\"text/javascript\">if (window.MathJax) {MathJax.Hub.Config({SVG: {font: \"STIX-Web\"}});}</script>                <script type=\"text/javascript\">window.PlotlyConfig = {MathJaxConfig: 'local'};</script>\n",
              "        <script src=\"https://cdn.plot.ly/plotly-latest.min.js\"></script>                <div id=\"a855637b-0d87-4dd8-99b0-2b007c616468\" class=\"plotly-graph-div\" style=\"height:525px; width:100%;\"></div>            <script type=\"text/javascript\">                                    window.PLOTLYENV=window.PLOTLYENV || {};                                    if (document.getElementById(\"a855637b-0d87-4dd8-99b0-2b007c616468\")) {                    Plotly.newPlot(                        \"a855637b-0d87-4dd8-99b0-2b007c616468\",                        [{\"hovertemplate\": \"<b>class: %{text}</b><br>recall: %{x}<br>precision: %{y}<extra></extra>\", \"line\": {\"color\": \"#3366CC\"}, \"mode\": \"lines\", \"name\": \"person (AP = 0.431)\", \"text\": [\"person\", \"person\", \"person\", \"person\", \"person\", \"person\", \"person\", \"person\", \"person\", \"person\", \"person\", \"person\", \"person\", \"person\", \"person\", \"person\", \"person\", \"person\", \"person\", \"person\", \"person\", \"person\", \"person\", \"person\", \"person\", \"person\", \"person\", \"person\", \"person\", \"person\", \"person\", \"person\", \"person\", \"person\", \"person\", \"person\", \"person\", \"person\", \"person\", \"person\", \"person\", \"person\", \"person\", \"person\", \"person\", \"person\", \"person\", \"person\", \"person\", \"person\", \"person\", \"person\", \"person\", \"person\", \"person\", \"person\", \"person\", \"person\", \"person\", \"person\", \"person\", \"person\", \"person\", \"person\", \"person\", \"person\", \"person\", \"person\", \"person\", \"person\", \"person\", \"person\", \"person\", \"person\", \"person\", \"person\", \"person\", \"person\", \"person\", \"person\", \"person\", \"person\", \"person\", \"person\", \"person\", \"person\", \"person\", \"person\", \"person\", \"person\", \"person\", \"person\", \"person\", \"person\", \"person\", \"person\", \"person\", \"person\", \"person\", \"person\", \"person\"], \"type\": \"scatter\", \"x\": [0.0, 0.01, 0.02, 0.03, 0.04, 0.05, 0.06, 0.07, 0.08, 0.09, 0.1, 0.11, 0.12, 0.13, 0.14, 0.15, 0.16, 0.17, 0.18, 0.19, 0.2, 0.21, 0.22, 0.23, 0.24, 0.25, 0.26, 0.27, 0.28, 0.29, 0.3, 0.31, 0.32, 0.33, 0.34, 0.35000000000000003, 0.36, 0.37, 0.38, 0.39, 0.4, 0.41000000000000003, 0.42, 0.43, 0.44, 0.45, 0.46, 0.47000000000000003, 0.48, 0.49, 0.5, 0.51, 0.52, 0.53, 0.54, 0.55, 0.56, 0.5700000000000001, 0.58, 0.59, 0.6, 0.61, 0.62, 0.63, 0.64, 0.65, 0.66, 0.67, 0.68, 0.6900000000000001, 0.7000000000000001, 0.71, 0.72, 0.73, 0.74, 0.75, 0.76, 0.77, 0.78, 0.79, 0.8, 0.81, 0.8200000000000001, 0.8300000000000001, 0.84, 0.85, 0.86, 0.87, 0.88, 0.89, 0.9, 0.91, 0.92, 0.93, 0.9400000000000001, 0.9500000000000001, 0.96, 0.97, 0.98, 0.99, 1.0], \"y\": [1.0, 0.9833333333333334, 0.9833333333333334, 0.9738181818181818, 0.9738181818181818, 0.957352016404648, 0.957352016404648, 0.957352016404648, 0.957352016404648, 0.9486107576633891, 0.9455338345864661, 0.9355338345864661, 0.9315223403335926, 0.9293671679197996, 0.9194095408011554, 0.9160979371505688, 0.9093959035519834, 0.9011310918133344, 0.9003605979393923, 0.8981215869503814, 0.8555536269010698, 0.8523706030283907, 0.8518335764597078, 0.8499255544257667, 0.8463719249566442, 0.8430802648838478, 0.8430802648838478, 0.8406364721174745, 0.8395223901210395, 0.8372493187303209, 0.834501659554291, 0.8326998577524891, 0.8326998577524891, 0.8320709269348792, 0.8277668759902392, 0.7596730954627238, 0.7526431446441924, 0.7486819822689389, 0.7486819822689389, 0.748009104422148, 0.7430667319797755, 0.7405880313431801, 0.7393341232413436, 0.6590879254966836, 0.6532342366496178, 0.6526899174630573, 0.6521428539071441, 0.56541719019033, 0.56541719019033, 0.56541719019033, 0.4750663129973475, 0.4750663129973475, 0.38282493368700266, 0.28799734748010614, 0.09658119658119659, 0.0, 0.0, 0.0, 0.0, 0.0, 0.0, 0.0, 0.0, 0.0, 0.0, 0.0, 0.0, 0.0, 0.0, 0.0, 0.0, 0.0, 0.0, 0.0, 0.0, 0.0, 0.0, 0.0, 0.0, 0.0, 0.0, 0.0, 0.0, 0.0, 0.0, 0.0, 0.0, 0.0, 0.0, 0.0, 0.0, 0.0, 0.0, 0.0, 0.0, 0.0, 0.0, 0.0, 0.0, 0.0, 0.0]}, {\"hovertemplate\": \"<b>class: %{text}</b><br>recall: %{x}<br>precision: %{y}<extra></extra>\", \"line\": {\"color\": \"#DC3912\"}, \"mode\": \"lines\", \"name\": \"cup (AP = 0.408)\", \"text\": [\"cup\", \"cup\", \"cup\", \"cup\", \"cup\", \"cup\", \"cup\", \"cup\", \"cup\", \"cup\", \"cup\", \"cup\", \"cup\", \"cup\", \"cup\", \"cup\", \"cup\", \"cup\", \"cup\", \"cup\", \"cup\", \"cup\", \"cup\", \"cup\", \"cup\", \"cup\", \"cup\", \"cup\", \"cup\", \"cup\", \"cup\", \"cup\", \"cup\", \"cup\", \"cup\", \"cup\", \"cup\", \"cup\", \"cup\", \"cup\", \"cup\", \"cup\", \"cup\", \"cup\", \"cup\", \"cup\", \"cup\", \"cup\", \"cup\", \"cup\", \"cup\", \"cup\", \"cup\", \"cup\", \"cup\", \"cup\", \"cup\", \"cup\", \"cup\", \"cup\", \"cup\", \"cup\", \"cup\", \"cup\", \"cup\", \"cup\", \"cup\", \"cup\", \"cup\", \"cup\", \"cup\", \"cup\", \"cup\", \"cup\", \"cup\", \"cup\", \"cup\", \"cup\", \"cup\", \"cup\", \"cup\", \"cup\", \"cup\", \"cup\", \"cup\", \"cup\", \"cup\", \"cup\", \"cup\", \"cup\", \"cup\", \"cup\", \"cup\", \"cup\", \"cup\", \"cup\", \"cup\", \"cup\", \"cup\", \"cup\", \"cup\"], \"type\": \"scatter\", \"x\": [0.0, 0.01, 0.02, 0.03, 0.04, 0.05, 0.06, 0.07, 0.08, 0.09, 0.1, 0.11, 0.12, 0.13, 0.14, 0.15, 0.16, 0.17, 0.18, 0.19, 0.2, 0.21, 0.22, 0.23, 0.24, 0.25, 0.26, 0.27, 0.28, 0.29, 0.3, 0.31, 0.32, 0.33, 0.34, 0.35000000000000003, 0.36, 0.37, 0.38, 0.39, 0.4, 0.41000000000000003, 0.42, 0.43, 0.44, 0.45, 0.46, 0.47000000000000003, 0.48, 0.49, 0.5, 0.51, 0.52, 0.53, 0.54, 0.55, 0.56, 0.5700000000000001, 0.58, 0.59, 0.6, 0.61, 0.62, 0.63, 0.64, 0.65, 0.66, 0.67, 0.68, 0.6900000000000001, 0.7000000000000001, 0.71, 0.72, 0.73, 0.74, 0.75, 0.76, 0.77, 0.78, 0.79, 0.8, 0.81, 0.8200000000000001, 0.8300000000000001, 0.84, 0.85, 0.86, 0.87, 0.88, 0.89, 0.9, 0.91, 0.92, 0.93, 0.9400000000000001, 0.9500000000000001, 0.96, 0.97, 0.98, 0.99, 1.0], \"y\": [1.0, 1.0, 1.0, 1.0, 1.0, 1.0, 1.0, 1.0, 1.0, 1.0, 1.0, 0.9444444444444444, 0.9444444444444444, 0.9444444444444444, 0.8555555555555555, 0.8555555555555555, 0.8555555555555555, 0.8555555555555555, 0.8285714285714285, 0.8285714285714285, 0.8285714285714285, 0.7777777777777778, 0.7777777777777778, 0.7777777777777778, 0.7777777777777778, 0.7505050505050506, 0.7505050505050506, 0.7505050505050506, 0.727922077922078, 0.727922077922078, 0.727922077922078, 0.727922077922078, 0.6444444444444445, 0.6444444444444445, 0.6444444444444445, 0.6444444444444445, 0.6444444444444445, 0.6444444444444445, 0.6444444444444445, 0.6444444444444445, 0.6444444444444445, 0.6444444444444445, 0.6087301587301588, 0.6087301587301588, 0.6087301587301588, 0.4444444444444445, 0.4444444444444445, 0.4444444444444445, 0.4444444444444445, 0.4444444444444445, 0.4444444444444445, 0.4444444444444445, 0.4444444444444445, 0.4444444444444445, 0.4444444444444445, 0.4444444444444445, 0.0, 0.0, 0.0, 0.0, 0.0, 0.0, 0.0, 0.0, 0.0, 0.0, 0.0, 0.0, 0.0, 0.0, 0.0, 0.0, 0.0, 0.0, 0.0, 0.0, 0.0, 0.0, 0.0, 0.0, 0.0, 0.0, 0.0, 0.0, 0.0, 0.0, 0.0, 0.0, 0.0, 0.0, 0.0, 0.0, 0.0, 0.0, 0.0, 0.0, 0.0, 0.0, 0.0, 0.0, 0.0]}, {\"hovertemplate\": \"<b>class: %{text}</b><br>recall: %{x}<br>precision: %{y}<extra></extra>\", \"line\": {\"color\": \"#FF9900\"}, \"mode\": \"lines\", \"name\": \"chair (AP = 0.290)\", \"text\": [\"chair\", \"chair\", \"chair\", \"chair\", \"chair\", \"chair\", \"chair\", \"chair\", \"chair\", \"chair\", \"chair\", \"chair\", \"chair\", \"chair\", \"chair\", \"chair\", \"chair\", \"chair\", \"chair\", \"chair\", \"chair\", \"chair\", \"chair\", \"chair\", \"chair\", \"chair\", \"chair\", \"chair\", \"chair\", \"chair\", \"chair\", \"chair\", \"chair\", \"chair\", \"chair\", \"chair\", \"chair\", \"chair\", \"chair\", \"chair\", \"chair\", \"chair\", \"chair\", \"chair\", \"chair\", \"chair\", \"chair\", \"chair\", \"chair\", \"chair\", \"chair\", \"chair\", \"chair\", \"chair\", \"chair\", \"chair\", \"chair\", \"chair\", \"chair\", \"chair\", \"chair\", \"chair\", \"chair\", \"chair\", \"chair\", \"chair\", \"chair\", \"chair\", \"chair\", \"chair\", \"chair\", \"chair\", \"chair\", \"chair\", \"chair\", \"chair\", \"chair\", \"chair\", \"chair\", \"chair\", \"chair\", \"chair\", \"chair\", \"chair\", \"chair\", \"chair\", \"chair\", \"chair\", \"chair\", \"chair\", \"chair\", \"chair\", \"chair\", \"chair\", \"chair\", \"chair\", \"chair\", \"chair\", \"chair\", \"chair\", \"chair\"], \"type\": \"scatter\", \"x\": [0.0, 0.01, 0.02, 0.03, 0.04, 0.05, 0.06, 0.07, 0.08, 0.09, 0.1, 0.11, 0.12, 0.13, 0.14, 0.15, 0.16, 0.17, 0.18, 0.19, 0.2, 0.21, 0.22, 0.23, 0.24, 0.25, 0.26, 0.27, 0.28, 0.29, 0.3, 0.31, 0.32, 0.33, 0.34, 0.35000000000000003, 0.36, 0.37, 0.38, 0.39, 0.4, 0.41000000000000003, 0.42, 0.43, 0.44, 0.45, 0.46, 0.47000000000000003, 0.48, 0.49, 0.5, 0.51, 0.52, 0.53, 0.54, 0.55, 0.56, 0.5700000000000001, 0.58, 0.59, 0.6, 0.61, 0.62, 0.63, 0.64, 0.65, 0.66, 0.67, 0.68, 0.6900000000000001, 0.7000000000000001, 0.71, 0.72, 0.73, 0.74, 0.75, 0.76, 0.77, 0.78, 0.79, 0.8, 0.81, 0.8200000000000001, 0.8300000000000001, 0.84, 0.85, 0.86, 0.87, 0.88, 0.89, 0.9, 0.91, 0.92, 0.93, 0.9400000000000001, 0.9500000000000001, 0.96, 0.97, 0.98, 0.99, 1.0], \"y\": [1.0, 1.0, 1.0, 0.8904761904761905, 0.8904761904761905, 0.8904761904761905, 0.8571428571428571, 0.8571428571428571, 0.846031746031746, 0.846031746031746, 0.846031746031746, 0.8388888888888889, 0.8388888888888889, 0.8388888888888889, 0.8388888888888889, 0.8388888888888889, 0.788888888888889, 0.788888888888889, 0.788888888888889, 0.788888888888889, 0.788888888888889, 0.7846153846153846, 0.7846153846153846, 0.7846153846153846, 0.7846153846153846, 0.7846153846153846, 0.7846153846153846, 0.7846153846153846, 0.7846153846153846, 0.7, 0.7, 0.7, 0.7, 0.7, 0.7, 0.7, 0.0, 0.0, 0.0, 0.0, 0.0, 0.0, 0.0, 0.0, 0.0, 0.0, 0.0, 0.0, 0.0, 0.0, 0.0, 0.0, 0.0, 0.0, 0.0, 0.0, 0.0, 0.0, 0.0, 0.0, 0.0, 0.0, 0.0, 0.0, 0.0, 0.0, 0.0, 0.0, 0.0, 0.0, 0.0, 0.0, 0.0, 0.0, 0.0, 0.0, 0.0, 0.0, 0.0, 0.0, 0.0, 0.0, 0.0, 0.0, 0.0, 0.0, 0.0, 0.0, 0.0, 0.0, 0.0, 0.0, 0.0, 0.0, 0.0, 0.0, 0.0, 0.0, 0.0, 0.0, 0.0]}],                        {\"margin\": {\"b\": 0, \"l\": 0, \"r\": 0, \"t\": 30}, \"shapes\": [{\"line\": {\"dash\": \"dash\"}, \"type\": \"line\", \"x0\": 0, \"x1\": 1, \"y0\": 1, \"y1\": 0}], \"template\": {\"data\": {\"bar\": [{\"error_x\": {\"color\": \"rgb(51,51,51)\"}, \"error_y\": {\"color\": \"rgb(51,51,51)\"}, \"marker\": {\"line\": {\"color\": \"rgb(237,237,237)\", \"width\": 0.5}}, \"type\": \"bar\"}], \"barpolar\": [{\"marker\": {\"line\": {\"color\": \"rgb(237,237,237)\", \"width\": 0.5}}, \"type\": \"barpolar\"}], \"carpet\": [{\"aaxis\": {\"endlinecolor\": \"rgb(51,51,51)\", \"gridcolor\": \"white\", \"linecolor\": \"white\", \"minorgridcolor\": \"white\", \"startlinecolor\": \"rgb(51,51,51)\"}, \"baxis\": {\"endlinecolor\": \"rgb(51,51,51)\", \"gridcolor\": \"white\", \"linecolor\": \"white\", \"minorgridcolor\": \"white\", \"startlinecolor\": \"rgb(51,51,51)\"}, \"type\": \"carpet\"}], \"choropleth\": [{\"colorbar\": {\"outlinewidth\": 0, \"tickcolor\": \"rgb(237,237,237)\", \"ticklen\": 6, \"ticks\": \"inside\"}, \"type\": \"choropleth\"}], \"contour\": [{\"colorbar\": {\"outlinewidth\": 0, \"tickcolor\": \"rgb(237,237,237)\", \"ticklen\": 6, \"ticks\": \"inside\"}, \"colorscale\": [[0, \"rgb(20,44,66)\"], [1, \"rgb(90,179,244)\"]], \"type\": \"contour\"}], \"contourcarpet\": [{\"colorbar\": {\"outlinewidth\": 0, \"tickcolor\": \"rgb(237,237,237)\", \"ticklen\": 6, \"ticks\": \"inside\"}, \"type\": \"contourcarpet\"}], \"heatmap\": [{\"colorbar\": {\"outlinewidth\": 0, \"tickcolor\": \"rgb(237,237,237)\", \"ticklen\": 6, \"ticks\": \"inside\"}, \"colorscale\": [[0, \"rgb(20,44,66)\"], [1, \"rgb(90,179,244)\"]], \"type\": \"heatmap\"}], \"heatmapgl\": [{\"colorbar\": {\"outlinewidth\": 0, \"tickcolor\": \"rgb(237,237,237)\", \"ticklen\": 6, \"ticks\": \"inside\"}, \"colorscale\": [[0, \"rgb(20,44,66)\"], [1, \"rgb(90,179,244)\"]], \"type\": \"heatmapgl\"}], \"histogram\": [{\"marker\": {\"colorbar\": {\"outlinewidth\": 0, \"tickcolor\": \"rgb(237,237,237)\", \"ticklen\": 6, \"ticks\": \"inside\"}}, \"type\": \"histogram\"}], \"histogram2d\": [{\"colorbar\": {\"outlinewidth\": 0, \"tickcolor\": \"rgb(237,237,237)\", \"ticklen\": 6, \"ticks\": \"inside\"}, \"colorscale\": [[0, \"rgb(20,44,66)\"], [1, \"rgb(90,179,244)\"]], \"type\": \"histogram2d\"}], \"histogram2dcontour\": [{\"colorbar\": {\"outlinewidth\": 0, \"tickcolor\": \"rgb(237,237,237)\", \"ticklen\": 6, \"ticks\": \"inside\"}, \"colorscale\": [[0, \"rgb(20,44,66)\"], [1, \"rgb(90,179,244)\"]], \"type\": \"histogram2dcontour\"}], \"mesh3d\": [{\"colorbar\": {\"outlinewidth\": 0, \"tickcolor\": \"rgb(237,237,237)\", \"ticklen\": 6, \"ticks\": \"inside\"}, \"type\": \"mesh3d\"}], \"parcoords\": [{\"line\": {\"colorbar\": {\"outlinewidth\": 0, \"tickcolor\": \"rgb(237,237,237)\", \"ticklen\": 6, \"ticks\": \"inside\"}}, \"type\": \"parcoords\"}], \"pie\": [{\"automargin\": true, \"type\": \"pie\"}], \"scatter\": [{\"marker\": {\"colorbar\": {\"outlinewidth\": 0, \"tickcolor\": \"rgb(237,237,237)\", \"ticklen\": 6, \"ticks\": \"inside\"}}, \"type\": \"scatter\"}], \"scatter3d\": [{\"line\": {\"colorbar\": {\"outlinewidth\": 0, \"tickcolor\": \"rgb(237,237,237)\", \"ticklen\": 6, \"ticks\": \"inside\"}}, \"marker\": {\"colorbar\": {\"outlinewidth\": 0, \"tickcolor\": \"rgb(237,237,237)\", \"ticklen\": 6, \"ticks\": \"inside\"}}, \"type\": \"scatter3d\"}], \"scattercarpet\": [{\"marker\": {\"colorbar\": {\"outlinewidth\": 0, \"tickcolor\": \"rgb(237,237,237)\", \"ticklen\": 6, \"ticks\": \"inside\"}}, \"type\": \"scattercarpet\"}], \"scattergeo\": [{\"marker\": {\"colorbar\": {\"outlinewidth\": 0, \"tickcolor\": \"rgb(237,237,237)\", \"ticklen\": 6, \"ticks\": \"inside\"}}, \"type\": \"scattergeo\"}], \"scattergl\": [{\"marker\": {\"colorbar\": {\"outlinewidth\": 0, \"tickcolor\": \"rgb(237,237,237)\", \"ticklen\": 6, \"ticks\": \"inside\"}}, \"type\": \"scattergl\"}], \"scattermapbox\": [{\"marker\": {\"colorbar\": {\"outlinewidth\": 0, \"tickcolor\": \"rgb(237,237,237)\", \"ticklen\": 6, \"ticks\": \"inside\"}}, \"type\": \"scattermapbox\"}], \"scatterpolar\": [{\"marker\": {\"colorbar\": {\"outlinewidth\": 0, \"tickcolor\": \"rgb(237,237,237)\", \"ticklen\": 6, \"ticks\": \"inside\"}}, \"type\": \"scatterpolar\"}], \"scatterpolargl\": [{\"marker\": {\"colorbar\": {\"outlinewidth\": 0, \"tickcolor\": \"rgb(237,237,237)\", \"ticklen\": 6, \"ticks\": \"inside\"}}, \"type\": \"scatterpolargl\"}], \"scatterternary\": [{\"marker\": {\"colorbar\": {\"outlinewidth\": 0, \"tickcolor\": \"rgb(237,237,237)\", \"ticklen\": 6, \"ticks\": \"inside\"}}, \"type\": \"scatterternary\"}], \"surface\": [{\"colorbar\": {\"outlinewidth\": 0, \"tickcolor\": \"rgb(237,237,237)\", \"ticklen\": 6, \"ticks\": \"inside\"}, \"colorscale\": [[0, \"rgb(20,44,66)\"], [1, \"rgb(90,179,244)\"]], \"type\": \"surface\"}], \"table\": [{\"cells\": {\"fill\": {\"color\": \"rgb(237,237,237)\"}, \"line\": {\"color\": \"white\"}}, \"header\": {\"fill\": {\"color\": \"rgb(217,217,217)\"}, \"line\": {\"color\": \"white\"}}, \"type\": \"table\"}]}, \"layout\": {\"annotationdefaults\": {\"arrowhead\": 0, \"arrowwidth\": 1}, \"autotypenumbers\": \"strict\", \"coloraxis\": {\"colorbar\": {\"outlinewidth\": 0, \"tickcolor\": \"rgb(237,237,237)\", \"ticklen\": 6, \"ticks\": \"inside\"}}, \"colorscale\": {\"sequential\": [[0, \"rgb(20,44,66)\"], [1, \"rgb(90,179,244)\"]], \"sequentialminus\": [[0, \"rgb(20,44,66)\"], [1, \"rgb(90,179,244)\"]]}, \"colorway\": [\"#F8766D\", \"#A3A500\", \"#00BF7D\", \"#00B0F6\", \"#E76BF3\"], \"font\": {\"color\": \"rgb(51,51,51)\"}, \"geo\": {\"bgcolor\": \"white\", \"lakecolor\": \"white\", \"landcolor\": \"rgb(237,237,237)\", \"showlakes\": true, \"showland\": true, \"subunitcolor\": \"white\"}, \"hoverlabel\": {\"align\": \"left\"}, \"hovermode\": \"closest\", \"paper_bgcolor\": \"white\", \"plot_bgcolor\": \"rgb(237,237,237)\", \"polar\": {\"angularaxis\": {\"gridcolor\": \"white\", \"linecolor\": \"white\", \"showgrid\": true, \"tickcolor\": \"rgb(51,51,51)\", \"ticks\": \"outside\"}, \"bgcolor\": \"rgb(237,237,237)\", \"radialaxis\": {\"gridcolor\": \"white\", \"linecolor\": \"white\", \"showgrid\": true, \"tickcolor\": \"rgb(51,51,51)\", \"ticks\": \"outside\"}}, \"scene\": {\"xaxis\": {\"backgroundcolor\": \"rgb(237,237,237)\", \"gridcolor\": \"white\", \"gridwidth\": 2, \"linecolor\": \"white\", \"showbackground\": true, \"showgrid\": true, \"tickcolor\": \"rgb(51,51,51)\", \"ticks\": \"outside\", \"zerolinecolor\": \"white\"}, \"yaxis\": {\"backgroundcolor\": \"rgb(237,237,237)\", \"gridcolor\": \"white\", \"gridwidth\": 2, \"linecolor\": \"white\", \"showbackground\": true, \"showgrid\": true, \"tickcolor\": \"rgb(51,51,51)\", \"ticks\": \"outside\", \"zerolinecolor\": \"white\"}, \"zaxis\": {\"backgroundcolor\": \"rgb(237,237,237)\", \"gridcolor\": \"white\", \"gridwidth\": 2, \"linecolor\": \"white\", \"showbackground\": true, \"showgrid\": true, \"tickcolor\": \"rgb(51,51,51)\", \"ticks\": \"outside\", \"zerolinecolor\": \"white\"}}, \"shapedefaults\": {\"fillcolor\": \"black\", \"line\": {\"width\": 0}, \"opacity\": 0.3}, \"ternary\": {\"aaxis\": {\"gridcolor\": \"white\", \"linecolor\": \"white\", \"showgrid\": true, \"tickcolor\": \"rgb(51,51,51)\", \"ticks\": \"outside\"}, \"baxis\": {\"gridcolor\": \"white\", \"linecolor\": \"white\", \"showgrid\": true, \"tickcolor\": \"rgb(51,51,51)\", \"ticks\": \"outside\"}, \"bgcolor\": \"rgb(237,237,237)\", \"caxis\": {\"gridcolor\": \"white\", \"linecolor\": \"white\", \"showgrid\": true, \"tickcolor\": \"rgb(51,51,51)\", \"ticks\": \"outside\"}}, \"xaxis\": {\"automargin\": true, \"gridcolor\": \"white\", \"linecolor\": \"white\", \"showgrid\": true, \"tickcolor\": \"rgb(51,51,51)\", \"ticks\": \"outside\", \"title\": {\"standoff\": 15}, \"zerolinecolor\": \"white\"}, \"yaxis\": {\"automargin\": true, \"gridcolor\": \"white\", \"linecolor\": \"white\", \"showgrid\": true, \"tickcolor\": \"rgb(51,51,51)\", \"ticks\": \"outside\", \"title\": {\"standoff\": 15}, \"zerolinecolor\": \"white\"}}}, \"xaxis\": {\"constrain\": \"domain\", \"range\": [0, 1], \"title\": {\"text\": \"Recall\"}}, \"yaxis\": {\"constrain\": \"domain\", \"range\": [0, 1], \"scaleanchor\": \"x\", \"scaleratio\": 1, \"title\": {\"text\": \"Precision\"}}},                        {\"responsive\": true}                    ).then(function(){\n",
              "                            \n",
              "var gd = document.getElementById('a855637b-0d87-4dd8-99b0-2b007c616468');\n",
              "var x = new MutationObserver(function (mutations, observer) {{\n",
              "        var display = window.getComputedStyle(gd).display;\n",
              "        if (!display || display === 'none') {{\n",
              "            console.log([gd, 'removed!']);\n",
              "            Plotly.purge(gd);\n",
              "            observer.disconnect();\n",
              "        }}\n",
              "}});\n",
              "\n",
              "// Listen for the removal of the full notebook cells\n",
              "var notebookContainer = gd.closest('#notebook-container');\n",
              "if (notebookContainer) {{\n",
              "    x.observe(notebookContainer, {childList: true});\n",
              "}}\n",
              "\n",
              "// Listen for the clearing of the current output cell\n",
              "var outputEl = gd.closest('.output');\n",
              "if (outputEl) {{\n",
              "    x.observe(outputEl, {childList: true});\n",
              "}}\n",
              "\n",
              "                        })                };                            </script>        </div>\n",
              "</body>\n",
              "</html>"
            ]
          },
          "metadata": {},
          "output_type": "display_data"
        }
      ]
    },
    {
      "cell_type": "code",
      "metadata": {
        "colab": {
          "background_save": true,
          "resources": {
            "https://localhost:5151/polling?sessionId=178d0939-ddaf-4f06-a539-1deb78571140": {
              "data": "eyJtZXNzYWdlcyI6IFtdfQ==",
              "headers": [
                [
                  "access-control-allow-headers",
                  "x-requested-with"
                ],
                [
                  "content-type",
                  "text/html; charset=UTF-8"
                ]
              ],
              "ok": true,
              "status": 200,
              "status_text": "OK"
            }
          },
          "base_uri": "https://localhost:8080/",
          "height": 821
        },
        "id": "Su02qzLXl-P9",
        "outputId": "59a8a30a-ef07-49e2-e15b-1a7276a485e2"
      },
      "source": [
        "coco_session.view=high_conf_view"
      ],
      "execution_count": null,
      "outputs": [
        {
          "data": {
            "text/html": [
              "\n",
              "<style>\n",
              "\n",
              "@import url(\"https://fonts.googleapis.com/css2?family=Palanquin&display=swap\");\n",
              "\n",
              "#focontainer-e0da857a-2f18-4e5f-95ce-a4760b99929f {\n",
              "  position: relative;\n",
              "  display: block !important;\n",
              "}\n",
              "#foactivate-e0da857a-2f18-4e5f-95ce-a4760b99929f {\n",
              "  font-weight: bold;\n",
              "  cursor: pointer;\n",
              "  font-size: 24px;\n",
              "  border-radius: 3px;\n",
              "  text-align: center;\n",
              "  padding: 0.5em;\n",
              "  color: rgb(255, 255, 255);\n",
              "  font-family: \"Palanquin\", sans-serif;\n",
              "  position: absolute;\n",
              "  left: 50%;\n",
              "  top: 50%;\n",
              "  width: 160px;\n",
              "  margin-left: -80px;\n",
              "  margin-top: -23px;\n",
              "  background: hsla(210,11%,15%, 0.8);\n",
              "  border: none;\n",
              "}\n",
              "#foactivate-e0da857a-2f18-4e5f-95ce-a4760b99929f:focus {\n",
              "  outline: none;\n",
              "}\n",
              "#fooverlay-e0da857a-2f18-4e5f-95ce-a4760b99929f {\n",
              "  width: 100%;\n",
              "  height: 100%;\n",
              "  background: hsla(208, 7%, 46%, 0.7);\n",
              "  position: absolute;\n",
              "  top: 0;\n",
              "  left: 0;\n",
              "  display: none;\n",
              "  cursor: pointer;\n",
              "}\n",
              "</style>\n",
              "<div id=\"focontainer-e0da857a-2f18-4e5f-95ce-a4760b99929f\" style=\"display: none;\">\n",
              "   <div id=\"fooverlay-e0da857a-2f18-4e5f-95ce-a4760b99929f\">\n",
              "      <button id=\"foactivate-e0da857a-2f18-4e5f-95ce-a4760b99929f\" >Activate</button>\n",
              "   </div>\n",
              "</div>"
            ],
            "text/plain": [
              "<IPython.core.display.HTML object>"
            ]
          },
          "metadata": {},
          "output_type": "display_data"
        }
      ]
    },
    {
      "cell_type": "markdown",
      "metadata": {
        "id": "XUcWUF3jl-P9"
      },
      "source": [
        "### More insights"
      ]
    },
    {
      "cell_type": "code",
      "metadata": {
        "colab": {
          "base_uri": "https://localhost:8080/"
        },
        "id": "8pLGsmUil-P-",
        "outputId": "073b8bcf-9bc0-4ab4-9fde-86132df75f0b"
      },
      "source": [
        "eval_patches = coco_dataset.to_evaluation_patches(\"eval\")\n",
        "print(eval_patches)"
      ],
      "execution_count": null,
      "outputs": [
        {
          "name": "stdout",
          "output_type": "stream",
          "text": [
            "Dataset:     coco\n",
            "Media type:  image\n",
            "Num patches: 37239\n",
            "Tags:        ['validation']\n",
            "Patch fields:\n",
            "    id:           fiftyone.core.fields.ObjectIdField\n",
            "    sample_id:    fiftyone.core.fields.ObjectIdField\n",
            "    filepath:     fiftyone.core.fields.StringField\n",
            "    tags:         fiftyone.core.fields.ListField(fiftyone.core.fields.StringField)\n",
            "    metadata:     fiftyone.core.fields.EmbeddedDocumentField(fiftyone.core.metadata.Metadata)\n",
            "    ground_truth: fiftyone.core.fields.EmbeddedDocumentField(fiftyone.core.labels.Detections)\n",
            "    yolov5x:      fiftyone.core.fields.EmbeddedDocumentField(fiftyone.core.labels.Detections)\n",
            "    crowd:        fiftyone.core.fields.BooleanField\n",
            "    type:         fiftyone.core.fields.StringField\n",
            "    iou:          fiftyone.core.fields.FloatField\n",
            "View stages:\n",
            "    1. ToEvaluationPatches(eval_key='eval', config=None)\n"
          ]
        }
      ]
    },
    {
      "cell_type": "code",
      "metadata": {
        "id": "Ju8mdwvll-P_"
      },
      "source": [
        "# Show samples with most true positives\n",
        "coco_session.view = high_conf_view.sort_by(\"eval_tp\", reverse=True)"
      ],
      "execution_count": null,
      "outputs": []
    },
    {
      "cell_type": "code",
      "metadata": {
        "id": "axiLsSIEl-P_"
      },
      "source": [
        "# Show samples with most false positives\n",
        "coco_session.view = high_conf_view.sort_by(\"eval_fp\", reverse=True)"
      ],
      "execution_count": null,
      "outputs": []
    },
    {
      "cell_type": "code",
      "metadata": {
        "id": "IGooRb2VoQRF"
      },
      "source": [
        "# Show samples with most false negatives\n",
        "coco_session.view = high_conf_view.sort_by(\"eval_fn\", reverse=True)"
      ],
      "execution_count": null,
      "outputs": []
    },
    {
      "cell_type": "markdown",
      "metadata": {
        "id": "9IY6JilUlA0j"
      },
      "source": [
        "# VPLab Dataset"
      ]
    },
    {
      "cell_type": "markdown",
      "metadata": {
        "id": "4oHXnYgsfSbM"
      },
      "source": [
        "##Detections"
      ]
    },
    {
      "cell_type": "markdown",
      "metadata": {
        "id": "Gl2Tpo8RjDq9"
      },
      "source": [
        "### Choose subset of data to perform detection"
      ]
    },
    {
      "cell_type": "code",
      "metadata": {
        "id": "qgS56zCerTTS"
      },
      "source": [
        "# This is removed to improve performance of pretrained YOLOv5x\n",
        "exclude_view = dataset.filter_labels(\n",
        "    \"ground_truth\", (F(\"label\") != \"Printer\") & (F(\"label\") != \"Switch\")\n",
        ")"
      ],
      "execution_count": null,
      "outputs": []
    },
    {
      "cell_type": "code",
      "metadata": {
        "id": "S8dlhCyRZhXH"
      },
      "source": [
        "# Choose a random subset of 100 samples to add predictions to\n",
        "predictions_view = exclude_view.take(100, seed=51)"
      ],
      "execution_count": null,
      "outputs": []
    },
    {
      "cell_type": "code",
      "metadata": {
        "id": "Sjv0P7PEaDvN"
      },
      "source": [
        "session.view = predictions_view"
      ],
      "execution_count": null,
      "outputs": []
    },
    {
      "cell_type": "markdown",
      "metadata": {
        "id": "ukBXUQ0hf3sJ"
      },
      "source": [
        "### Make Predictions"
      ]
    },
    {
      "cell_type": "code",
      "metadata": {
        "colab": {
          "base_uri": "https://localhost:8080/"
        },
        "id": "Fa89eO8Xbcqn",
        "outputId": "7eb760a0-2eb9-4d0e-eadd-2d1dad97ba00"
      },
      "source": [
        "# Add predictions to samples\n",
        "results = []\n",
        "with fo.ProgressBar() as pb:\n",
        "    for sample in pb(predictions_view):\n",
        "        # Load image\n",
        "        image = Image.open(sample.filepath)\n",
        "        # image = func.to_tensor(image).to(device).numpy()\n",
        "        c, h, w = func.to_tensor(image).shape\n",
        "        # print(image)\n",
        "        \n",
        "        # Perform inference\n",
        "        preds = model(image)\n",
        "        preds = preds.pandas().xyxy[0]\n",
        "        # preds.print()\n",
        "        \n",
        "        labels = preds[\"name\"]\n",
        "        confidence = preds[\"confidence\"]\n",
        "        xmin = preds[\"xmin\"]\n",
        "        ymin = preds[\"ymin\"]\n",
        "        xmax = preds[\"xmax\"]\n",
        "        ymax = preds[\"ymax\"]\n",
        "        # for x in [labels, confidence, xmin, ymin, xmax, ymax]:\n",
        "        #   print(x)\n",
        "        \n",
        "        # Convert detections to FiftyOne format\n",
        "        detections = []\n",
        "        for label, confidence, *box in zip(labels, confidence, xmin, ymin, xmax, ymax):\n",
        "            # Convert to [top-left-x, top-left-y, width, height]\n",
        "            # in relative coordinates in [0, 1] x [0, 1]\n",
        "            x1, y1, x2, y2 = box\n",
        "            # print(label, confidence, x1, y1, x2, y2)\n",
        "            # print(c, h, w)\n",
        "            rel_box = [x1 / w, y1 / h, (x2 - x1) / w, (y2 - y1) / h]\n",
        "            label=label.title().replace(\" \",\"_\")\n",
        "            if label == \"Tv\" or label == \"Laptop\":\n",
        "              label = \"TV_Monitor\"\n",
        "            elif label == \"Couch\":\n",
        "              label = \"Sofa\"\n",
        "            # label=label\n",
        "            detections.append(\n",
        "                fo.Detection(\n",
        "                    label=label,\n",
        "                    bounding_box=rel_box,\n",
        "                    confidence=confidence\n",
        "                )\n",
        "            )\n",
        "        \n",
        "        # Save predictions to dataset\n",
        "        sample[\"yolov5x\"] = fo.Detections(detections=detections)\n",
        "        sample.save()\n",
        "\n",
        "print(\"Finished adding predictions\")"
      ],
      "execution_count": null,
      "outputs": [
        {
          "name": "stdout",
          "output_type": "stream",
          "text": [
            "   0% ||----------------|   0/100 [110.5ms elapsed, ? remaining, ? samples/s] "
          ]
        },
        {
          "name": "stderr",
          "output_type": "stream",
          "text": [
            "/usr/local/lib/python3.7/dist-packages/torch/autocast_mode.py:141: UserWarning:\n",
            "\n",
            "User provided device_type of 'cuda', but CUDA is not available. Disabling\n",
            "\n"
          ]
        },
        {
          "name": "stdout",
          "output_type": "stream",
          "text": [
            "   1% |/----------------|   1/100 [2.5s elapsed, 4.2m remaining, 0.4 samples/s] "
          ]
        },
        {
          "name": "stderr",
          "output_type": "stream",
          "text": [
            "/usr/local/lib/python3.7/dist-packages/torch/autocast_mode.py:141: UserWarning:\n",
            "\n",
            "User provided device_type of 'cuda', but CUDA is not available. Disabling\n",
            "\n"
          ]
        },
        {
          "name": "stdout",
          "output_type": "stream",
          "text": [
            "   2% |-----------------|   2/100 [4.9s elapsed, 4.0m remaining, 0.4 samples/s] "
          ]
        },
        {
          "name": "stderr",
          "output_type": "stream",
          "text": [
            "/usr/local/lib/python3.7/dist-packages/torch/autocast_mode.py:141: UserWarning:\n",
            "\n",
            "User provided device_type of 'cuda', but CUDA is not available. Disabling\n",
            "\n"
          ]
        },
        {
          "name": "stdout",
          "output_type": "stream",
          "text": [
            "   3% |\\----------------|   3/100 [7.3s elapsed, 3.9m remaining, 0.4 samples/s] "
          ]
        },
        {
          "name": "stderr",
          "output_type": "stream",
          "text": [
            "/usr/local/lib/python3.7/dist-packages/torch/autocast_mode.py:141: UserWarning:\n",
            "\n",
            "User provided device_type of 'cuda', but CUDA is not available. Disabling\n",
            "\n"
          ]
        },
        {
          "name": "stdout",
          "output_type": "stream",
          "text": [
            "   4% ||----------------|   4/100 [9.7s elapsed, 3.9m remaining, 0.4 samples/s] "
          ]
        },
        {
          "name": "stderr",
          "output_type": "stream",
          "text": [
            "/usr/local/lib/python3.7/dist-packages/torch/autocast_mode.py:141: UserWarning:\n",
            "\n",
            "User provided device_type of 'cuda', but CUDA is not available. Disabling\n",
            "\n"
          ]
        },
        {
          "name": "stdout",
          "output_type": "stream",
          "text": [
            "   5% |/----------------|   5/100 [12.0s elapsed, 3.8m remaining, 0.4 samples/s] "
          ]
        },
        {
          "name": "stderr",
          "output_type": "stream",
          "text": [
            "/usr/local/lib/python3.7/dist-packages/torch/autocast_mode.py:141: UserWarning:\n",
            "\n",
            "User provided device_type of 'cuda', but CUDA is not available. Disabling\n",
            "\n"
          ]
        },
        {
          "name": "stdout",
          "output_type": "stream",
          "text": [
            "   6% |█----------------|   6/100 [14.4s elapsed, 3.8m remaining, 0.4 samples/s] "
          ]
        },
        {
          "name": "stderr",
          "output_type": "stream",
          "text": [
            "/usr/local/lib/python3.7/dist-packages/torch/autocast_mode.py:141: UserWarning:\n",
            "\n",
            "User provided device_type of 'cuda', but CUDA is not available. Disabling\n",
            "\n"
          ]
        },
        {
          "name": "stdout",
          "output_type": "stream",
          "text": [
            "   7% |█\\---------------|   7/100 [16.8s elapsed, 3.7m remaining, 0.4 samples/s] "
          ]
        },
        {
          "name": "stderr",
          "output_type": "stream",
          "text": [
            "/usr/local/lib/python3.7/dist-packages/torch/autocast_mode.py:141: UserWarning:\n",
            "\n",
            "User provided device_type of 'cuda', but CUDA is not available. Disabling\n",
            "\n"
          ]
        },
        {
          "name": "stdout",
          "output_type": "stream",
          "text": [
            "   8% |█|---------------|   8/100 [19.1s elapsed, 3.7m remaining, 0.4 samples/s] "
          ]
        },
        {
          "name": "stderr",
          "output_type": "stream",
          "text": [
            "/usr/local/lib/python3.7/dist-packages/torch/autocast_mode.py:141: UserWarning:\n",
            "\n",
            "User provided device_type of 'cuda', but CUDA is not available. Disabling\n",
            "\n"
          ]
        },
        {
          "name": "stdout",
          "output_type": "stream",
          "text": [
            "   9% |█/---------------|   9/100 [21.5s elapsed, 3.6m remaining, 0.4 samples/s] "
          ]
        },
        {
          "name": "stderr",
          "output_type": "stream",
          "text": [
            "/usr/local/lib/python3.7/dist-packages/torch/autocast_mode.py:141: UserWarning:\n",
            "\n",
            "User provided device_type of 'cuda', but CUDA is not available. Disabling\n",
            "\n"
          ]
        },
        {
          "name": "stdout",
          "output_type": "stream",
          "text": [
            "  10% |█----------------|  10/100 [23.9s elapsed, 3.6m remaining, 0.4 samples/s] "
          ]
        },
        {
          "name": "stderr",
          "output_type": "stream",
          "text": [
            "/usr/local/lib/python3.7/dist-packages/torch/autocast_mode.py:141: UserWarning:\n",
            "\n",
            "User provided device_type of 'cuda', but CUDA is not available. Disabling\n",
            "\n"
          ]
        },
        {
          "name": "stdout",
          "output_type": "stream",
          "text": [
            "  11% |█\\---------------|  11/100 [26.3s elapsed, 3.5m remaining, 0.4 samples/s] "
          ]
        },
        {
          "name": "stderr",
          "output_type": "stream",
          "text": [
            "/usr/local/lib/python3.7/dist-packages/torch/autocast_mode.py:141: UserWarning:\n",
            "\n",
            "User provided device_type of 'cuda', but CUDA is not available. Disabling\n",
            "\n"
          ]
        },
        {
          "name": "stdout",
          "output_type": "stream",
          "text": [
            "  12% |██|--------------|  12/100 [28.6s elapsed, 3.5m remaining, 0.4 samples/s] "
          ]
        },
        {
          "name": "stderr",
          "output_type": "stream",
          "text": [
            "/usr/local/lib/python3.7/dist-packages/torch/autocast_mode.py:141: UserWarning:\n",
            "\n",
            "User provided device_type of 'cuda', but CUDA is not available. Disabling\n",
            "\n"
          ]
        },
        {
          "name": "stdout",
          "output_type": "stream",
          "text": [
            "  13% |██/--------------|  13/100 [31.1s elapsed, 3.5m remaining, 0.4 samples/s] "
          ]
        },
        {
          "name": "stderr",
          "output_type": "stream",
          "text": [
            "/usr/local/lib/python3.7/dist-packages/torch/autocast_mode.py:141: UserWarning:\n",
            "\n",
            "User provided device_type of 'cuda', but CUDA is not available. Disabling\n",
            "\n"
          ]
        },
        {
          "name": "stdout",
          "output_type": "stream",
          "text": [
            "  14% |██---------------|  14/100 [33.4s elapsed, 3.4m remaining, 0.4 samples/s] "
          ]
        },
        {
          "name": "stderr",
          "output_type": "stream",
          "text": [
            "/usr/local/lib/python3.7/dist-packages/torch/autocast_mode.py:141: UserWarning:\n",
            "\n",
            "User provided device_type of 'cuda', but CUDA is not available. Disabling\n",
            "\n"
          ]
        },
        {
          "name": "stdout",
          "output_type": "stream",
          "text": [
            "  15% |██\\--------------|  15/100 [35.8s elapsed, 3.4m remaining, 0.4 samples/s] "
          ]
        },
        {
          "name": "stderr",
          "output_type": "stream",
          "text": [
            "/usr/local/lib/python3.7/dist-packages/torch/autocast_mode.py:141: UserWarning:\n",
            "\n",
            "User provided device_type of 'cuda', but CUDA is not available. Disabling\n",
            "\n"
          ]
        },
        {
          "name": "stdout",
          "output_type": "stream",
          "text": [
            "  16% |██|--------------|  16/100 [38.1s elapsed, 3.3m remaining, 0.4 samples/s] "
          ]
        },
        {
          "name": "stderr",
          "output_type": "stream",
          "text": [
            "/usr/local/lib/python3.7/dist-packages/torch/autocast_mode.py:141: UserWarning:\n",
            "\n",
            "User provided device_type of 'cuda', but CUDA is not available. Disabling\n",
            "\n"
          ]
        },
        {
          "name": "stdout",
          "output_type": "stream",
          "text": [
            "  17% |██/--------------|  17/100 [40.5s elapsed, 3.3m remaining, 0.4 samples/s] "
          ]
        },
        {
          "name": "stderr",
          "output_type": "stream",
          "text": [
            "/usr/local/lib/python3.7/dist-packages/torch/autocast_mode.py:141: UserWarning:\n",
            "\n",
            "User provided device_type of 'cuda', but CUDA is not available. Disabling\n",
            "\n"
          ]
        },
        {
          "name": "stdout",
          "output_type": "stream",
          "text": [
            "  18% |███--------------|  18/100 [43.0s elapsed, 3.3m remaining, 0.4 samples/s] "
          ]
        },
        {
          "name": "stderr",
          "output_type": "stream",
          "text": [
            "/usr/local/lib/python3.7/dist-packages/torch/autocast_mode.py:141: UserWarning:\n",
            "\n",
            "User provided device_type of 'cuda', but CUDA is not available. Disabling\n",
            "\n"
          ]
        },
        {
          "name": "stdout",
          "output_type": "stream",
          "text": [
            "  19% |███\\-------------|  19/100 [45.4s elapsed, 3.2m remaining, 0.4 samples/s] "
          ]
        },
        {
          "name": "stderr",
          "output_type": "stream",
          "text": [
            "/usr/local/lib/python3.7/dist-packages/torch/autocast_mode.py:141: UserWarning:\n",
            "\n",
            "User provided device_type of 'cuda', but CUDA is not available. Disabling\n",
            "\n"
          ]
        },
        {
          "name": "stdout",
          "output_type": "stream",
          "text": [
            "  20% |███|-------------|  20/100 [47.8s elapsed, 3.2m remaining, 0.4 samples/s] "
          ]
        },
        {
          "name": "stderr",
          "output_type": "stream",
          "text": [
            "/usr/local/lib/python3.7/dist-packages/torch/autocast_mode.py:141: UserWarning:\n",
            "\n",
            "User provided device_type of 'cuda', but CUDA is not available. Disabling\n",
            "\n"
          ]
        },
        {
          "name": "stdout",
          "output_type": "stream",
          "text": [
            "  21% |███/-------------|  21/100 [50.2s elapsed, 3.1m remaining, 0.4 samples/s] "
          ]
        },
        {
          "name": "stderr",
          "output_type": "stream",
          "text": [
            "/usr/local/lib/python3.7/dist-packages/torch/autocast_mode.py:141: UserWarning:\n",
            "\n",
            "User provided device_type of 'cuda', but CUDA is not available. Disabling\n",
            "\n"
          ]
        },
        {
          "name": "stdout",
          "output_type": "stream",
          "text": [
            "  22% |███--------------|  22/100 [52.6s elapsed, 3.1m remaining, 0.4 samples/s] "
          ]
        },
        {
          "name": "stderr",
          "output_type": "stream",
          "text": [
            "/usr/local/lib/python3.7/dist-packages/torch/autocast_mode.py:141: UserWarning:\n",
            "\n",
            "User provided device_type of 'cuda', but CUDA is not available. Disabling\n",
            "\n"
          ]
        },
        {
          "name": "stdout",
          "output_type": "stream",
          "text": [
            "  23% |███\\-------------|  23/100 [55.0s elapsed, 3.1m remaining, 0.4 samples/s] "
          ]
        },
        {
          "name": "stderr",
          "output_type": "stream",
          "text": [
            "/usr/local/lib/python3.7/dist-packages/torch/autocast_mode.py:141: UserWarning:\n",
            "\n",
            "User provided device_type of 'cuda', but CUDA is not available. Disabling\n",
            "\n"
          ]
        },
        {
          "name": "stdout",
          "output_type": "stream",
          "text": [
            "  24% |████|------------|  24/100 [57.5s elapsed, 3.0m remaining, 0.4 samples/s] "
          ]
        },
        {
          "name": "stderr",
          "output_type": "stream",
          "text": [
            "/usr/local/lib/python3.7/dist-packages/torch/autocast_mode.py:141: UserWarning:\n",
            "\n",
            "User provided device_type of 'cuda', but CUDA is not available. Disabling\n",
            "\n"
          ]
        },
        {
          "name": "stdout",
          "output_type": "stream",
          "text": [
            "  25% |████/------------|  25/100 [59.9s elapsed, 3.0m remaining, 0.4 samples/s] "
          ]
        },
        {
          "name": "stderr",
          "output_type": "stream",
          "text": [
            "/usr/local/lib/python3.7/dist-packages/torch/autocast_mode.py:141: UserWarning:\n",
            "\n",
            "User provided device_type of 'cuda', but CUDA is not available. Disabling\n",
            "\n"
          ]
        },
        {
          "name": "stdout",
          "output_type": "stream",
          "text": [
            "  26% |████-------------|  26/100 [1.0m elapsed, 3.0m remaining, 0.4 samples/s]  "
          ]
        },
        {
          "name": "stderr",
          "output_type": "stream",
          "text": [
            "/usr/local/lib/python3.7/dist-packages/torch/autocast_mode.py:141: UserWarning:\n",
            "\n",
            "User provided device_type of 'cuda', but CUDA is not available. Disabling\n",
            "\n"
          ]
        },
        {
          "name": "stdout",
          "output_type": "stream",
          "text": [
            "  27% |████\\------------|  27/100 [1.1m elapsed, 2.9m remaining, 0.4 samples/s]  "
          ]
        },
        {
          "name": "stderr",
          "output_type": "stream",
          "text": [
            "/usr/local/lib/python3.7/dist-packages/torch/autocast_mode.py:141: UserWarning:\n",
            "\n",
            "User provided device_type of 'cuda', but CUDA is not available. Disabling\n",
            "\n"
          ]
        },
        {
          "name": "stdout",
          "output_type": "stream",
          "text": [
            "  28% |████|------------|  28/100 [1.1m elapsed, 2.9m remaining, 0.4 samples/s]  "
          ]
        },
        {
          "name": "stderr",
          "output_type": "stream",
          "text": [
            "/usr/local/lib/python3.7/dist-packages/torch/autocast_mode.py:141: UserWarning:\n",
            "\n",
            "User provided device_type of 'cuda', but CUDA is not available. Disabling\n",
            "\n"
          ]
        },
        {
          "name": "stdout",
          "output_type": "stream",
          "text": [
            "  29% |████/------------|  29/100 [1.2m elapsed, 2.8m remaining, 0.4 samples/s]  "
          ]
        },
        {
          "name": "stderr",
          "output_type": "stream",
          "text": [
            "/usr/local/lib/python3.7/dist-packages/torch/autocast_mode.py:141: UserWarning:\n",
            "\n",
            "User provided device_type of 'cuda', but CUDA is not available. Disabling\n",
            "\n"
          ]
        },
        {
          "name": "stdout",
          "output_type": "stream",
          "text": [
            "  30% |█████------------|  30/100 [1.2m elapsed, 2.8m remaining, 0.4 samples/s]  "
          ]
        },
        {
          "name": "stderr",
          "output_type": "stream",
          "text": [
            "/usr/local/lib/python3.7/dist-packages/torch/autocast_mode.py:141: UserWarning:\n",
            "\n",
            "User provided device_type of 'cuda', but CUDA is not available. Disabling\n",
            "\n"
          ]
        },
        {
          "name": "stdout",
          "output_type": "stream",
          "text": [
            "  31% |█████\\-----------|  31/100 [1.2m elapsed, 2.8m remaining, 0.4 samples/s]  "
          ]
        },
        {
          "name": "stderr",
          "output_type": "stream",
          "text": [
            "/usr/local/lib/python3.7/dist-packages/torch/autocast_mode.py:141: UserWarning:\n",
            "\n",
            "User provided device_type of 'cuda', but CUDA is not available. Disabling\n",
            "\n"
          ]
        },
        {
          "name": "stdout",
          "output_type": "stream",
          "text": [
            "  32% |█████|-----------|  32/100 [1.3m elapsed, 2.7m remaining, 0.4 samples/s]  "
          ]
        },
        {
          "name": "stderr",
          "output_type": "stream",
          "text": [
            "/usr/local/lib/python3.7/dist-packages/torch/autocast_mode.py:141: UserWarning:\n",
            "\n",
            "User provided device_type of 'cuda', but CUDA is not available. Disabling\n",
            "\n"
          ]
        },
        {
          "name": "stdout",
          "output_type": "stream",
          "text": [
            "  33% |█████/-----------|  33/100 [1.3m elapsed, 2.7m remaining, 0.4 samples/s]  "
          ]
        },
        {
          "name": "stderr",
          "output_type": "stream",
          "text": [
            "/usr/local/lib/python3.7/dist-packages/torch/autocast_mode.py:141: UserWarning:\n",
            "\n",
            "User provided device_type of 'cuda', but CUDA is not available. Disabling\n",
            "\n"
          ]
        },
        {
          "name": "stdout",
          "output_type": "stream",
          "text": [
            "  34% |█████------------|  34/100 [1.4m elapsed, 2.6m remaining, 0.4 samples/s]  "
          ]
        },
        {
          "name": "stderr",
          "output_type": "stream",
          "text": [
            "/usr/local/lib/python3.7/dist-packages/torch/autocast_mode.py:141: UserWarning:\n",
            "\n",
            "User provided device_type of 'cuda', but CUDA is not available. Disabling\n",
            "\n"
          ]
        },
        {
          "name": "stdout",
          "output_type": "stream",
          "text": [
            "  35% |█████\\-----------|  35/100 [1.4m elapsed, 2.6m remaining, 0.4 samples/s]  "
          ]
        },
        {
          "name": "stderr",
          "output_type": "stream",
          "text": [
            "/usr/local/lib/python3.7/dist-packages/torch/autocast_mode.py:141: UserWarning:\n",
            "\n",
            "User provided device_type of 'cuda', but CUDA is not available. Disabling\n",
            "\n"
          ]
        },
        {
          "name": "stdout",
          "output_type": "stream",
          "text": [
            "  36% |██████|----------|  36/100 [1.4m elapsed, 2.5m remaining, 0.4 samples/s]  "
          ]
        },
        {
          "name": "stderr",
          "output_type": "stream",
          "text": [
            "/usr/local/lib/python3.7/dist-packages/torch/autocast_mode.py:141: UserWarning:\n",
            "\n",
            "User provided device_type of 'cuda', but CUDA is not available. Disabling\n",
            "\n"
          ]
        },
        {
          "name": "stdout",
          "output_type": "stream",
          "text": [
            "  37% |██████/----------|  37/100 [1.5m elapsed, 2.5m remaining, 0.4 samples/s]  "
          ]
        },
        {
          "name": "stderr",
          "output_type": "stream",
          "text": [
            "/usr/local/lib/python3.7/dist-packages/torch/autocast_mode.py:141: UserWarning:\n",
            "\n",
            "User provided device_type of 'cuda', but CUDA is not available. Disabling\n",
            "\n"
          ]
        },
        {
          "name": "stdout",
          "output_type": "stream",
          "text": [
            "  38% |██████-----------|  38/100 [1.5m elapsed, 2.5m remaining, 0.4 samples/s]  "
          ]
        },
        {
          "name": "stderr",
          "output_type": "stream",
          "text": [
            "/usr/local/lib/python3.7/dist-packages/torch/autocast_mode.py:141: UserWarning:\n",
            "\n",
            "User provided device_type of 'cuda', but CUDA is not available. Disabling\n",
            "\n"
          ]
        },
        {
          "name": "stdout",
          "output_type": "stream",
          "text": [
            "  39% |██████\\----------|  39/100 [1.6m elapsed, 2.4m remaining, 0.4 samples/s]  "
          ]
        },
        {
          "name": "stderr",
          "output_type": "stream",
          "text": [
            "/usr/local/lib/python3.7/dist-packages/torch/autocast_mode.py:141: UserWarning:\n",
            "\n",
            "User provided device_type of 'cuda', but CUDA is not available. Disabling\n",
            "\n"
          ]
        },
        {
          "name": "stdout",
          "output_type": "stream",
          "text": [
            "  40% |██████|----------|  40/100 [1.6m elapsed, 2.4m remaining, 0.4 samples/s]  "
          ]
        },
        {
          "name": "stderr",
          "output_type": "stream",
          "text": [
            "/usr/local/lib/python3.7/dist-packages/torch/autocast_mode.py:141: UserWarning:\n",
            "\n",
            "User provided device_type of 'cuda', but CUDA is not available. Disabling\n",
            "\n"
          ]
        },
        {
          "name": "stdout",
          "output_type": "stream",
          "text": [
            "  41% |██████/----------|  41/100 [1.6m elapsed, 2.4m remaining, 0.4 samples/s]  "
          ]
        },
        {
          "name": "stderr",
          "output_type": "stream",
          "text": [
            "/usr/local/lib/python3.7/dist-packages/torch/autocast_mode.py:141: UserWarning:\n",
            "\n",
            "User provided device_type of 'cuda', but CUDA is not available. Disabling\n",
            "\n"
          ]
        },
        {
          "name": "stdout",
          "output_type": "stream",
          "text": [
            "  42% |███████----------|  42/100 [1.7m elapsed, 2.4m remaining, 0.4 samples/s]  "
          ]
        },
        {
          "name": "stderr",
          "output_type": "stream",
          "text": [
            "/usr/local/lib/python3.7/dist-packages/torch/autocast_mode.py:141: UserWarning:\n",
            "\n",
            "User provided device_type of 'cuda', but CUDA is not available. Disabling\n",
            "\n"
          ]
        },
        {
          "name": "stdout",
          "output_type": "stream",
          "text": [
            "  43% |███████\\---------|  43/100 [1.7m elapsed, 2.3m remaining, 0.4 samples/s]  "
          ]
        },
        {
          "name": "stderr",
          "output_type": "stream",
          "text": [
            "/usr/local/lib/python3.7/dist-packages/torch/autocast_mode.py:141: UserWarning:\n",
            "\n",
            "User provided device_type of 'cuda', but CUDA is not available. Disabling\n",
            "\n"
          ]
        },
        {
          "name": "stdout",
          "output_type": "stream",
          "text": [
            "  44% |███████|---------|  44/100 [1.8m elapsed, 2.3m remaining, 0.4 samples/s]  "
          ]
        },
        {
          "name": "stderr",
          "output_type": "stream",
          "text": [
            "/usr/local/lib/python3.7/dist-packages/torch/autocast_mode.py:141: UserWarning:\n",
            "\n",
            "User provided device_type of 'cuda', but CUDA is not available. Disabling\n",
            "\n"
          ]
        },
        {
          "name": "stdout",
          "output_type": "stream",
          "text": [
            "  45% |███████/---------|  45/100 [1.8m elapsed, 2.3m remaining, 0.4 samples/s]  "
          ]
        },
        {
          "name": "stderr",
          "output_type": "stream",
          "text": [
            "/usr/local/lib/python3.7/dist-packages/torch/autocast_mode.py:141: UserWarning:\n",
            "\n",
            "User provided device_type of 'cuda', but CUDA is not available. Disabling\n",
            "\n"
          ]
        },
        {
          "name": "stdout",
          "output_type": "stream",
          "text": [
            "  46% |███████----------|  46/100 [1.9m elapsed, 2.3m remaining, 0.4 samples/s]  "
          ]
        },
        {
          "name": "stderr",
          "output_type": "stream",
          "text": [
            "/usr/local/lib/python3.7/dist-packages/torch/autocast_mode.py:141: UserWarning:\n",
            "\n",
            "User provided device_type of 'cuda', but CUDA is not available. Disabling\n",
            "\n"
          ]
        },
        {
          "name": "stdout",
          "output_type": "stream",
          "text": [
            "  47% |███████\\---------|  47/100 [1.9m elapsed, 2.3m remaining, 0.4 samples/s]  "
          ]
        },
        {
          "name": "stderr",
          "output_type": "stream",
          "text": [
            "/usr/local/lib/python3.7/dist-packages/torch/autocast_mode.py:141: UserWarning:\n",
            "\n",
            "User provided device_type of 'cuda', but CUDA is not available. Disabling\n",
            "\n"
          ]
        },
        {
          "name": "stdout",
          "output_type": "stream",
          "text": [
            "  48% |████████|--------|  48/100 [2.0m elapsed, 2.2m remaining, 0.4 samples/s]  "
          ]
        },
        {
          "name": "stderr",
          "output_type": "stream",
          "text": [
            "/usr/local/lib/python3.7/dist-packages/torch/autocast_mode.py:141: UserWarning:\n",
            "\n",
            "User provided device_type of 'cuda', but CUDA is not available. Disabling\n",
            "\n"
          ]
        },
        {
          "name": "stdout",
          "output_type": "stream",
          "text": [
            "  49% |████████/--------|  49/100 [2.0m elapsed, 2.2m remaining, 0.4 samples/s]  "
          ]
        },
        {
          "name": "stderr",
          "output_type": "stream",
          "text": [
            "/usr/local/lib/python3.7/dist-packages/torch/autocast_mode.py:141: UserWarning:\n",
            "\n",
            "User provided device_type of 'cuda', but CUDA is not available. Disabling\n",
            "\n"
          ]
        },
        {
          "name": "stdout",
          "output_type": "stream",
          "text": [
            "  50% |████████---------|  50/100 [2.1m elapsed, 2.2m remaining, 0.4 samples/s]  "
          ]
        },
        {
          "name": "stderr",
          "output_type": "stream",
          "text": [
            "/usr/local/lib/python3.7/dist-packages/torch/autocast_mode.py:141: UserWarning:\n",
            "\n",
            "User provided device_type of 'cuda', but CUDA is not available. Disabling\n",
            "\n"
          ]
        },
        {
          "name": "stdout",
          "output_type": "stream",
          "text": [
            "  51% |████████\\--------|  51/100 [2.1m elapsed, 2.1m remaining, 0.4 samples/s]  "
          ]
        },
        {
          "name": "stderr",
          "output_type": "stream",
          "text": [
            "/usr/local/lib/python3.7/dist-packages/torch/autocast_mode.py:141: UserWarning:\n",
            "\n",
            "User provided device_type of 'cuda', but CUDA is not available. Disabling\n",
            "\n"
          ]
        },
        {
          "name": "stdout",
          "output_type": "stream",
          "text": [
            "  52% |████████|--------|  52/100 [2.1m elapsed, 2.1m remaining, 0.4 samples/s]  "
          ]
        },
        {
          "name": "stderr",
          "output_type": "stream",
          "text": [
            "/usr/local/lib/python3.7/dist-packages/torch/autocast_mode.py:141: UserWarning:\n",
            "\n",
            "User provided device_type of 'cuda', but CUDA is not available. Disabling\n",
            "\n"
          ]
        },
        {
          "name": "stdout",
          "output_type": "stream",
          "text": [
            "  53% |█████████/-------|  53/100 [2.2m elapsed, 2.1m remaining, 0.4 samples/s]  "
          ]
        },
        {
          "name": "stderr",
          "output_type": "stream",
          "text": [
            "/usr/local/lib/python3.7/dist-packages/torch/autocast_mode.py:141: UserWarning:\n",
            "\n",
            "User provided device_type of 'cuda', but CUDA is not available. Disabling\n",
            "\n"
          ]
        },
        {
          "name": "stdout",
          "output_type": "stream",
          "text": [
            "  54% |█████████--------|  54/100 [2.2m elapsed, 2.0m remaining, 0.4 samples/s]  "
          ]
        },
        {
          "name": "stderr",
          "output_type": "stream",
          "text": [
            "/usr/local/lib/python3.7/dist-packages/torch/autocast_mode.py:141: UserWarning:\n",
            "\n",
            "User provided device_type of 'cuda', but CUDA is not available. Disabling\n",
            "\n"
          ]
        },
        {
          "name": "stdout",
          "output_type": "stream",
          "text": [
            "  55% |█████████\\-------|  55/100 [2.3m elapsed, 2.0m remaining, 0.4 samples/s]  "
          ]
        },
        {
          "name": "stderr",
          "output_type": "stream",
          "text": [
            "/usr/local/lib/python3.7/dist-packages/torch/autocast_mode.py:141: UserWarning:\n",
            "\n",
            "User provided device_type of 'cuda', but CUDA is not available. Disabling\n",
            "\n"
          ]
        },
        {
          "name": "stdout",
          "output_type": "stream",
          "text": [
            "  56% |█████████|-------|  56/100 [2.3m elapsed, 2.0m remaining, 0.4 samples/s]  "
          ]
        },
        {
          "name": "stderr",
          "output_type": "stream",
          "text": [
            "/usr/local/lib/python3.7/dist-packages/torch/autocast_mode.py:141: UserWarning:\n",
            "\n",
            "User provided device_type of 'cuda', but CUDA is not available. Disabling\n",
            "\n"
          ]
        },
        {
          "name": "stdout",
          "output_type": "stream",
          "text": [
            "  57% |█████████/-------|  57/100 [2.4m elapsed, 1.9m remaining, 0.4 samples/s]  "
          ]
        },
        {
          "name": "stderr",
          "output_type": "stream",
          "text": [
            "/usr/local/lib/python3.7/dist-packages/torch/autocast_mode.py:141: UserWarning:\n",
            "\n",
            "User provided device_type of 'cuda', but CUDA is not available. Disabling\n",
            "\n"
          ]
        },
        {
          "name": "stdout",
          "output_type": "stream",
          "text": [
            "  58% |█████████--------|  58/100 [2.4m elapsed, 1.9m remaining, 0.4 samples/s]  "
          ]
        },
        {
          "name": "stderr",
          "output_type": "stream",
          "text": [
            "/usr/local/lib/python3.7/dist-packages/torch/autocast_mode.py:141: UserWarning:\n",
            "\n",
            "User provided device_type of 'cuda', but CUDA is not available. Disabling\n",
            "\n"
          ]
        },
        {
          "name": "stdout",
          "output_type": "stream",
          "text": [
            "  59% |██████████\\------|  59/100 [2.5m elapsed, 1.8m remaining, 0.4 samples/s]  "
          ]
        },
        {
          "name": "stderr",
          "output_type": "stream",
          "text": [
            "/usr/local/lib/python3.7/dist-packages/torch/autocast_mode.py:141: UserWarning:\n",
            "\n",
            "User provided device_type of 'cuda', but CUDA is not available. Disabling\n",
            "\n"
          ]
        },
        {
          "name": "stdout",
          "output_type": "stream",
          "text": [
            "  60% |██████████|------|  60/100 [2.5m elapsed, 1.8m remaining, 0.4 samples/s]  "
          ]
        },
        {
          "name": "stderr",
          "output_type": "stream",
          "text": [
            "/usr/local/lib/python3.7/dist-packages/torch/autocast_mode.py:141: UserWarning:\n",
            "\n",
            "User provided device_type of 'cuda', but CUDA is not available. Disabling\n",
            "\n"
          ]
        },
        {
          "name": "stdout",
          "output_type": "stream",
          "text": [
            "  61% |██████████/------|  61/100 [2.6m elapsed, 1.7m remaining, 0.4 samples/s]  "
          ]
        },
        {
          "name": "stderr",
          "output_type": "stream",
          "text": [
            "/usr/local/lib/python3.7/dist-packages/torch/autocast_mode.py:141: UserWarning:\n",
            "\n",
            "User provided device_type of 'cuda', but CUDA is not available. Disabling\n",
            "\n"
          ]
        },
        {
          "name": "stdout",
          "output_type": "stream",
          "text": [
            "  62% |██████████-------|  62/100 [2.6m elapsed, 1.7m remaining, 0.4 samples/s]  "
          ]
        },
        {
          "name": "stderr",
          "output_type": "stream",
          "text": [
            "/usr/local/lib/python3.7/dist-packages/torch/autocast_mode.py:141: UserWarning:\n",
            "\n",
            "User provided device_type of 'cuda', but CUDA is not available. Disabling\n",
            "\n"
          ]
        },
        {
          "name": "stdout",
          "output_type": "stream",
          "text": [
            "  63% |██████████\\------|  63/100 [2.6m elapsed, 1.6m remaining, 0.4 samples/s]  "
          ]
        },
        {
          "name": "stderr",
          "output_type": "stream",
          "text": [
            "/usr/local/lib/python3.7/dist-packages/torch/autocast_mode.py:141: UserWarning:\n",
            "\n",
            "User provided device_type of 'cuda', but CUDA is not available. Disabling\n",
            "\n"
          ]
        },
        {
          "name": "stdout",
          "output_type": "stream",
          "text": [
            "  64% |██████████|------|  64/100 [2.7m elapsed, 1.6m remaining, 0.4 samples/s]  "
          ]
        },
        {
          "name": "stderr",
          "output_type": "stream",
          "text": [
            "/usr/local/lib/python3.7/dist-packages/torch/autocast_mode.py:141: UserWarning:\n",
            "\n",
            "User provided device_type of 'cuda', but CUDA is not available. Disabling\n",
            "\n"
          ]
        },
        {
          "name": "stdout",
          "output_type": "stream",
          "text": [
            "  65% |███████████/-----|  65/100 [2.7m elapsed, 1.5m remaining, 0.4 samples/s]  "
          ]
        },
        {
          "name": "stderr",
          "output_type": "stream",
          "text": [
            "/usr/local/lib/python3.7/dist-packages/torch/autocast_mode.py:141: UserWarning:\n",
            "\n",
            "User provided device_type of 'cuda', but CUDA is not available. Disabling\n",
            "\n"
          ]
        },
        {
          "name": "stdout",
          "output_type": "stream",
          "text": [
            "  66% |███████████------|  66/100 [2.8m elapsed, 1.5m remaining, 0.4 samples/s]  "
          ]
        },
        {
          "name": "stderr",
          "output_type": "stream",
          "text": [
            "/usr/local/lib/python3.7/dist-packages/torch/autocast_mode.py:141: UserWarning:\n",
            "\n",
            "User provided device_type of 'cuda', but CUDA is not available. Disabling\n",
            "\n"
          ]
        },
        {
          "name": "stdout",
          "output_type": "stream",
          "text": [
            "  67% |███████████\\-----|  67/100 [2.8m elapsed, 1.4m remaining, 0.4 samples/s]  "
          ]
        },
        {
          "name": "stderr",
          "output_type": "stream",
          "text": [
            "/usr/local/lib/python3.7/dist-packages/torch/autocast_mode.py:141: UserWarning:\n",
            "\n",
            "User provided device_type of 'cuda', but CUDA is not available. Disabling\n",
            "\n"
          ]
        },
        {
          "name": "stdout",
          "output_type": "stream",
          "text": [
            "  68% |███████████|-----|  68/100 [2.9m elapsed, 1.4m remaining, 0.4 samples/s]  "
          ]
        },
        {
          "name": "stderr",
          "output_type": "stream",
          "text": [
            "/usr/local/lib/python3.7/dist-packages/torch/autocast_mode.py:141: UserWarning:\n",
            "\n",
            "User provided device_type of 'cuda', but CUDA is not available. Disabling\n",
            "\n"
          ]
        },
        {
          "name": "stdout",
          "output_type": "stream",
          "text": [
            "  69% |███████████/-----|  69/100 [2.9m elapsed, 1.4m remaining, 0.4 samples/s]  "
          ]
        },
        {
          "name": "stderr",
          "output_type": "stream",
          "text": [
            "/usr/local/lib/python3.7/dist-packages/torch/autocast_mode.py:141: UserWarning:\n",
            "\n",
            "User provided device_type of 'cuda', but CUDA is not available. Disabling\n",
            "\n"
          ]
        },
        {
          "name": "stdout",
          "output_type": "stream",
          "text": [
            "  70% |███████████------|  70/100 [3.0m elapsed, 1.3m remaining, 0.4 samples/s]  "
          ]
        },
        {
          "name": "stderr",
          "output_type": "stream",
          "text": [
            "/usr/local/lib/python3.7/dist-packages/torch/autocast_mode.py:141: UserWarning:\n",
            "\n",
            "User provided device_type of 'cuda', but CUDA is not available. Disabling\n",
            "\n"
          ]
        },
        {
          "name": "stdout",
          "output_type": "stream",
          "text": [
            "  71% |████████████\\----|  71/100 [3.0m elapsed, 1.3m remaining, 0.4 samples/s]  "
          ]
        },
        {
          "name": "stderr",
          "output_type": "stream",
          "text": [
            "/usr/local/lib/python3.7/dist-packages/torch/autocast_mode.py:141: UserWarning:\n",
            "\n",
            "User provided device_type of 'cuda', but CUDA is not available. Disabling\n",
            "\n"
          ]
        },
        {
          "name": "stdout",
          "output_type": "stream",
          "text": [
            "  72% |████████████|----|  72/100 [3.0m elapsed, 1.2m remaining, 0.4 samples/s]  "
          ]
        },
        {
          "name": "stderr",
          "output_type": "stream",
          "text": [
            "/usr/local/lib/python3.7/dist-packages/torch/autocast_mode.py:141: UserWarning:\n",
            "\n",
            "User provided device_type of 'cuda', but CUDA is not available. Disabling\n",
            "\n"
          ]
        },
        {
          "name": "stdout",
          "output_type": "stream",
          "text": [
            "  73% |████████████/----|  73/100 [3.1m elapsed, 1.2m remaining, 0.4 samples/s]  "
          ]
        },
        {
          "name": "stderr",
          "output_type": "stream",
          "text": [
            "/usr/local/lib/python3.7/dist-packages/torch/autocast_mode.py:141: UserWarning:\n",
            "\n",
            "User provided device_type of 'cuda', but CUDA is not available. Disabling\n",
            "\n"
          ]
        },
        {
          "name": "stdout",
          "output_type": "stream",
          "text": [
            "  74% |████████████-----|  74/100 [3.1m elapsed, 1.2m remaining, 0.4 samples/s]  "
          ]
        },
        {
          "name": "stderr",
          "output_type": "stream",
          "text": [
            "/usr/local/lib/python3.7/dist-packages/torch/autocast_mode.py:141: UserWarning:\n",
            "\n",
            "User provided device_type of 'cuda', but CUDA is not available. Disabling\n",
            "\n"
          ]
        },
        {
          "name": "stdout",
          "output_type": "stream",
          "text": [
            "  75% |████████████\\----|  75/100 [3.2m elapsed, 1.1m remaining, 0.4 samples/s]  "
          ]
        },
        {
          "name": "stderr",
          "output_type": "stream",
          "text": [
            "/usr/local/lib/python3.7/dist-packages/torch/autocast_mode.py:141: UserWarning:\n",
            "\n",
            "User provided device_type of 'cuda', but CUDA is not available. Disabling\n",
            "\n"
          ]
        },
        {
          "name": "stdout",
          "output_type": "stream",
          "text": [
            "  76% |████████████|----|  76/100 [3.2m elapsed, 1.1m remaining, 0.4 samples/s]  "
          ]
        },
        {
          "name": "stderr",
          "output_type": "stream",
          "text": [
            "/usr/local/lib/python3.7/dist-packages/torch/autocast_mode.py:141: UserWarning:\n",
            "\n",
            "User provided device_type of 'cuda', but CUDA is not available. Disabling\n",
            "\n"
          ]
        },
        {
          "name": "stdout",
          "output_type": "stream",
          "text": [
            "  77% |█████████████/---|  77/100 [3.3m elapsed, 1.0m remaining, 0.4 samples/s]  "
          ]
        },
        {
          "name": "stderr",
          "output_type": "stream",
          "text": [
            "/usr/local/lib/python3.7/dist-packages/torch/autocast_mode.py:141: UserWarning:\n",
            "\n",
            "User provided device_type of 'cuda', but CUDA is not available. Disabling\n",
            "\n"
          ]
        },
        {
          "name": "stdout",
          "output_type": "stream",
          "text": [
            "  78% |█████████████----|  78/100 [3.3m elapsed, 58.6s remaining, 0.4 samples/s] "
          ]
        },
        {
          "name": "stderr",
          "output_type": "stream",
          "text": [
            "/usr/local/lib/python3.7/dist-packages/torch/autocast_mode.py:141: UserWarning:\n",
            "\n",
            "User provided device_type of 'cuda', but CUDA is not available. Disabling\n",
            "\n"
          ]
        },
        {
          "name": "stdout",
          "output_type": "stream",
          "text": [
            "  79% |█████████████\\---|  79/100 [3.4m elapsed, 56.0s remaining, 0.4 samples/s] "
          ]
        },
        {
          "name": "stderr",
          "output_type": "stream",
          "text": [
            "/usr/local/lib/python3.7/dist-packages/torch/autocast_mode.py:141: UserWarning:\n",
            "\n",
            "User provided device_type of 'cuda', but CUDA is not available. Disabling\n",
            "\n"
          ]
        },
        {
          "name": "stdout",
          "output_type": "stream",
          "text": [
            "  80% |█████████████|---|  80/100 [3.4m elapsed, 53.2s remaining, 0.4 samples/s] "
          ]
        },
        {
          "name": "stderr",
          "output_type": "stream",
          "text": [
            "/usr/local/lib/python3.7/dist-packages/torch/autocast_mode.py:141: UserWarning:\n",
            "\n",
            "User provided device_type of 'cuda', but CUDA is not available. Disabling\n",
            "\n"
          ]
        },
        {
          "name": "stdout",
          "output_type": "stream",
          "text": [
            "  81% |█████████████/---|  81/100 [3.5m elapsed, 50.7s remaining, 0.4 samples/s] "
          ]
        },
        {
          "name": "stderr",
          "output_type": "stream",
          "text": [
            "/usr/local/lib/python3.7/dist-packages/torch/autocast_mode.py:141: UserWarning:\n",
            "\n",
            "User provided device_type of 'cuda', but CUDA is not available. Disabling\n",
            "\n"
          ]
        },
        {
          "name": "stdout",
          "output_type": "stream",
          "text": [
            "  82% |█████████████----|  82/100 [3.5m elapsed, 48.2s remaining, 0.4 samples/s] "
          ]
        },
        {
          "name": "stderr",
          "output_type": "stream",
          "text": [
            "/usr/local/lib/python3.7/dist-packages/torch/autocast_mode.py:141: UserWarning:\n",
            "\n",
            "User provided device_type of 'cuda', but CUDA is not available. Disabling\n",
            "\n"
          ]
        },
        {
          "name": "stdout",
          "output_type": "stream",
          "text": [
            "  83% |██████████████\\--|  83/100 [3.5m elapsed, 45.5s remaining, 0.4 samples/s] "
          ]
        },
        {
          "name": "stderr",
          "output_type": "stream",
          "text": [
            "/usr/local/lib/python3.7/dist-packages/torch/autocast_mode.py:141: UserWarning:\n",
            "\n",
            "User provided device_type of 'cuda', but CUDA is not available. Disabling\n",
            "\n"
          ]
        },
        {
          "name": "stdout",
          "output_type": "stream",
          "text": [
            "  84% |██████████████|--|  84/100 [3.6m elapsed, 42.8s remaining, 0.4 samples/s] "
          ]
        },
        {
          "name": "stderr",
          "output_type": "stream",
          "text": [
            "/usr/local/lib/python3.7/dist-packages/torch/autocast_mode.py:141: UserWarning:\n",
            "\n",
            "User provided device_type of 'cuda', but CUDA is not available. Disabling\n",
            "\n"
          ]
        },
        {
          "name": "stdout",
          "output_type": "stream",
          "text": [
            "  85% |██████████████/--|  85/100 [3.6m elapsed, 40.3s remaining, 0.4 samples/s] "
          ]
        },
        {
          "name": "stderr",
          "output_type": "stream",
          "text": [
            "/usr/local/lib/python3.7/dist-packages/torch/autocast_mode.py:141: UserWarning:\n",
            "\n",
            "User provided device_type of 'cuda', but CUDA is not available. Disabling\n",
            "\n"
          ]
        },
        {
          "name": "stdout",
          "output_type": "stream",
          "text": [
            "  86% |██████████████---|  86/100 [3.7m elapsed, 37.5s remaining, 0.4 samples/s] "
          ]
        },
        {
          "name": "stderr",
          "output_type": "stream",
          "text": [
            "/usr/local/lib/python3.7/dist-packages/torch/autocast_mode.py:141: UserWarning:\n",
            "\n",
            "User provided device_type of 'cuda', but CUDA is not available. Disabling\n",
            "\n"
          ]
        },
        {
          "name": "stdout",
          "output_type": "stream",
          "text": [
            "  87% |██████████████\\--|  87/100 [3.7m elapsed, 34.6s remaining, 0.4 samples/s] "
          ]
        },
        {
          "name": "stderr",
          "output_type": "stream",
          "text": [
            "/usr/local/lib/python3.7/dist-packages/torch/autocast_mode.py:141: UserWarning:\n",
            "\n",
            "User provided device_type of 'cuda', but CUDA is not available. Disabling\n",
            "\n"
          ]
        },
        {
          "name": "stdout",
          "output_type": "stream",
          "text": [
            "  88% |██████████████|--|  88/100 [3.8m elapsed, 32.0s remaining, 0.4 samples/s] "
          ]
        },
        {
          "name": "stderr",
          "output_type": "stream",
          "text": [
            "/usr/local/lib/python3.7/dist-packages/torch/autocast_mode.py:141: UserWarning:\n",
            "\n",
            "User provided device_type of 'cuda', but CUDA is not available. Disabling\n",
            "\n"
          ]
        },
        {
          "name": "stdout",
          "output_type": "stream",
          "text": [
            "  89% |███████████████/-|  89/100 [3.8m elapsed, 29.6s remaining, 0.4 samples/s] "
          ]
        },
        {
          "name": "stderr",
          "output_type": "stream",
          "text": [
            "/usr/local/lib/python3.7/dist-packages/torch/autocast_mode.py:141: UserWarning:\n",
            "\n",
            "User provided device_type of 'cuda', but CUDA is not available. Disabling\n",
            "\n"
          ]
        },
        {
          "name": "stdout",
          "output_type": "stream",
          "text": [
            "  90% |███████████████--|  90/100 [3.9m elapsed, 26.9s remaining, 0.4 samples/s] "
          ]
        },
        {
          "name": "stderr",
          "output_type": "stream",
          "text": [
            "/usr/local/lib/python3.7/dist-packages/torch/autocast_mode.py:141: UserWarning:\n",
            "\n",
            "User provided device_type of 'cuda', but CUDA is not available. Disabling\n",
            "\n"
          ]
        },
        {
          "name": "stdout",
          "output_type": "stream",
          "text": [
            "  91% |███████████████\\-|  91/100 [3.9m elapsed, 24.2s remaining, 0.4 samples/s] "
          ]
        },
        {
          "name": "stderr",
          "output_type": "stream",
          "text": [
            "/usr/local/lib/python3.7/dist-packages/torch/autocast_mode.py:141: UserWarning:\n",
            "\n",
            "User provided device_type of 'cuda', but CUDA is not available. Disabling\n",
            "\n"
          ]
        },
        {
          "name": "stdout",
          "output_type": "stream",
          "text": [
            "  92% |███████████████|-|  92/100 [3.9m elapsed, 21.7s remaining, 0.4 samples/s] "
          ]
        },
        {
          "name": "stderr",
          "output_type": "stream",
          "text": [
            "/usr/local/lib/python3.7/dist-packages/torch/autocast_mode.py:141: UserWarning:\n",
            "\n",
            "User provided device_type of 'cuda', but CUDA is not available. Disabling\n",
            "\n"
          ]
        },
        {
          "name": "stdout",
          "output_type": "stream",
          "text": [
            "  93% |███████████████/-|  93/100 [4.0m elapsed, 19.0s remaining, 0.4 samples/s] "
          ]
        },
        {
          "name": "stderr",
          "output_type": "stream",
          "text": [
            "/usr/local/lib/python3.7/dist-packages/torch/autocast_mode.py:141: UserWarning:\n",
            "\n",
            "User provided device_type of 'cuda', but CUDA is not available. Disabling\n",
            "\n"
          ]
        },
        {
          "name": "stdout",
          "output_type": "stream",
          "text": [
            "  94% |███████████████--|  94/100 [4.0m elapsed, 16.2s remaining, 0.4 samples/s] "
          ]
        },
        {
          "name": "stderr",
          "output_type": "stream",
          "text": [
            "/usr/local/lib/python3.7/dist-packages/torch/autocast_mode.py:141: UserWarning:\n",
            "\n",
            "User provided device_type of 'cuda', but CUDA is not available. Disabling\n",
            "\n"
          ]
        },
        {
          "name": "stdout",
          "output_type": "stream",
          "text": [
            "  95% |████████████████\\|  95/100 [4.1m elapsed, 13.5s remaining, 0.4 samples/s] "
          ]
        },
        {
          "name": "stderr",
          "output_type": "stream",
          "text": [
            "/usr/local/lib/python3.7/dist-packages/torch/autocast_mode.py:141: UserWarning:\n",
            "\n",
            "User provided device_type of 'cuda', but CUDA is not available. Disabling\n",
            "\n"
          ]
        },
        {
          "name": "stdout",
          "output_type": "stream",
          "text": [
            "  96% |████████████████||  96/100 [4.1m elapsed, 10.8s remaining, 0.4 samples/s] "
          ]
        },
        {
          "name": "stderr",
          "output_type": "stream",
          "text": [
            "/usr/local/lib/python3.7/dist-packages/torch/autocast_mode.py:141: UserWarning:\n",
            "\n",
            "User provided device_type of 'cuda', but CUDA is not available. Disabling\n",
            "\n"
          ]
        },
        {
          "name": "stdout",
          "output_type": "stream",
          "text": [
            "  97% |████████████████/|  97/100 [4.2m elapsed, 8.1s remaining, 0.4 samples/s]  "
          ]
        },
        {
          "name": "stderr",
          "output_type": "stream",
          "text": [
            "/usr/local/lib/python3.7/dist-packages/torch/autocast_mode.py:141: UserWarning:\n",
            "\n",
            "User provided device_type of 'cuda', but CUDA is not available. Disabling\n",
            "\n"
          ]
        },
        {
          "name": "stdout",
          "output_type": "stream",
          "text": [
            "  98% |████████████████-|  98/100 [4.2m elapsed, 5.4s remaining, 0.4 samples/s]  "
          ]
        },
        {
          "name": "stderr",
          "output_type": "stream",
          "text": [
            "/usr/local/lib/python3.7/dist-packages/torch/autocast_mode.py:141: UserWarning:\n",
            "\n",
            "User provided device_type of 'cuda', but CUDA is not available. Disabling\n",
            "\n"
          ]
        },
        {
          "name": "stdout",
          "output_type": "stream",
          "text": [
            "  99% |████████████████\\|  99/100 [4.3m elapsed, 2.7s remaining, 0.4 samples/s]  "
          ]
        },
        {
          "name": "stderr",
          "output_type": "stream",
          "text": [
            "/usr/local/lib/python3.7/dist-packages/torch/autocast_mode.py:141: UserWarning:\n",
            "\n",
            "User provided device_type of 'cuda', but CUDA is not available. Disabling\n",
            "\n"
          ]
        },
        {
          "name": "stdout",
          "output_type": "stream",
          "text": [
            " 100% |█████████████████| 100/100 [4.3m elapsed, 0s remaining, 0.4 samples/s]    \n",
            "Finished adding predictions\n"
          ]
        }
      ]
    },
    {
      "cell_type": "code",
      "metadata": {
        "id": "REmbbp4CCepw"
      },
      "source": [
        "session.view=predictions_view"
      ],
      "execution_count": null,
      "outputs": []
    },
    {
      "cell_type": "markdown",
      "metadata": {
        "id": "sOKwVsYzifb0"
      },
      "source": [
        "## Evaluations"
      ]
    },
    {
      "cell_type": "markdown",
      "metadata": {
        "id": "BohLPaRQgNOk"
      },
      "source": [
        "### Look only at High Confidence (>0.75)"
      ]
    },
    {
      "cell_type": "code",
      "metadata": {
        "colab": {
          "base_uri": "https://localhost:8080/"
        },
        "id": "JTUHlinBDtL3",
        "outputId": "46c7169c-0408-41a6-e0f3-35777ee41b58"
      },
      "source": [
        "# Only contains detections with confidence >= 0.75\n",
        "high_conf_view = predictions_view.filter_labels(\"yolov5x\", F(\"confidence\") > 0.75)\n",
        "\n",
        "# Print some information about the view\n",
        "print(high_conf_view)\n",
        "sample = high_conf_view.first()\n",
        "print(sample.yolov5x.detections[0])"
      ],
      "execution_count": null,
      "outputs": [
        {
          "name": "stdout",
          "output_type": "stream",
          "text": [
            "Dataset:     2021.11.27.07.46.40\n",
            "Media type:  image\n",
            "Num samples: 69\n",
            "Tags:        []\n",
            "Sample fields:\n",
            "    id:           fiftyone.core.fields.ObjectIdField\n",
            "    filepath:     fiftyone.core.fields.StringField\n",
            "    tags:         fiftyone.core.fields.ListField(fiftyone.core.fields.StringField)\n",
            "    metadata:     fiftyone.core.fields.EmbeddedDocumentField(fiftyone.core.metadata.Metadata)\n",
            "    ground_truth: fiftyone.core.fields.EmbeddedDocumentField(fiftyone.core.labels.Detections)\n",
            "    yolov5x:      fiftyone.core.fields.EmbeddedDocumentField(fiftyone.core.labels.Detections)\n",
            "View stages:\n",
            "    1. FilterLabels(field='ground_truth', filter={'$and': [{...}, {...}]}, only_matches=True, trajectories=False)\n",
            "    2. Take(size=100, seed=51)\n",
            "    3. FilterLabels(field='yolov5x', filter={'$gt': ['$$this.confidence', 0.75]}, only_matches=True, trajectories=False)\n",
            "<Detection: {\n",
            "    'id': '61a1f5bb102a328cad674995',\n",
            "    'attributes': BaseDict({}),\n",
            "    'tags': BaseList([]),\n",
            "    'label': 'Microwave',\n",
            "    'bounding_box': BaseList([\n",
            "        0.2918283250596788,\n",
            "        0.1424680921766493,\n",
            "        0.43109520806206597,\n",
            "        0.5336982821240838,\n",
            "    ]),\n",
            "    'mask': None,\n",
            "    'confidence': 0.7527753710746765,\n",
            "    'index': None,\n",
            "}>\n"
          ]
        }
      ]
    },
    {
      "cell_type": "code",
      "metadata": {
        "colab": {
          "base_uri": "https://localhost:8080/"
        },
        "id": "jGY2L6isnZcz",
        "outputId": "684706c9-2627-4274-bfbe-cb6c470535d6"
      },
      "source": [
        "# Evaluate the predictions in the `yolov5` field of our `high_conf_view`\n",
        "# with respect to the objects in the `ground_truth` field\n",
        "results = high_conf_view.evaluate_detections(\n",
        "    \"yolov5x\",\n",
        "    gt_field=\"ground_truth\",\n",
        "    eval_key=\"eval\",\n",
        "    compute_mAP=True,\n",
        ")"
      ],
      "execution_count": null,
      "outputs": [
        {
          "name": "stdout",
          "output_type": "stream",
          "text": [
            "Evaluating detections...\n",
            " 100% |███████████████████| 69/69 [2.0s elapsed, 0s remaining, 34.9 samples/s]      \n",
            "Performing IoU sweep...\n",
            " 100% |███████████████████| 69/69 [1.3s elapsed, 0s remaining, 52.8 samples/s]         \n"
          ]
        }
      ]
    },
    {
      "cell_type": "code",
      "metadata": {
        "colab": {
          "base_uri": "https://localhost:8080/"
        },
        "id": "EsU2oVIRnsRF",
        "outputId": "c4bcc971-d318-4d9e-9489-c1cad15ecb0e"
      },
      "source": [
        "# Get the 10 most common classes in the dataset\n",
        "counts = predictions_view.count_values(\"ground_truth.detections.label\")\n",
        "classes_top10 = sorted(counts, key=counts.get, reverse=True)\n",
        "\n",
        "# Print a classification report for the top-10 classes\n",
        "results.print_report(classes=classes_top10)"
      ],
      "execution_count": null,
      "outputs": [
        {
          "name": "stdout",
          "output_type": "stream",
          "text": [
            "                   precision    recall  f1-score   support\n",
            "\n",
            "            Mouse       0.89      0.41      0.56        39\n",
            "       TV_Monitor       0.56      0.49      0.52        37\n",
            "             Book       0.60      0.10      0.17        31\n",
            "              CPU       0.00      0.00      0.00        26\n",
            "         Speakers       0.00      0.00      0.00         6\n",
            "            Chair       0.30      0.94      0.46        18\n",
            "            Board       0.00      0.00      0.00        15\n",
            "         Keyboard       0.92      0.80      0.86        15\n",
            "            Phone       0.00      0.00      0.00        11\n",
            "              Box       0.00      0.00      0.00         9\n",
            "     Potted_Plant       0.38      1.00      0.55         6\n",
            "           Bottle       0.78      0.64      0.70        11\n",
            "        Water_Can       0.00      0.00      0.00         8\n",
            "          Dustbin       0.00      0.00      0.00         5\n",
            "           Remote       0.00      0.00      0.00         6\n",
            "              Fan       0.00      0.00      0.00         3\n",
            "            Clock       1.00      1.00      1.00         5\n",
            "         Cupboard       0.00      0.00      0.00         3\n",
            "Fire_Extinguisher       0.00      0.00      0.00         2\n",
            "         Calendar       0.00      0.00      0.00         2\n",
            "            Table       0.00      0.00      0.00         3\n",
            "     Refrigerator       1.00      0.67      0.80         3\n",
            "            Shelf       0.00      0.00      0.00         2\n",
            "         Backpack       0.00      0.00      0.00         2\n",
            "             Sofa       1.00      1.00      1.00         1\n",
            "        Pen_Stand       0.00      0.00      0.00         1\n",
            "not-a-real-object       0.00      0.00      0.00         0\n",
            "\n",
            "        micro avg       0.55      0.32      0.41       270\n",
            "        macro avg       0.28      0.26      0.24       270\n",
            "     weighted avg       0.42      0.32      0.32       270\n",
            "\n"
          ]
        }
      ]
    },
    {
      "cell_type": "code",
      "metadata": {
        "colab": {
          "base_uri": "https://localhost:8080/"
        },
        "id": "ZMi1eVDJqwEf",
        "outputId": "a5fcb92d-6428-4408-cc94-a8c039af7894"
      },
      "source": [
        "print(results.mAP())"
      ],
      "execution_count": null,
      "outputs": [
        {
          "name": "stdout",
          "output_type": "stream",
          "text": [
            "0.18195901107248796\n"
          ]
        }
      ]
    },
    {
      "cell_type": "code",
      "metadata": {
        "colab": {
          "base_uri": "https://localhost:8080/",
          "height": 542
        },
        "id": "qevb5T4aWa45",
        "outputId": "71d8f132-eb97-4afe-c770-7bfccac9ae88"
      },
      "source": [
        "plot = results.plot_pr_curves(classes=[\"Mouse\", \"TV_Monitor\", \"Chair\", \"Book\"])\n",
        "plot.show()"
      ],
      "execution_count": null,
      "outputs": [
        {
          "data": {
            "text/html": [
              "<html>\n",
              "<head><meta charset=\"utf-8\" /></head>\n",
              "<body>\n",
              "    <div>            <script src=\"https://cdnjs.cloudflare.com/ajax/libs/mathjax/2.7.5/MathJax.js?config=TeX-AMS-MML_SVG\"></script><script type=\"text/javascript\">if (window.MathJax) {MathJax.Hub.Config({SVG: {font: \"STIX-Web\"}});}</script>                <script type=\"text/javascript\">window.PlotlyConfig = {MathJaxConfig: 'local'};</script>\n",
              "        <script src=\"https://cdn.plot.ly/plotly-latest.min.js\"></script>                <div id=\"5759b963-b5a6-45ba-9b71-2b3e8787e227\" class=\"plotly-graph-div\" style=\"height:525px; width:100%;\"></div>            <script type=\"text/javascript\">                                    window.PLOTLYENV=window.PLOTLYENV || {};                                    if (document.getElementById(\"5759b963-b5a6-45ba-9b71-2b3e8787e227\")) {                    Plotly.newPlot(                        \"5759b963-b5a6-45ba-9b71-2b3e8787e227\",                        [{\"hovertemplate\": \"<b>class: %{text}</b><br>recall: %{x}<br>precision: %{y}<extra></extra>\", \"line\": {\"color\": \"#3366CC\"}, \"mode\": \"lines\", \"name\": \"Chair (AP = 0.467)\", \"text\": [\"Chair\", \"Chair\", \"Chair\", \"Chair\", \"Chair\", \"Chair\", \"Chair\", \"Chair\", \"Chair\", \"Chair\", \"Chair\", \"Chair\", \"Chair\", \"Chair\", \"Chair\", \"Chair\", \"Chair\", \"Chair\", \"Chair\", \"Chair\", \"Chair\", \"Chair\", \"Chair\", \"Chair\", \"Chair\", \"Chair\", \"Chair\", \"Chair\", \"Chair\", \"Chair\", \"Chair\", \"Chair\", \"Chair\", \"Chair\", \"Chair\", \"Chair\", \"Chair\", \"Chair\", \"Chair\", \"Chair\", \"Chair\", \"Chair\", \"Chair\", \"Chair\", \"Chair\", \"Chair\", \"Chair\", \"Chair\", \"Chair\", \"Chair\", \"Chair\", \"Chair\", \"Chair\", \"Chair\", \"Chair\", \"Chair\", \"Chair\", \"Chair\", \"Chair\", \"Chair\", \"Chair\", \"Chair\", \"Chair\", \"Chair\", \"Chair\", \"Chair\", \"Chair\", \"Chair\", \"Chair\", \"Chair\", \"Chair\", \"Chair\", \"Chair\", \"Chair\", \"Chair\", \"Chair\", \"Chair\", \"Chair\", \"Chair\", \"Chair\", \"Chair\", \"Chair\", \"Chair\", \"Chair\", \"Chair\", \"Chair\", \"Chair\", \"Chair\", \"Chair\", \"Chair\", \"Chair\", \"Chair\", \"Chair\", \"Chair\", \"Chair\", \"Chair\", \"Chair\", \"Chair\", \"Chair\", \"Chair\", \"Chair\"], \"type\": \"scatter\", \"x\": [0.0, 0.01, 0.02, 0.03, 0.04, 0.05, 0.06, 0.07, 0.08, 0.09, 0.1, 0.11, 0.12, 0.13, 0.14, 0.15, 0.16, 0.17, 0.18, 0.19, 0.2, 0.21, 0.22, 0.23, 0.24, 0.25, 0.26, 0.27, 0.28, 0.29, 0.3, 0.31, 0.32, 0.33, 0.34, 0.35000000000000003, 0.36, 0.37, 0.38, 0.39, 0.4, 0.41000000000000003, 0.42, 0.43, 0.44, 0.45, 0.46, 0.47000000000000003, 0.48, 0.49, 0.5, 0.51, 0.52, 0.53, 0.54, 0.55, 0.56, 0.5700000000000001, 0.58, 0.59, 0.6, 0.61, 0.62, 0.63, 0.64, 0.65, 0.66, 0.67, 0.68, 0.6900000000000001, 0.7000000000000001, 0.71, 0.72, 0.73, 0.74, 0.75, 0.76, 0.77, 0.78, 0.79, 0.8, 0.81, 0.8200000000000001, 0.8300000000000001, 0.84, 0.85, 0.86, 0.87, 0.88, 0.89, 0.9, 0.91, 0.92, 0.93, 0.9400000000000001, 0.9500000000000001, 0.96, 0.97, 0.98, 0.99, 1.0], \"y\": [1.0, 1.0, 1.0, 1.0, 1.0, 1.0, 0.9235294117647058, 0.9235294117647058, 0.9235294117647058, 0.9235294117647058, 0.9235294117647058, 0.9235294117647058, 0.9235294117647058, 0.9235294117647058, 0.9235294117647058, 0.9235294117647058, 0.9235294117647058, 0.9235294117647058, 0.9235294117647058, 0.9235294117647058, 0.9235294117647058, 0.9235294117647058, 0.9235294117647058, 0.5294117647058825, 0.5294117647058825, 0.5294117647058825, 0.5294117647058825, 0.5294117647058825, 0.5294117647058825, 0.5294117647058825, 0.5294117647058825, 0.5294117647058825, 0.5294117647058825, 0.5294117647058825, 0.523529411764706, 0.523529411764706, 0.523529411764706, 0.523529411764706, 0.523529411764706, 0.523529411764706, 0.523529411764706, 0.523529411764706, 0.523529411764706, 0.523529411764706, 0.523529411764706, 0.5044117647058824, 0.5044117647058824, 0.5044117647058824, 0.5044117647058824, 0.5044117647058824, 0.5044117647058824, 0.42941176470588244, 0.42941176470588244, 0.42941176470588244, 0.42941176470588244, 0.42941176470588244, 0.37745098039215697, 0.37745098039215697, 0.37745098039215697, 0.37745098039215697, 0.37745098039215697, 0.37745098039215697, 0.3188888888888889, 0.3188888888888889, 0.3188888888888889, 0.3188888888888889, 0.3188888888888889, 0.25819444444444445, 0.25819444444444445, 0.25819444444444445, 0.25819444444444445, 0.25819444444444445, 0.25819444444444445, 0.2082926829268293, 0.2082926829268293, 0.2082926829268293, 0.2082926829268293, 0.2082926829268293, 0.17225609756097562, 0.17225609756097562, 0.17225609756097562, 0.17225609756097562, 0.17225609756097562, 0.17225609756097562, 0.13076923076923078, 0.13076923076923078, 0.13076923076923078, 0.13076923076923078, 0.13076923076923078, 0.09807692307692309, 0.09807692307692309, 0.09807692307692309, 0.09807692307692309, 0.09807692307692309, 0.09807692307692309, 0.0, 0.0, 0.0, 0.0, 0.0, 0.0]}, {\"hovertemplate\": \"<b>class: %{text}</b><br>recall: %{x}<br>precision: %{y}<extra></extra>\", \"line\": {\"color\": \"#DC3912\"}, \"mode\": \"lines\", \"name\": \"TV_Monitor (AP = 0.307)\", \"text\": [\"TV_Monitor\", \"TV_Monitor\", \"TV_Monitor\", \"TV_Monitor\", \"TV_Monitor\", \"TV_Monitor\", \"TV_Monitor\", \"TV_Monitor\", \"TV_Monitor\", \"TV_Monitor\", \"TV_Monitor\", \"TV_Monitor\", \"TV_Monitor\", \"TV_Monitor\", \"TV_Monitor\", \"TV_Monitor\", \"TV_Monitor\", \"TV_Monitor\", \"TV_Monitor\", \"TV_Monitor\", \"TV_Monitor\", \"TV_Monitor\", \"TV_Monitor\", \"TV_Monitor\", \"TV_Monitor\", \"TV_Monitor\", \"TV_Monitor\", \"TV_Monitor\", \"TV_Monitor\", \"TV_Monitor\", \"TV_Monitor\", \"TV_Monitor\", \"TV_Monitor\", \"TV_Monitor\", \"TV_Monitor\", \"TV_Monitor\", \"TV_Monitor\", \"TV_Monitor\", \"TV_Monitor\", \"TV_Monitor\", \"TV_Monitor\", \"TV_Monitor\", \"TV_Monitor\", \"TV_Monitor\", \"TV_Monitor\", \"TV_Monitor\", \"TV_Monitor\", \"TV_Monitor\", \"TV_Monitor\", \"TV_Monitor\", \"TV_Monitor\", \"TV_Monitor\", \"TV_Monitor\", \"TV_Monitor\", \"TV_Monitor\", \"TV_Monitor\", \"TV_Monitor\", \"TV_Monitor\", \"TV_Monitor\", \"TV_Monitor\", \"TV_Monitor\", \"TV_Monitor\", \"TV_Monitor\", \"TV_Monitor\", \"TV_Monitor\", \"TV_Monitor\", \"TV_Monitor\", \"TV_Monitor\", \"TV_Monitor\", \"TV_Monitor\", \"TV_Monitor\", \"TV_Monitor\", \"TV_Monitor\", \"TV_Monitor\", \"TV_Monitor\", \"TV_Monitor\", \"TV_Monitor\", \"TV_Monitor\", \"TV_Monitor\", \"TV_Monitor\", \"TV_Monitor\", \"TV_Monitor\", \"TV_Monitor\", \"TV_Monitor\", \"TV_Monitor\", \"TV_Monitor\", \"TV_Monitor\", \"TV_Monitor\", \"TV_Monitor\", \"TV_Monitor\", \"TV_Monitor\", \"TV_Monitor\", \"TV_Monitor\", \"TV_Monitor\", \"TV_Monitor\", \"TV_Monitor\", \"TV_Monitor\", \"TV_Monitor\", \"TV_Monitor\", \"TV_Monitor\", \"TV_Monitor\"], \"type\": \"scatter\", \"x\": [0.0, 0.01, 0.02, 0.03, 0.04, 0.05, 0.06, 0.07, 0.08, 0.09, 0.1, 0.11, 0.12, 0.13, 0.14, 0.15, 0.16, 0.17, 0.18, 0.19, 0.2, 0.21, 0.22, 0.23, 0.24, 0.25, 0.26, 0.27, 0.28, 0.29, 0.3, 0.31, 0.32, 0.33, 0.34, 0.35000000000000003, 0.36, 0.37, 0.38, 0.39, 0.4, 0.41000000000000003, 0.42, 0.43, 0.44, 0.45, 0.46, 0.47000000000000003, 0.48, 0.49, 0.5, 0.51, 0.52, 0.53, 0.54, 0.55, 0.56, 0.5700000000000001, 0.58, 0.59, 0.6, 0.61, 0.62, 0.63, 0.64, 0.65, 0.66, 0.67, 0.68, 0.6900000000000001, 0.7000000000000001, 0.71, 0.72, 0.73, 0.74, 0.75, 0.76, 0.77, 0.78, 0.79, 0.8, 0.81, 0.8200000000000001, 0.8300000000000001, 0.84, 0.85, 0.86, 0.87, 0.88, 0.89, 0.9, 0.91, 0.92, 0.93, 0.9400000000000001, 0.9500000000000001, 0.96, 0.97, 0.98, 0.99, 1.0], \"y\": [0.8416666666666668, 0.8416666666666668, 0.8416666666666668, 0.8397435897435898, 0.8397435897435898, 0.8397435897435898, 0.8205128205128205, 0.8205128205128205, 0.8205128205128205, 0.7974358974358975, 0.7974358974358975, 0.7555555555555556, 0.7555555555555556, 0.7555555555555556, 0.7555555555555556, 0.7555555555555556, 0.7555555555555556, 0.7504273504273504, 0.7504273504273504, 0.7504273504273504, 0.7504273504273504, 0.7504273504273504, 0.7348214285714285, 0.7348214285714285, 0.7348214285714285, 0.6428571428571428, 0.6428571428571428, 0.6428571428571428, 0.6342364532019704, 0.6342364532019704, 0.6306650246305419, 0.6306650246305419, 0.6306650246305419, 0.5575, 0.5575, 0.5575, 0.52, 0.52, 0.5055555555555555, 0.5055555555555555, 0.5055555555555555, 0.4114687100893997, 0.4114687100893997, 0.4114687100893997, 0.35310344827586204, 0.35310344827586204, 0.06, 0.06, 0.06, 0.0, 0.0, 0.0, 0.0, 0.0, 0.0, 0.0, 0.0, 0.0, 0.0, 0.0, 0.0, 0.0, 0.0, 0.0, 0.0, 0.0, 0.0, 0.0, 0.0, 0.0, 0.0, 0.0, 0.0, 0.0, 0.0, 0.0, 0.0, 0.0, 0.0, 0.0, 0.0, 0.0, 0.0, 0.0, 0.0, 0.0, 0.0, 0.0, 0.0, 0.0, 0.0, 0.0, 0.0, 0.0, 0.0, 0.0, 0.0, 0.0, 0.0, 0.0, 0.0]}, {\"hovertemplate\": \"<b>class: %{text}</b><br>recall: %{x}<br>precision: %{y}<extra></extra>\", \"line\": {\"color\": \"#FF9900\"}, \"mode\": \"lines\", \"name\": \"Mouse (AP = 0.190)\", \"text\": [\"Mouse\", \"Mouse\", \"Mouse\", \"Mouse\", \"Mouse\", \"Mouse\", \"Mouse\", \"Mouse\", \"Mouse\", \"Mouse\", \"Mouse\", \"Mouse\", \"Mouse\", \"Mouse\", \"Mouse\", \"Mouse\", \"Mouse\", \"Mouse\", \"Mouse\", \"Mouse\", \"Mouse\", \"Mouse\", \"Mouse\", \"Mouse\", \"Mouse\", \"Mouse\", \"Mouse\", \"Mouse\", \"Mouse\", \"Mouse\", \"Mouse\", \"Mouse\", \"Mouse\", \"Mouse\", \"Mouse\", \"Mouse\", \"Mouse\", \"Mouse\", \"Mouse\", \"Mouse\", \"Mouse\", \"Mouse\", \"Mouse\", \"Mouse\", \"Mouse\", \"Mouse\", \"Mouse\", \"Mouse\", \"Mouse\", \"Mouse\", \"Mouse\", \"Mouse\", \"Mouse\", \"Mouse\", \"Mouse\", \"Mouse\", \"Mouse\", \"Mouse\", \"Mouse\", \"Mouse\", \"Mouse\", \"Mouse\", \"Mouse\", \"Mouse\", \"Mouse\", \"Mouse\", \"Mouse\", \"Mouse\", \"Mouse\", \"Mouse\", \"Mouse\", \"Mouse\", \"Mouse\", \"Mouse\", \"Mouse\", \"Mouse\", \"Mouse\", \"Mouse\", \"Mouse\", \"Mouse\", \"Mouse\", \"Mouse\", \"Mouse\", \"Mouse\", \"Mouse\", \"Mouse\", \"Mouse\", \"Mouse\", \"Mouse\", \"Mouse\", \"Mouse\", \"Mouse\", \"Mouse\", \"Mouse\", \"Mouse\", \"Mouse\", \"Mouse\", \"Mouse\", \"Mouse\", \"Mouse\", \"Mouse\"], \"type\": \"scatter\", \"x\": [0.0, 0.01, 0.02, 0.03, 0.04, 0.05, 0.06, 0.07, 0.08, 0.09, 0.1, 0.11, 0.12, 0.13, 0.14, 0.15, 0.16, 0.17, 0.18, 0.19, 0.2, 0.21, 0.22, 0.23, 0.24, 0.25, 0.26, 0.27, 0.28, 0.29, 0.3, 0.31, 0.32, 0.33, 0.34, 0.35000000000000003, 0.36, 0.37, 0.38, 0.39, 0.4, 0.41000000000000003, 0.42, 0.43, 0.44, 0.45, 0.46, 0.47000000000000003, 0.48, 0.49, 0.5, 0.51, 0.52, 0.53, 0.54, 0.55, 0.56, 0.5700000000000001, 0.58, 0.59, 0.6, 0.61, 0.62, 0.63, 0.64, 0.65, 0.66, 0.67, 0.68, 0.6900000000000001, 0.7000000000000001, 0.71, 0.72, 0.73, 0.74, 0.75, 0.76, 0.77, 0.78, 0.79, 0.8, 0.81, 0.8200000000000001, 0.8300000000000001, 0.84, 0.85, 0.86, 0.87, 0.88, 0.89, 0.9, 0.91, 0.92, 0.93, 0.9400000000000001, 0.9500000000000001, 0.96, 0.97, 0.98, 0.99, 1.0], \"y\": [0.9, 0.9, 0.9, 0.9, 0.9, 0.9, 0.6444444444444445, 0.6444444444444445, 0.5666666666666667, 0.5666666666666667, 0.5666666666666667, 0.5222222222222223, 0.5222222222222223, 0.5205128205128206, 0.5205128205128206, 0.5205128205128206, 0.4856410256410257, 0.4856410256410257, 0.43179487179487186, 0.43179487179487186, 0.43179487179487186, 0.42025641025641025, 0.42025641025641025, 0.42025641025641025, 0.37025641025641026, 0.37025641025641026, 0.37025641025641026, 0.37025641025641026, 0.37025641025641026, 0.37025641025641026, 0.37025641025641026, 0.3244444444444444, 0.3244444444444444, 0.3244444444444444, 0.17666666666666667, 0.17666666666666667, 0.17222222222222222, 0.17222222222222222, 0.17222222222222222, 0.08888888888888888, 0.08888888888888888, 0.08888888888888888, 0.0, 0.0, 0.0, 0.0, 0.0, 0.0, 0.0, 0.0, 0.0, 0.0, 0.0, 0.0, 0.0, 0.0, 0.0, 0.0, 0.0, 0.0, 0.0, 0.0, 0.0, 0.0, 0.0, 0.0, 0.0, 0.0, 0.0, 0.0, 0.0, 0.0, 0.0, 0.0, 0.0, 0.0, 0.0, 0.0, 0.0, 0.0, 0.0, 0.0, 0.0, 0.0, 0.0, 0.0, 0.0, 0.0, 0.0, 0.0, 0.0, 0.0, 0.0, 0.0, 0.0, 0.0, 0.0, 0.0, 0.0, 0.0, 0.0]}, {\"hovertemplate\": \"<b>class: %{text}</b><br>recall: %{x}<br>precision: %{y}<extra></extra>\", \"line\": {\"color\": \"#109618\"}, \"mode\": \"lines\", \"name\": \"Book (AP = 0.040)\", \"text\": [\"Book\", \"Book\", \"Book\", \"Book\", \"Book\", \"Book\", \"Book\", \"Book\", \"Book\", \"Book\", \"Book\", \"Book\", \"Book\", \"Book\", \"Book\", \"Book\", \"Book\", \"Book\", \"Book\", \"Book\", \"Book\", \"Book\", \"Book\", \"Book\", \"Book\", \"Book\", \"Book\", \"Book\", \"Book\", \"Book\", \"Book\", \"Book\", \"Book\", \"Book\", \"Book\", \"Book\", \"Book\", \"Book\", \"Book\", \"Book\", \"Book\", \"Book\", \"Book\", \"Book\", \"Book\", \"Book\", \"Book\", \"Book\", \"Book\", \"Book\", \"Book\", \"Book\", \"Book\", \"Book\", \"Book\", \"Book\", \"Book\", \"Book\", \"Book\", \"Book\", \"Book\", \"Book\", \"Book\", \"Book\", \"Book\", \"Book\", \"Book\", \"Book\", \"Book\", \"Book\", \"Book\", \"Book\", \"Book\", \"Book\", \"Book\", \"Book\", \"Book\", \"Book\", \"Book\", \"Book\", \"Book\", \"Book\", \"Book\", \"Book\", \"Book\", \"Book\", \"Book\", \"Book\", \"Book\", \"Book\", \"Book\", \"Book\", \"Book\", \"Book\", \"Book\", \"Book\", \"Book\", \"Book\", \"Book\", \"Book\", \"Book\"], \"type\": \"scatter\", \"x\": [0.0, 0.01, 0.02, 0.03, 0.04, 0.05, 0.06, 0.07, 0.08, 0.09, 0.1, 0.11, 0.12, 0.13, 0.14, 0.15, 0.16, 0.17, 0.18, 0.19, 0.2, 0.21, 0.22, 0.23, 0.24, 0.25, 0.26, 0.27, 0.28, 0.29, 0.3, 0.31, 0.32, 0.33, 0.34, 0.35000000000000003, 0.36, 0.37, 0.38, 0.39, 0.4, 0.41000000000000003, 0.42, 0.43, 0.44, 0.45, 0.46, 0.47000000000000003, 0.48, 0.49, 0.5, 0.51, 0.52, 0.53, 0.54, 0.55, 0.56, 0.5700000000000001, 0.58, 0.59, 0.6, 0.61, 0.62, 0.63, 0.64, 0.65, 0.66, 0.67, 0.68, 0.6900000000000001, 0.7000000000000001, 0.71, 0.72, 0.73, 0.74, 0.75, 0.76, 0.77, 0.78, 0.79, 0.8, 0.81, 0.8200000000000001, 0.8300000000000001, 0.84, 0.85, 0.86, 0.87, 0.88, 0.89, 0.9, 0.91, 0.92, 0.93, 0.9400000000000001, 0.9500000000000001, 0.96, 0.97, 0.98, 0.99, 1.0], \"y\": [0.55, 0.55, 0.55, 0.55, 0.3, 0.3, 0.3, 0.3, 0.3, 0.3, 0.0, 0.0, 0.0, 0.0, 0.0, 0.0, 0.0, 0.0, 0.0, 0.0, 0.0, 0.0, 0.0, 0.0, 0.0, 0.0, 0.0, 0.0, 0.0, 0.0, 0.0, 0.0, 0.0, 0.0, 0.0, 0.0, 0.0, 0.0, 0.0, 0.0, 0.0, 0.0, 0.0, 0.0, 0.0, 0.0, 0.0, 0.0, 0.0, 0.0, 0.0, 0.0, 0.0, 0.0, 0.0, 0.0, 0.0, 0.0, 0.0, 0.0, 0.0, 0.0, 0.0, 0.0, 0.0, 0.0, 0.0, 0.0, 0.0, 0.0, 0.0, 0.0, 0.0, 0.0, 0.0, 0.0, 0.0, 0.0, 0.0, 0.0, 0.0, 0.0, 0.0, 0.0, 0.0, 0.0, 0.0, 0.0, 0.0, 0.0, 0.0, 0.0, 0.0, 0.0, 0.0, 0.0, 0.0, 0.0, 0.0, 0.0, 0.0]}],                        {\"margin\": {\"b\": 0, \"l\": 0, \"r\": 0, \"t\": 30}, \"shapes\": [{\"line\": {\"dash\": \"dash\"}, \"type\": \"line\", \"x0\": 0, \"x1\": 1, \"y0\": 1, \"y1\": 0}], \"template\": {\"data\": {\"bar\": [{\"error_x\": {\"color\": \"rgb(51,51,51)\"}, \"error_y\": {\"color\": \"rgb(51,51,51)\"}, \"marker\": {\"line\": {\"color\": \"rgb(237,237,237)\", \"width\": 0.5}}, \"type\": \"bar\"}], \"barpolar\": [{\"marker\": {\"line\": {\"color\": \"rgb(237,237,237)\", \"width\": 0.5}}, \"type\": \"barpolar\"}], \"carpet\": [{\"aaxis\": {\"endlinecolor\": \"rgb(51,51,51)\", \"gridcolor\": \"white\", \"linecolor\": \"white\", \"minorgridcolor\": \"white\", \"startlinecolor\": \"rgb(51,51,51)\"}, \"baxis\": {\"endlinecolor\": \"rgb(51,51,51)\", \"gridcolor\": \"white\", \"linecolor\": \"white\", \"minorgridcolor\": \"white\", \"startlinecolor\": \"rgb(51,51,51)\"}, \"type\": \"carpet\"}], \"choropleth\": [{\"colorbar\": {\"outlinewidth\": 0, \"tickcolor\": \"rgb(237,237,237)\", \"ticklen\": 6, \"ticks\": \"inside\"}, \"type\": \"choropleth\"}], \"contour\": [{\"colorbar\": {\"outlinewidth\": 0, \"tickcolor\": \"rgb(237,237,237)\", \"ticklen\": 6, \"ticks\": \"inside\"}, \"colorscale\": [[0, \"rgb(20,44,66)\"], [1, \"rgb(90,179,244)\"]], \"type\": \"contour\"}], \"contourcarpet\": [{\"colorbar\": {\"outlinewidth\": 0, \"tickcolor\": \"rgb(237,237,237)\", \"ticklen\": 6, \"ticks\": \"inside\"}, \"type\": \"contourcarpet\"}], \"heatmap\": [{\"colorbar\": {\"outlinewidth\": 0, \"tickcolor\": \"rgb(237,237,237)\", \"ticklen\": 6, \"ticks\": \"inside\"}, \"colorscale\": [[0, \"rgb(20,44,66)\"], [1, \"rgb(90,179,244)\"]], \"type\": \"heatmap\"}], \"heatmapgl\": [{\"colorbar\": {\"outlinewidth\": 0, \"tickcolor\": \"rgb(237,237,237)\", \"ticklen\": 6, \"ticks\": \"inside\"}, \"colorscale\": [[0, \"rgb(20,44,66)\"], [1, \"rgb(90,179,244)\"]], \"type\": \"heatmapgl\"}], \"histogram\": [{\"marker\": {\"colorbar\": {\"outlinewidth\": 0, \"tickcolor\": \"rgb(237,237,237)\", \"ticklen\": 6, \"ticks\": \"inside\"}}, \"type\": \"histogram\"}], \"histogram2d\": [{\"colorbar\": {\"outlinewidth\": 0, \"tickcolor\": \"rgb(237,237,237)\", \"ticklen\": 6, \"ticks\": \"inside\"}, \"colorscale\": [[0, \"rgb(20,44,66)\"], [1, \"rgb(90,179,244)\"]], \"type\": \"histogram2d\"}], \"histogram2dcontour\": [{\"colorbar\": {\"outlinewidth\": 0, \"tickcolor\": \"rgb(237,237,237)\", \"ticklen\": 6, \"ticks\": \"inside\"}, \"colorscale\": [[0, \"rgb(20,44,66)\"], [1, \"rgb(90,179,244)\"]], \"type\": \"histogram2dcontour\"}], \"mesh3d\": [{\"colorbar\": {\"outlinewidth\": 0, \"tickcolor\": \"rgb(237,237,237)\", \"ticklen\": 6, \"ticks\": \"inside\"}, \"type\": \"mesh3d\"}], \"parcoords\": [{\"line\": {\"colorbar\": {\"outlinewidth\": 0, \"tickcolor\": \"rgb(237,237,237)\", \"ticklen\": 6, \"ticks\": \"inside\"}}, \"type\": \"parcoords\"}], \"pie\": [{\"automargin\": true, \"type\": \"pie\"}], \"scatter\": [{\"marker\": {\"colorbar\": {\"outlinewidth\": 0, \"tickcolor\": \"rgb(237,237,237)\", \"ticklen\": 6, \"ticks\": \"inside\"}}, \"type\": \"scatter\"}], \"scatter3d\": [{\"line\": {\"colorbar\": {\"outlinewidth\": 0, \"tickcolor\": \"rgb(237,237,237)\", \"ticklen\": 6, \"ticks\": \"inside\"}}, \"marker\": {\"colorbar\": {\"outlinewidth\": 0, \"tickcolor\": \"rgb(237,237,237)\", \"ticklen\": 6, \"ticks\": \"inside\"}}, \"type\": \"scatter3d\"}], \"scattercarpet\": [{\"marker\": {\"colorbar\": {\"outlinewidth\": 0, \"tickcolor\": \"rgb(237,237,237)\", \"ticklen\": 6, \"ticks\": \"inside\"}}, \"type\": \"scattercarpet\"}], \"scattergeo\": [{\"marker\": {\"colorbar\": {\"outlinewidth\": 0, \"tickcolor\": \"rgb(237,237,237)\", \"ticklen\": 6, \"ticks\": \"inside\"}}, \"type\": \"scattergeo\"}], \"scattergl\": [{\"marker\": {\"colorbar\": {\"outlinewidth\": 0, \"tickcolor\": \"rgb(237,237,237)\", \"ticklen\": 6, \"ticks\": \"inside\"}}, \"type\": \"scattergl\"}], \"scattermapbox\": [{\"marker\": {\"colorbar\": {\"outlinewidth\": 0, \"tickcolor\": \"rgb(237,237,237)\", \"ticklen\": 6, \"ticks\": \"inside\"}}, \"type\": \"scattermapbox\"}], \"scatterpolar\": [{\"marker\": {\"colorbar\": {\"outlinewidth\": 0, \"tickcolor\": \"rgb(237,237,237)\", \"ticklen\": 6, \"ticks\": \"inside\"}}, \"type\": \"scatterpolar\"}], \"scatterpolargl\": [{\"marker\": {\"colorbar\": {\"outlinewidth\": 0, \"tickcolor\": \"rgb(237,237,237)\", \"ticklen\": 6, \"ticks\": \"inside\"}}, \"type\": \"scatterpolargl\"}], \"scatterternary\": [{\"marker\": {\"colorbar\": {\"outlinewidth\": 0, \"tickcolor\": \"rgb(237,237,237)\", \"ticklen\": 6, \"ticks\": \"inside\"}}, \"type\": \"scatterternary\"}], \"surface\": [{\"colorbar\": {\"outlinewidth\": 0, \"tickcolor\": \"rgb(237,237,237)\", \"ticklen\": 6, \"ticks\": \"inside\"}, \"colorscale\": [[0, \"rgb(20,44,66)\"], [1, \"rgb(90,179,244)\"]], \"type\": \"surface\"}], \"table\": [{\"cells\": {\"fill\": {\"color\": \"rgb(237,237,237)\"}, \"line\": {\"color\": \"white\"}}, \"header\": {\"fill\": {\"color\": \"rgb(217,217,217)\"}, \"line\": {\"color\": \"white\"}}, \"type\": \"table\"}]}, \"layout\": {\"annotationdefaults\": {\"arrowhead\": 0, \"arrowwidth\": 1}, \"autotypenumbers\": \"strict\", \"coloraxis\": {\"colorbar\": {\"outlinewidth\": 0, \"tickcolor\": \"rgb(237,237,237)\", \"ticklen\": 6, \"ticks\": \"inside\"}}, \"colorscale\": {\"sequential\": [[0, \"rgb(20,44,66)\"], [1, \"rgb(90,179,244)\"]], \"sequentialminus\": [[0, \"rgb(20,44,66)\"], [1, \"rgb(90,179,244)\"]]}, \"colorway\": [\"#F8766D\", \"#A3A500\", \"#00BF7D\", \"#00B0F6\", \"#E76BF3\"], \"font\": {\"color\": \"rgb(51,51,51)\"}, \"geo\": {\"bgcolor\": \"white\", \"lakecolor\": \"white\", \"landcolor\": \"rgb(237,237,237)\", \"showlakes\": true, \"showland\": true, \"subunitcolor\": \"white\"}, \"hoverlabel\": {\"align\": \"left\"}, \"hovermode\": \"closest\", \"paper_bgcolor\": \"white\", \"plot_bgcolor\": \"rgb(237,237,237)\", \"polar\": {\"angularaxis\": {\"gridcolor\": \"white\", \"linecolor\": \"white\", \"showgrid\": true, \"tickcolor\": \"rgb(51,51,51)\", \"ticks\": \"outside\"}, \"bgcolor\": \"rgb(237,237,237)\", \"radialaxis\": {\"gridcolor\": \"white\", \"linecolor\": \"white\", \"showgrid\": true, \"tickcolor\": \"rgb(51,51,51)\", \"ticks\": \"outside\"}}, \"scene\": {\"xaxis\": {\"backgroundcolor\": \"rgb(237,237,237)\", \"gridcolor\": \"white\", \"gridwidth\": 2, \"linecolor\": \"white\", \"showbackground\": true, \"showgrid\": true, \"tickcolor\": \"rgb(51,51,51)\", \"ticks\": \"outside\", \"zerolinecolor\": \"white\"}, \"yaxis\": {\"backgroundcolor\": \"rgb(237,237,237)\", \"gridcolor\": \"white\", \"gridwidth\": 2, \"linecolor\": \"white\", \"showbackground\": true, \"showgrid\": true, \"tickcolor\": \"rgb(51,51,51)\", \"ticks\": \"outside\", \"zerolinecolor\": \"white\"}, \"zaxis\": {\"backgroundcolor\": \"rgb(237,237,237)\", \"gridcolor\": \"white\", \"gridwidth\": 2, \"linecolor\": \"white\", \"showbackground\": true, \"showgrid\": true, \"tickcolor\": \"rgb(51,51,51)\", \"ticks\": \"outside\", \"zerolinecolor\": \"white\"}}, \"shapedefaults\": {\"fillcolor\": \"black\", \"line\": {\"width\": 0}, \"opacity\": 0.3}, \"ternary\": {\"aaxis\": {\"gridcolor\": \"white\", \"linecolor\": \"white\", \"showgrid\": true, \"tickcolor\": \"rgb(51,51,51)\", \"ticks\": \"outside\"}, \"baxis\": {\"gridcolor\": \"white\", \"linecolor\": \"white\", \"showgrid\": true, \"tickcolor\": \"rgb(51,51,51)\", \"ticks\": \"outside\"}, \"bgcolor\": \"rgb(237,237,237)\", \"caxis\": {\"gridcolor\": \"white\", \"linecolor\": \"white\", \"showgrid\": true, \"tickcolor\": \"rgb(51,51,51)\", \"ticks\": \"outside\"}}, \"xaxis\": {\"automargin\": true, \"gridcolor\": \"white\", \"linecolor\": \"white\", \"showgrid\": true, \"tickcolor\": \"rgb(51,51,51)\", \"ticks\": \"outside\", \"title\": {\"standoff\": 15}, \"zerolinecolor\": \"white\"}, \"yaxis\": {\"automargin\": true, \"gridcolor\": \"white\", \"linecolor\": \"white\", \"showgrid\": true, \"tickcolor\": \"rgb(51,51,51)\", \"ticks\": \"outside\", \"title\": {\"standoff\": 15}, \"zerolinecolor\": \"white\"}}}, \"xaxis\": {\"constrain\": \"domain\", \"range\": [0, 1], \"title\": {\"text\": \"Recall\"}}, \"yaxis\": {\"constrain\": \"domain\", \"range\": [0, 1], \"scaleanchor\": \"x\", \"scaleratio\": 1, \"title\": {\"text\": \"Precision\"}}},                        {\"responsive\": true}                    ).then(function(){\n",
              "                            \n",
              "var gd = document.getElementById('5759b963-b5a6-45ba-9b71-2b3e8787e227');\n",
              "var x = new MutationObserver(function (mutations, observer) {{\n",
              "        var display = window.getComputedStyle(gd).display;\n",
              "        if (!display || display === 'none') {{\n",
              "            console.log([gd, 'removed!']);\n",
              "            Plotly.purge(gd);\n",
              "            observer.disconnect();\n",
              "        }}\n",
              "}});\n",
              "\n",
              "// Listen for the removal of the full notebook cells\n",
              "var notebookContainer = gd.closest('#notebook-container');\n",
              "if (notebookContainer) {{\n",
              "    x.observe(notebookContainer, {childList: true});\n",
              "}}\n",
              "\n",
              "// Listen for the clearing of the current output cell\n",
              "var outputEl = gd.closest('.output');\n",
              "if (outputEl) {{\n",
              "    x.observe(outputEl, {childList: true});\n",
              "}}\n",
              "\n",
              "                        })                };                            </script>        </div>\n",
              "</body>\n",
              "</html>"
            ]
          },
          "metadata": {},
          "output_type": "display_data"
        }
      ]
    },
    {
      "cell_type": "code",
      "metadata": {
        "id": "UUk3CI8mqHbm"
      },
      "source": [
        "session.view=high_conf_view"
      ],
      "execution_count": null,
      "outputs": []
    },
    {
      "cell_type": "markdown",
      "metadata": {
        "id": "aJOH6i5ri0zY"
      },
      "source": [
        "### More insights"
      ]
    },
    {
      "cell_type": "code",
      "metadata": {
        "colab": {
          "base_uri": "https://localhost:8080/"
        },
        "id": "ZRQi4LWfSdP7",
        "outputId": "c69417d7-e15c-45bd-fcdb-cbe874299254"
      },
      "source": [
        "eval_patches = dataset.to_evaluation_patches(\"eval\")\n",
        "print(eval_patches)"
      ],
      "execution_count": null,
      "outputs": [
        {
          "name": "stdout",
          "output_type": "stream",
          "text": [
            "Dataset:     2021.11.27.07.46.40\n",
            "Media type:  image\n",
            "Num patches: 19702\n",
            "Tags:        []\n",
            "Patch fields:\n",
            "    id:           fiftyone.core.fields.ObjectIdField\n",
            "    sample_id:    fiftyone.core.fields.ObjectIdField\n",
            "    filepath:     fiftyone.core.fields.StringField\n",
            "    tags:         fiftyone.core.fields.ListField(fiftyone.core.fields.StringField)\n",
            "    metadata:     fiftyone.core.fields.EmbeddedDocumentField(fiftyone.core.metadata.Metadata)\n",
            "    ground_truth: fiftyone.core.fields.EmbeddedDocumentField(fiftyone.core.labels.Detections)\n",
            "    yolov5x:      fiftyone.core.fields.EmbeddedDocumentField(fiftyone.core.labels.Detections)\n",
            "    crowd:        fiftyone.core.fields.BooleanField\n",
            "    type:         fiftyone.core.fields.StringField\n",
            "    iou:          fiftyone.core.fields.FloatField\n",
            "View stages:\n",
            "    1. ToEvaluationPatches(eval_key='eval', config=None)\n"
          ]
        }
      ]
    },
    {
      "cell_type": "code",
      "metadata": {
        "id": "u2OuM4epX3Kz"
      },
      "source": [
        "# Show samples with most true positives\n",
        "session.view = high_conf_view.sort_by(\"eval_tp\", reverse=True)"
      ],
      "execution_count": null,
      "outputs": []
    },
    {
      "cell_type": "code",
      "metadata": {
        "id": "CjK1VxS9Zp30"
      },
      "source": [
        "# Show samples with most false positives\n",
        "session.view = high_conf_view.sort_by(\"eval_fp\", reverse=True)"
      ],
      "execution_count": null,
      "outputs": []
    },
    {
      "cell_type": "code",
      "metadata": {
        "colab": {
          "resources": {
            "https://localhost:5151/polling?sessionId=9b5316a2-f97a-4518-822d-88e6273d1589": {
              "data": "eyJtZXNzYWdlcyI6IFtdfQ==",
              "headers": [
                [
                  "access-control-allow-headers",
                  "x-requested-with"
                ],
                [
                  "content-type",
                  "text/html; charset=UTF-8"
                ]
              ],
              "ok": true,
              "status": 200,
              "status_text": "OK"
            }
          },
          "base_uri": "https://localhost:8080/",
          "height": 821
        },
        "id": "SbK-GYrFuHbc",
        "outputId": "80140f2e-af1c-413d-f8c3-92c9009e1b45"
      },
      "source": [
        "# Show samples with most false negatives\n",
        "session.view = high_conf_view.sort_by(\"eval_fn\", reverse=True)"
      ],
      "execution_count": null,
      "outputs": [
        {
          "data": {
            "text/html": [
              "\n",
              "<style>\n",
              "\n",
              "@import url(\"https://fonts.googleapis.com/css2?family=Palanquin&display=swap\");\n",
              "\n",
              "#focontainer-a4ff991c-dff5-4911-b540-021542f9d31a {\n",
              "  position: relative;\n",
              "  display: block !important;\n",
              "}\n",
              "#foactivate-a4ff991c-dff5-4911-b540-021542f9d31a {\n",
              "  font-weight: bold;\n",
              "  cursor: pointer;\n",
              "  font-size: 24px;\n",
              "  border-radius: 3px;\n",
              "  text-align: center;\n",
              "  padding: 0.5em;\n",
              "  color: rgb(255, 255, 255);\n",
              "  font-family: \"Palanquin\", sans-serif;\n",
              "  position: absolute;\n",
              "  left: 50%;\n",
              "  top: 50%;\n",
              "  width: 160px;\n",
              "  margin-left: -80px;\n",
              "  margin-top: -23px;\n",
              "  background: hsla(210,11%,15%, 0.8);\n",
              "  border: none;\n",
              "}\n",
              "#foactivate-a4ff991c-dff5-4911-b540-021542f9d31a:focus {\n",
              "  outline: none;\n",
              "}\n",
              "#fooverlay-a4ff991c-dff5-4911-b540-021542f9d31a {\n",
              "  width: 100%;\n",
              "  height: 100%;\n",
              "  background: hsla(208, 7%, 46%, 0.7);\n",
              "  position: absolute;\n",
              "  top: 0;\n",
              "  left: 0;\n",
              "  display: none;\n",
              "  cursor: pointer;\n",
              "}\n",
              "</style>\n",
              "<div id=\"focontainer-a4ff991c-dff5-4911-b540-021542f9d31a\" style=\"display: none;\">\n",
              "   <div id=\"fooverlay-a4ff991c-dff5-4911-b540-021542f9d31a\">\n",
              "      <button id=\"foactivate-a4ff991c-dff5-4911-b540-021542f9d31a\" >Activate</button>\n",
              "   </div>\n",
              "</div>"
            ],
            "text/plain": [
              "<IPython.core.display.HTML object>"
            ]
          },
          "metadata": {},
          "output_type": "display_data"
        }
      ]
    },
    {
      "cell_type": "markdown",
      "metadata": {
        "id": "c3FprWGqeQJY"
      },
      "source": [
        "# Code to convert PASCAL VOC Format Dataset to YOLOv5 Format for Training"
      ]
    },
    {
      "cell_type": "code",
      "metadata": {
        "id": "vlpRwnsNG8UT"
      },
      "source": [
        "testing_view = dataset.take(980, seed=2)"
      ],
      "execution_count": null,
      "outputs": []
    },
    {
      "cell_type": "code",
      "metadata": {
        "id": "k0qXifmAdpsf"
      },
      "source": [
        "# Run once.\n",
        "# testing_view.tag_samples(\"test\")"
      ],
      "execution_count": null,
      "outputs": []
    },
    {
      "cell_type": "code",
      "metadata": {
        "id": "T9aQlIb3bwka"
      },
      "source": [
        "without_testing_view = dataset.exclude_by(\"tags\",\"test\")"
      ],
      "execution_count": null,
      "outputs": []
    },
    {
      "cell_type": "code",
      "metadata": {
        "id": "FdWcwmJPhust"
      },
      "source": [
        "validation_view = without_testing_view.take(1000, seed=50)"
      ],
      "execution_count": null,
      "outputs": []
    },
    {
      "cell_type": "code",
      "metadata": {
        "id": "DuOOt-fKiFGL"
      },
      "source": [
        "# Run once.\n",
        "# validation_view.tag_samples(\"val\")"
      ],
      "execution_count": null,
      "outputs": []
    },
    {
      "cell_type": "code",
      "metadata": {
        "id": "6y71R6X9jf2C"
      },
      "source": [
        "without_testing_val_view = dataset.exclude_by(\"tags\",(\"val\", \"test\"))"
      ],
      "execution_count": null,
      "outputs": []
    },
    {
      "cell_type": "code",
      "metadata": {
        "id": "m-Fp8TdljuED"
      },
      "source": [
        "# Run once.\n",
        "# without_testing_val_view.tag_samples(\"train\")"
      ],
      "execution_count": null,
      "outputs": []
    },
    {
      "cell_type": "code",
      "metadata": {
        "id": "aMriXsaUkmaM"
      },
      "source": [
        "# The directory to which to write the exported dataset\n",
        "# export_dir = \"/content/drive/MyDrive/CS6350TPA_3/YOLOv5-PLA-Dataset\"\n",
        "\n",
        "# The name of the sample field containing the label that you wish to export\n",
        "# Used when exporting labeled datasets (e.g., classification or detection)\n",
        "label_field = \"ground_truth\"\n",
        "\n",
        "# The type of dataset to export\n",
        "# Any subclass of `fiftyone.types.Dataset` is supported\n",
        "dataset_type = fo.types.YOLOv5Dataset\n",
        "\n",
        "# Export the dataset!\n",
        "dataset.exclude_by(\"tags\",(\"val\", \"train\")).export(\n",
        "    export_dir=export_dir,\n",
        "    dataset_type=dataset_type,\n",
        "    label_field=label_field,\n",
        "    data_path=export_dir+\"/images/test\",\n",
        "    labels_path=export_dir+\"/labels/test\",\n",
        ")"
      ],
      "execution_count": null,
      "outputs": []
    }
  ]
}